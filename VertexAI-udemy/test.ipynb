{
 "cells": [
  {
   "cell_type": "code",
   "execution_count": 1,
   "id": "12baf6c4-e19f-40e8-bff4-7a22d59699c8",
   "metadata": {},
   "outputs": [
    {
     "name": "stdout",
     "output_type": "stream",
     "text": [
      "test\n"
     ]
    }
   ],
   "source": [
    "print(\"test\")"
   ]
  },
  {
   "cell_type": "code",
   "execution_count": 2,
   "id": "a42ab48d-88a1-416f-8fee-88c625609c4c",
   "metadata": {},
   "outputs": [
    {
     "name": "stdout",
     "output_type": "stream",
     "text": [
      "hello Vertex AI\n"
     ]
    }
   ],
   "source": [
    "print(\"hello Vertex AI\")"
   ]
  },
  {
   "cell_type": "code",
   "execution_count": 4,
   "id": "d7e6e8e3-1dec-4fef-b86f-2968292cc5c9",
   "metadata": {},
   "outputs": [],
   "source": [
    "from google.auth.transport.requests import Request\n",
    "from google.oauth2.service_account import Credentials\n",
    "api_key_path = \"ai-doc-processing-463120-13d2e83f8b73.json\"\n",
    "project_id = \"ai-doc-processing-463120\"\n",
    "import os\n",
    "credentials = Credentials.from_service_account_file(api_key_path, scopes=[\"https://www.googleapis.com/auth/cloud-platform\"])"
   ]
  },
  {
   "cell_type": "code",
   "execution_count": null,
   "id": "c0fad0b9-2e0b-4b95-a517-18f321bf10c5",
   "metadata": {},
   "outputs": [],
   "source": [
    "region=\"us-central1\"\n",
    "import vertexai\n",
    "vertexai.init(credentials=credentials, project=project_id, location=region)\n",
    "modelname=\"gemini-2.0-flash-001\"\n",
    "from vertexai.generative_models import GenerativeModel\n",
    "model=GenerativeModel(modelname)\n",
    "response = model.generate_content(\"capital city of china\")\n",
    "response.text"
   ]
  },
  {
   "cell_type": "code",
   "execution_count": null,
   "id": "0f9d869c-0caa-49f6-9c5e-56df5fe88d86",
   "metadata": {},
   "outputs": [],
   "source": []
  }
 ],
 "metadata": {
  "kernelspec": {
   "display_name": "Python 3 (ipykernel)",
   "language": "python",
   "name": "python3"
  },
  "language_info": {
   "codemirror_mode": {
    "name": "ipython",
    "version": 3
   },
   "file_extension": ".py",
   "mimetype": "text/x-python",
   "name": "python",
   "nbconvert_exporter": "python",
   "pygments_lexer": "ipython3",
   "version": "3.12.11"
  }
 },
 "nbformat": 4,
 "nbformat_minor": 5
}
