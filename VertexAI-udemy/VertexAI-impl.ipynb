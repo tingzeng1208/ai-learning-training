{
 "cells": [
  {
   "cell_type": "code",
   "execution_count": 1,
   "id": "55a4123e-eba4-46cb-ad27-fd4be2f1b97c",
   "metadata": {},
   "outputs": [
    {
     "name": "stdout",
     "output_type": "stream",
     "text": [
      "hello Vertex AI\n"
     ]
    }
   ],
   "source": [
    "print(\"hello Vertex AI\")"
   ]
  },
  {
   "cell_type": "code",
   "execution_count": 7,
   "id": "9587747c-c845-4222-b5ab-650734192a98",
   "metadata": {},
   "outputs": [],
   "source": [
    "from google.auth.transport.requests import Request\n",
    "from google.oauth2.service_account import Credentials"
   ]
  },
  {
   "cell_type": "code",
   "execution_count": 8,
   "id": "b1b09556-cf97-4ebe-b252-ed10f55bee8e",
   "metadata": {},
   "outputs": [],
   "source": [
    "from google.auth.transport.requests import Request\n",
    "from google.oauth2.service_account import Credentials\n",
    "api_key_path = \"ai-doc-processing-463120-13d2e83f8b73.json\"\n",
    "project_id = \"ai-doc-processing-463120\"\n",
    "import os\n",
    "credentials = Credentials.from_service_account_file(api_key_path, scopes=[\"https://www.googleapis.com/auth/cloud-platform\"])"
   ]
  },
  {
   "cell_type": "code",
   "execution_count": 9,
   "id": "ea22b318-f723-4261-9e24-67f128b2cbbc",
   "metadata": {},
   "outputs": [
    {
     "data": {
      "text/plain": [
       "'Beijing is the capital city of China.\\n'"
      ]
     },
     "execution_count": 9,
     "metadata": {},
     "output_type": "execute_result"
    }
   ],
   "source": [
    "region=\"us-central1\"\n",
    "import vertexai\n",
    "vertexai.init(credentials=credentials, project=project_id, location=region)\n",
    "modelname=\"gemini-2.0-flash-001\"\n",
    "from vertexai.generative_models import GenerativeModel\n",
    "model=GenerativeModel(modelname)\n",
    "response = model.generate_content(\"capital city of china\")\n",
    "response.text"
   ]
  },
  {
   "cell_type": "code",
   "execution_count": 4,
   "id": "7e5d1395-2dfd-475c-a9ba-0842b7058fb7",
   "metadata": {},
   "outputs": [],
   "source": [
    "from vertexai.generative_models import GenerationConfig\n",
    "generation_config = GenerationConfig(\n",
    "    temperature=0.7,\n",
    "    top_p=0.9,\n",
    "    candidate_count=1,\n",
    "    max_output_tokens=1024,\n",
    "    stop_sequences=[\"\\n\"],\n",
    ")"
   ]
  },
  {
   "cell_type": "code",
   "execution_count": 5,
   "id": "7e7d59ae-0210-4298-bbc0-609728d8536d",
   "metadata": {},
   "outputs": [],
   "source": [
    "chat = model.start_chat()"
   ]
  },
  {
   "cell_type": "code",
   "execution_count": 17,
   "id": "7b2b7425-fe91-45db-8be1-ac75225b2156",
   "metadata": {},
   "outputs": [
    {
     "data": {
      "text/plain": [
       "candidates {\n",
       "  content {\n",
       "    role: \"model\"\n",
       "    parts {\n",
       "      text: \"The capital of the United States is **Washington, D.C.**\\n\"\n",
       "    }\n",
       "  }\n",
       "  finish_reason: STOP\n",
       "  avg_logprobs: -0.0020122446119785311\n",
       "}\n",
       "usage_metadata {\n",
       "  prompt_token_count: 6\n",
       "  candidates_token_count: 15\n",
       "  total_token_count: 21\n",
       "  prompt_tokens_details {\n",
       "    modality: TEXT\n",
       "    token_count: 6\n",
       "  }\n",
       "  candidates_tokens_details {\n",
       "    modality: TEXT\n",
       "    token_count: 15\n",
       "  }\n",
       "}\n",
       "model_version: \"gemini-2.0-flash-001\"\n",
       "create_time {\n",
       "  seconds: 1751662144\n",
       "  nanos: 328628000\n",
       "}\n",
       "response_id: \"QD5oaLSHFKTXnvgP3qGboAo\""
      ]
     },
     "execution_count": 17,
     "metadata": {},
     "output_type": "execute_result"
    }
   ],
   "source": [
    "chat.send_message(\"what is capital of us?\")"
   ]
  },
  {
   "cell_type": "code",
   "execution_count": 18,
   "id": "5326d48a-d45b-4145-ab41-a06bb98ce868",
   "metadata": {},
   "outputs": [
    {
     "data": {
      "text/plain": [
       "[role: \"user\"\n",
       " parts {\n",
       "   text: \"what is capital of us?\"\n",
       " },\n",
       " role: \"model\"\n",
       " parts {\n",
       "   text: \"The capital of the United States is **Washington, D.C.**\\n\"\n",
       " }]"
      ]
     },
     "execution_count": 18,
     "metadata": {},
     "output_type": "execute_result"
    }
   ],
   "source": [
    "chat.history"
   ]
  },
  {
   "cell_type": "code",
   "execution_count": 19,
   "id": "fdd59fc4-faba-44fd-afdc-fee5b79c6c87",
   "metadata": {},
   "outputs": [
    {
     "data": {
      "text/plain": [
       "'The capital of the United States is **Washington, D.C.**\\n'"
      ]
     },
     "execution_count": 19,
     "metadata": {},
     "output_type": "execute_result"
    }
   ],
   "source": [
    "chat.send_message(\"what is capital of us?\").text"
   ]
  },
  {
   "cell_type": "code",
   "execution_count": 20,
   "id": "254492ce-7a01-4878-aedb-ba8fc9a15c3c",
   "metadata": {},
   "outputs": [
    {
     "data": {
      "text/plain": [
       "[role: \"user\"\n",
       " parts {\n",
       "   text: \"what is capital of us?\"\n",
       " },\n",
       " role: \"model\"\n",
       " parts {\n",
       "   text: \"The capital of the United States is **Washington, D.C.**\\n\"\n",
       " },\n",
       " role: \"user\"\n",
       " parts {\n",
       "   text: \"what is capital of us?\"\n",
       " },\n",
       " role: \"model\"\n",
       " parts {\n",
       "   text: \"The capital of the United States is **Washington, D.C.**\\n\"\n",
       " }]"
      ]
     },
     "execution_count": 20,
     "metadata": {},
     "output_type": "execute_result"
    }
   ],
   "source": [
    "chat.history"
   ]
  },
  {
   "cell_type": "code",
   "execution_count": 27,
   "id": "a3072ce5-5793-4cdb-9d28-b8f0a42cf565",
   "metadata": {},
   "outputs": [
    {
     "data": {
      "text/plain": [
       "'Yes, I can help you identify letter types based on their text content. Please provide the text, and I will classify it into one of the following categories:\\n\\n*   **HOA (Homeowners Association) General Communication:**  This includes announcements, meeting minutes, newsletters, general policy information, etc.\\n\\n*   **HOA Bills/Statements:** These documents will request payment for HOA fees or assessments.\\n\\n*   **HOA Violation Notices:**  These letters notify residents of a violation of community rules or covenants.\\n\\n*   **Mortgage Statement:**  These detail your mortgage loan balance, payments, and interest.\\n\\n*   **Bank Account Statement:**  These show your account balance, deposits, withdrawals, and other transactions.\\n\\n*   **Credit Card Account Statement:** These show your credit card balance, purchases, payments, interest charges, and available credit.\\n\\n**To get the best results, please provide the full text of the letter or at least a substantial excerpt.**  The more context I have, the more accurate my classification will be.  Also, indicate if you already have a suspicion about what type of letter it is, as this can help guide my analysis.\\n'"
      ]
     },
     "execution_count": 27,
     "metadata": {},
     "output_type": "execute_result"
    }
   ],
   "source": [
    "chat.send_message(\"can you identify letter types by looking at text into categories of HOA, HOA bills, HOA violations, mortgate statement, bank account, credit card account\").text\n",
    "                  "
   ]
  },
  {
   "cell_type": "code",
   "execution_count": 28,
   "id": "d266f3f7-43e6-4f64-bc1e-c81ef76d361c",
   "metadata": {},
   "outputs": [
    {
     "data": {
      "text/plain": [
       "'Okay, let\\'s outline how to develop a multi-agent route planning system using an orchestrator worker workflow within the context of a Google Agent Development Kit (Agent DK).\\n\\n**Understanding the Google Agent DK (Assumptions):**\\n\\nSince there isn\\'t a single, universally known \"Google Agent DK,\" I\\'ll make some educated assumptions based on common Google technologies and tools used for agent development and assume it involves:\\n\\n*   **Vertex AI:** Google\\'s unified platform for machine learning.  This is where you\\'d likely train and deploy AI models for more advanced agent behavior.\\n*   **Dialogflow:**  For conversational interfaces if you want agents that interact with users via natural language.\\n*   **Google Cloud Functions/Cloud Run:** Serverless compute options for running your worker functions.\\n*   **Cloud Scheduler/Workflows:** For orchestrating the workflow.\\n*   **Google Maps Platform:** For map data, routing APIs, and geocoding.\\n*   **Firestore/Cloud Datastore:**  NoSQL databases for storing agent state, task assignments, and other dynamic data.\\n*   **Google Cloud Storage:** For storing larger data files (e.g., map data).\\n\\n**1. Define the Problem and Scope:**\\n\\n(Same as before - key for any route planning system)\\n\\n*   **Number of Agents:**\\n*   **Environment:**\\n*   **Routing Algorithm:**\\n*   **Objectives:**\\n*   **Constraints:**\\n*   **Real-time vs. Batch:**\\n*   **Data Sources:**\\n*   **Google Agent DK Components:** What pre-built services/components are available?\\n\\n**2. Technology Stack:**\\n\\n*   **Orchestrator:** *Google Cloud Workflows* (or potentially a custom solution using Cloud Scheduler and Cloud Functions/Run). Cloud Workflows allows you to define and execute serverless workflows using YAML or code.\\n*   **Workers:** Google Cloud Functions or Cloud Run (for more complex, containerized workloads). Python or Node.js are common choices.\\n*   **Data Storage:** Google Firestore (NoSQL, good for real-time updates) or Google Cloud Datastore (NoSQL, another option). Google Cloud Storage for larger data like map files.\\n*   **Map Data and Routing:** Google Maps Platform (Directions API, Distance Matrix API, Geocoding API). Consider pricing!\\n*   **Agent Logic (Optional):** Vertex AI for training machine learning models to enhance agent behavior (e.g., predicting travel times, optimizing routes based on real-time traffic).\\n*   **Programming Language:** Python (preferred for data science and ML), Node.js (for web-centric tasks).\\n\\n**3. High-Level Architecture:**\\n\\n```\\n[User/System Request] --> [API Gateway (e.g., Cloud Endpoints/API Gateway)] --> [Orchestrator (Google Cloud Workflows)]\\n                                |\\n                                V\\n      [Task 1: Agent Assignment] --> [Worker 1 (Cloud Function/Run)] --> [Assigned Agents, Updated Tasks]\\n                                |\\n                                V\\n      [Task 2: Route Calculation] --> [Worker 2 (Cloud Function/Run)] --> [Routes]\\n                                |\\n                                V\\n      [Task 3: State Management] --> [Worker 3 (Cloud Function/Run)] --> [Updated Agent States, Task Progress]\\n                                |\\n                                V\\n      [Task 4: Visualization]  --> [Worker 4 (Optional - Cloud Function/Run/Data Studio)] --> [Dashboard, Reports]\\n                                |\\n                                V\\n       [Data Storage: Google Firestore, Google Cloud Datastore, Google Cloud Storage]\\n```\\n\\n**4. Detailed Implementation Steps:**\\n\\n*   **Step 1: Google Cloud Setup:**\\n    *   Create a Google Cloud project.\\n    *   Enable the necessary APIs:\\n        *   Google Maps Platform APIs (Directions API, Distance Matrix API, Geocoding API)\\n        *   Cloud Functions API\\n        *   Cloud Run API\\n        *   Cloud Workflows API\\n        *   Firestore API/Cloud Datastore API\\n        *   Cloud Scheduler API (if not using Workflows)\\n        *   Vertex AI API (if using ML models)\\n    *   Create service accounts with appropriate IAM roles for your Cloud Functions/Run instances and Workflows to access the necessary resources.\\n\\n*   **Step 2: Data Preparation & Storage:**\\n    *   Ingest map data (e.g., roads, points of interest) into a format suitable for the Google Maps Platform and your chosen routing algorithm. Consider using libraries like `networkx` (Python) for graph representations.\\n    *   Create Firestore collections or Cloud Datastore entities for:\\n        *   `agents`: Store agent properties (ID, location, capacity, status).\\n        *   `tasks`: Store task details (ID, pickup/dropoff locations, priority, time windows).\\n        *   `routes`: Store calculated routes (agent ID, sequence of waypoints, total distance/time).\\n\\n*   **Step 3: Worker Function Implementation (Python/Node.js):**\\n    *   **Worker 1: Agent Assignment (assign_agent.py or assign_agent.js):**\\n        ```python\\n        # Python example (Google Cloud Function)\\n        import functions_framework\\n        import google.cloud.firestore\\n        import json\\n        import googlemaps  # Google Maps Platform client\\n\\n        @functions_framework.http\\n        def assign_agent(request):\\n            \"\"\"Assigns a task to the nearest available agent.\"\"\"\\n            request_json = request.get_json(silent=True)\\n            if not request_json or \"task_id\" not in request_json:\\n                return \"Please provide a task_id in the request body\", 400\\n\\n            task_id = request_json[\"task_id\"]\\n\\n            db = google.cloud.firestore.Client()\\n            agents_ref = db.collection(\"agents\")\\n            tasks_ref = db.collection(\"tasks\")\\n\\n            # Find available agents\\n            available_agents = agents_ref.where(\"status\", \"==\", \"available\").get()\\n            if not available_agents:\\n                return \"No agents available\", 404\\n\\n            # Get task details\\n            task_doc = tasks_ref.document(task_id).get()\\n            if not task_doc.exists:\\n                return \"Task not found\", 404\\n            task = task_doc.to_dict()\\n\\n            # Use Google Maps Distance Matrix API to find the nearest agent\\n            gmaps = googlemaps.Client(key=\"YOUR_GOOGLE_MAPS_API_KEY\")  # Replace with your API key\\n            agent_locations = [agent.to_dict()[\"location\"] for agent in available_agents]\\n            distances = gmaps.distance_matrix(agent_locations, [task[\"pickup_location\"]])\\n\\n            # Find the closest agent\\n            closest_agent_index = distances[\"rows\"][0][\"elements\"].index(min(distances[\"rows\"][0][\"elements\"]))\\n            closest_agent = available_agents[closest_agent_index]\\n\\n            # Update agent and task status in Firestore\\n            agents_ref.document(closest_agent.id).update({\"status\": \"assigned\"})\\n            tasks_ref.document(task_id).update({\"assigned_agent\": closest_agent.id, \"status\": \"assigned\"})\\n\\n            return json.dumps({\"task_id\": task_id, \"agent_id\": closest_agent.id}), 200, {\\'Content-Type\\': \\'application/json\\'}\\n        ```\\n\\n    *   **Worker 2: Route Calculation (calculate_route.py or calculate_route.js):**\\n        ```python\\n        # Python example (Google Cloud Function)\\n        import functions_framework\\n        import googlemaps\\n        import json\\n        import google.cloud.firestore\\n\\n        @functions_framework.http\\n        def calculate_route(request):\\n            \"\"\"Calculates a route between two points using Google Maps Directions API.\"\"\"\\n            request_json = request.get_json(silent=True)\\n            if not request_json or \"task_id\" not in request_json or \"agent_id\" not in request_json:\\n                return \"Missing task_id or agent_id in request body\", 400\\n\\n            task_id = request_json[\"task_id\"]\\n            agent_id = request_json[\"agent_id\"]\\n\\n            db = google.cloud.firestore.Client()\\n            agents_ref = db.collection(\"agents\")\\n            tasks_ref = db.collection(\"tasks\")\\n            routes_ref = db.collection(\"routes\")\\n\\n            # Get agent and task information from Firestore\\n            agent_doc = agents_ref.document(agent_id).get()\\n            task_doc = tasks_ref.document(task_id).get()\\n            if not agent_doc.exists or not task_doc.exists:\\n                return \"Agent or Task not found\", 404\\n            agent = agent_doc.to_dict()\\n            task = task_doc.to_dict()\\n\\n            # Call Google Maps Directions API\\n            gmaps = googlemaps.Client(key=\"YOUR_GOOGLE_MAPS_API_KEY\")  # Replace with your API key\\n            directions_result = gmaps.directions(task[\"pickup_location\"], task[\"dropoff_location\"], mode=\"driving\")\\n\\n            if not directions_result:\\n                return \"Route not found\", 404\\n\\n            # Extract route information (waypoints, distance, duration)\\n            waypoints = [step[\"html_instructions\"] for step in directions_result[0][\"legs\"][0][\"steps\"]] # or lat/lng as needed.\\n            total_distance = directions_result[0][\"legs\"][0][\"distance\"][\"value\"]  # in meters\\n            total_duration = directions_result[0][\"legs\"][0][\"duration\"][\"value\"]  # in seconds\\n\\n            # Store the route in Firestore\\n            route_data = {\\n                \"agent_id\": agent_id,\\n                \"task_id\": task_id,\\n                \"waypoints\": waypoints,\\n                \"total_distance\": total_distance,\\n                \"total_duration\": total_duration\\n            }\\n            routes_ref.add(route_data)\\n\\n            return json.dumps(route_data), 200, {\\'Content-Type\\': \\'application/json\\'}\\n\\n        ```\\n\\n    *   **Worker 3: State Management (manage_state.py or manage_state.js):**\\n        ```python\\n        # Python example (Google Cloud Function)\\n        import functions_framework\\n        import google.cloud.firestore\\n        import json\\n\\n        @functions_framework.http\\n        def manage_state(request):\\n            \"\"\"Updates the state of an agent and/or task.\"\"\"\\n            request_json = request.get_json(silent=True)\\n            if not request_json:\\n                return \"No request body provided\", 400\\n\\n            agent_id = request_json.get(\"agent_id\")\\n            task_id = request_json.get(\"task_id\")\\n            state = request_json.get(\"state\")\\n\\n            if not agent_id and not task_id:\\n                return \"agent_id or task_id required\", 400\\n            if not state:\\n                return \"state is required\", 400\\n\\n            db = google.cloud.firestore.Client()\\n\\n            if agent_id:\\n                agent_ref = db.collection(\"agents\").document(agent_id)\\n                agent_ref.update({\"status\": state})\\n            if task_id:\\n                task_ref = db.collection(\"tasks\").document(task_id)\\n                task_ref.update({\"status\": state})\\n\\n            return json.dumps({\"message\": \"State updated\"}), 200, {\\'Content-Type\\': \\'application/json\\'}\\n        ```\\n\\n    *   **Cloud Function/Run Deployment:**\\n        *   Deploy each Python script as a Google Cloud Function or as a containerized service using Cloud Run.\\n        *   Configure the function\\'s trigger (HTTP trigger is common).\\n        *   Install the necessary Python packages (e.g., `google-cloud-firestore`, `googlemaps`) using `pip install -t .` and deploying those packages. Alternatively, use container images for better dependency management.\\n        *   Set the `GOOGLE_APPLICATION_CREDENTIALS` environment variable to point to your service account key file (or use the default service account).\\n        *   Set the `GOOGLE_MAPS_API_KEY` environment variable with your Google Maps Platform API key.\\n\\n*   **Step 4: Google Cloud Workflows Orchestration:**\\n\\n    ```yaml\\n    # workflow.yaml\\n    main:\\n      params: [event]\\n      steps:\\n        - assignAgent:\\n            call: http.post\\n            args:\\n              url: \"YOUR_AGENT_ASSIGNMENT_FUNCTION_URL\"  # Replace with your function URL\\n              body:\\n                task_id: ${event.data.task_id}\\n              auth:\\n                type: OIDC\\n            result: assignAgentResult\\n\\n        - calculateRoute:\\n            call: http.post\\n            args:\\n              url: \"YOUR_ROUTE_CALCULATION_FUNCTION_URL\"  # Replace with your function URL\\n              body:\\n                task_id: ${event.data.task_id}\\n                agent_id: ${assignAgentResult.body.agent_id}\\n              auth:\\n                type: OIDC\\n            result: calculateRouteResult\\n\\n        - manageState:\\n            call: http.post\\n            args:\\n              url: \"YOUR_STATE_MANAGEMENT_FUNCTION_URL\"  # Replace with your function URL\\n              body:\\n                task_id: ${event.data.task_id}\\n                agent_id: ${assignAgentResult.body.agent_id}\\n                state: \"enroute\"\\n              auth:\\n                type: OIDC\\n            result: manageStateResult\\n\\n        - returnResult:\\n            return: ${\"Task assigned to agent and route calculated\"}\\n    ```\\n\\n    *   Create a `workflow.yaml` file defining your workflow.\\n    *   Replace the placeholder URLs with the actual URLs of your Cloud Functions/Run instances.\\n    *   Deploy the workflow using the `gcloud workflows deploy` command.\\n\\n*   **Step 5: Triggering the Workflow:**\\n\\n    *   **Option 1: HTTP Trigger (API Gateway):**\\n        *   Use Google Cloud Endpoints or API Gateway to expose a public API endpoint that receives task requests.\\n        *   Configure the API Gateway to trigger your Cloud Workflow when a new task request is received.\\n\\n    *   **Option 2: Cloud Scheduler/Pub/Sub:**\\n        *   Use Cloud Scheduler to periodically send messages to a Pub/Sub topic.\\n        *   Configure your Cloud Workflow to be triggered by messages published to the Pub/Sub topic. This is useful for batch processing scenarios.\\n\\n*   **Step 6: Monitoring & Visualization (Optional):**\\n\\n    *   Use Google Cloud Monitoring to track the performance of your Cloud Functions, Cloud Run, Workflows, and Firestore.\\n    *   Create a dashboard in Google Data Studio to visualize agent locations, task progress, and route information. Connect Data Studio to your Firestore data.\\n\\n**5. Key Considerations & Scalability:**\\n\\n*   **Google Maps Platform Costs:** Be *very* mindful of the Google Maps Platform pricing. Using the Directions API and Distance Matrix API can quickly become expensive. Cache results where possible and optimize your queries. Consider using simpler distance calculations if high accuracy isn\\'t required.\\n*   **Firestore Scalability:** Firestore is a scalable NoSQL database, but you should still optimize your queries and data model for performance.\\n*   **Concurrency:** Cloud Functions and Cloud Run are designed for concurrency.  However, if your routing algorithm is computationally expensive, you may need to increase the number of concurrent function instances.\\n*   **Error Handling:** Implement robust error handling in all components of your system, including Cloud Functions and the Cloud Workflow. Use try-except blocks and logging to capture and handle exceptions.\\n*   **Authentication:** Secure your Cloud Functions and APIs using Identity and Access Management (IAM) and API keys.\\n*   **Task Queues:** For more complex scenarios, consider using Google Cloud Tasks to queue tasks for processing. This can help improve the reliability and scalability of your system.\\n*   **Vertex AI (Agent Logic):** For more intelligent agent behavior, you can train machine learning models using Vertex AI. For example:\\n    *   **Predicting Travel Times:** Train a model to predict travel times based on historical traffic data and other factors.\\n    *   **Optimizing Routes:** Train a model to optimize routes based on real-time conditions and agent objectives.\\n    *   **Prioritizing Tasks:**  Train a model to dynamically prioritize tasks based on their importance and urgency.\\n\\n**6. Google Agent DK Advantages:**\\n\\n*   **Serverless Architecture:** Cloud Functions and Workflows provide a serverless architecture, which simplifies deployment and scaling.\\n*   **Managed Services:** Google Cloud manages the underlying infrastructure, so you don\\'t have to worry about server maintenance or patching.\\n*   **Integration with Google Maps Platform:** Seamless integration with Google Maps Platform for map data and routing APIs.\\n*   **Scalability:** Google Cloud\\'s infrastructure is highly scalable, so you can easily handle a large number of agents and tasks.\\n*   **Machine Learning Capabilities:** Vertex AI provides powerful machine learning capabilities for enhancing agent behavior.\\n\\nThis comprehensive guide should help you get started with building your multi-agent routing system in the Google Cloud environment.  Remember to adapt the steps and code examples to your specific needs and the capabilities of your assumed Google Agent DK components. Good luck!\\n'"
      ]
     },
     "execution_count": 28,
     "metadata": {},
     "output_type": "execute_result"
    }
   ],
   "source": [
    "chat.send_message(\"I want to develop a route multiple agent system for the above using orchester worker workflow, how to do it in google Agent DK?\").text\n"
   ]
  },
  {
   "cell_type": "code",
   "execution_count": null,
   "id": "a97c26b8-384e-4e80-9e10-2952c433a15e",
   "metadata": {},
   "outputs": [],
   "source": []
  }
 ],
 "metadata": {
  "kernelspec": {
   "display_name": "Python 3 (ipykernel)",
   "language": "python",
   "name": "python3"
  },
  "language_info": {
   "codemirror_mode": {
    "name": "ipython",
    "version": 3
   },
   "file_extension": ".py",
   "mimetype": "text/x-python",
   "name": "python",
   "nbconvert_exporter": "python",
   "pygments_lexer": "ipython3",
   "version": "3.13.4"
  }
 },
 "nbformat": 4,
 "nbformat_minor": 5
}
