{
 "cells": [
  {
   "cell_type": "markdown",
   "metadata": {},
   "source": [
    "___\n",
    "\n",
    "<a href='https://www.udemy.com/user/joseportilla/'><img src='../Pierian_Data_Logo.png'/></a>\n",
    "___\n",
    "<center><em>Content Copyright by Pierian Data</em></center>"
   ]
  },
  {
   "cell_type": "markdown",
   "metadata": {},
   "source": [
    "# Guide to Web Scraping\n",
    "\n",
    "Let's get you started with web scraping and Python. Before we begin, here are some important rules to follow and understand:\n",
    "\n",
    "1. Always be respectful and try to get premission to scrape, do not bombard a website with scraping requests, otherwise your IP address may be blocked!\n",
    "2. Be aware that websites change often, meaning your code could go from working to totally broken from one day to the next.\n",
    "3. Pretty much every web scraping project of interest is a unique and custom job, so try your best to generalize the skills learned here.\n",
    "\n",
    "OK, let's get started with the basics!\n",
    "\n",
    "## Basic components of a WebSite\n",
    "\n",
    "### HTML\n",
    "HTML stands for  Hypertext Markup Language and every website on the internet uses it to display information. Even the jupyter notebook system uses it to display this information in your browser. If you right click on a website and select \"View Page Source\" you can see the raw HTML of a web page. This is the information that Python will be looking at to grab information from. Let's take a look at a simple webpage's HTML:\n",
    "\n",
    "    <!DOCTYPE html>  \n",
    "    <html>  \n",
    "        <head>\n",
    "            <title>Title on Browser Tab</title>\n",
    "        </head>\n",
    "        <body>\n",
    "            <h1> Website Header </h1>\n",
    "            <p> Some Paragraph </p>\n",
    "        <body>\n",
    "    </html>"
   ]
  },
  {
   "cell_type": "markdown",
   "metadata": {},
   "source": [
    "Let's breakdown these components.\n",
    "\n",
    "Every <tag> indicates a specific block type on the webpage:\n",
    "\n",
    "    1.<DOCTYPE html> HTML documents will always start with this type declaration, letting the browser know its an HTML file.\n",
    "    2. The component blocks of the HTML document are placed between <html> and </html>.\n",
    "    3. Meta data and script connections (like a link to a CSS file or a JS file) are often placed in the <head> block.\n",
    "    4. The <title> tag block defines the title of the webpage (its what shows up in the tab of a website you're visiting).\n",
    "    5. Is between <body> and </body> tags are the blocks that will be visible to the site visitor.\n",
    "    6. Headings are defined by the <h1> through <h6> tags, where the number represents the size of the heading.\n",
    "    7. Paragraphs are defined by the <p> tag, this is essentially just normal text on the website.\n",
    "\n",
    "    There are many more tags than just these, such as <a> for hyperlinks, <table> for tables, <tr> for table rows, and <td> for table columns, and more!"
   ]
  },
  {
   "cell_type": "markdown",
   "metadata": {},
   "source": [
    "### CSS\n",
    "\n",
    "CSS stands for Cascading Style Sheets, this is what gives \"style\" to a website, including colors and fonts, and even some animations! CSS uses tags such as **id** or **class** to connect an HTML element to a CSS feature, such as a particular color. **id** is a unique id for an HTML tag and must be unique within the HTML document, basically a single use connection. **class** defines a general style that can then be linked to multiple HTML tags. Basically if you only want a single html tag to be red, you would use an id tag, if you wanted several HTML tags/blocks to be red, you would create a class in your CSS doc and then link it to the rest of these blocks."
   ]
  },
  {
   "cell_type": "markdown",
   "metadata": {},
   "source": [
    "### Scraping Guidelines\n",
    "\n",
    "Keep in mind you should always have permission for the website you are scraping! Check a websites terms and conditions for more info. Also keep in mind that a computer can send requests to a website very fast, so a website may block your computer's ip address if you send too many requests too quickly. Lastly, websites change all the time! You will most likely need to update your code often for long term web-scraping jobs."
   ]
  },
  {
   "cell_type": "markdown",
   "metadata": {},
   "source": [
    "## Web Scraping with Python\n",
    "\n",
    "There are a few libraries you will need, you can go to your command line and install them with conda install (if you are using anaconda distribution), or pip install for other python distributions.\n",
    "\n",
    "    conda install requests\n",
    "    conda install lxml\n",
    "    conda install bs4\n",
    "    \n",
    "if you are not using the Anaconda Installation, you can use **pip install** instead of **conda install**, for example:\n",
    "\n",
    "    pip install requests\n",
    "    pip install lxml\n",
    "    pip install bs4\n",
    "    \n",
    "Now let's see what we can do with these libraries.\n",
    "\n",
    "----"
   ]
  },
  {
   "cell_type": "markdown",
   "metadata": {},
   "source": [
    "### Example Task 0 - Grabbing the title of a page\n",
    "\n",
    "Let's start very simple, we will grab the title of a page. Remember that this is the HTML block with the **title** tag. For this task we will use **www.example.com** which is a website specifically made to serve as an example domain. Let's go through the main steps:"
   ]
  },
  {
   "cell_type": "code",
   "execution_count": 1,
   "metadata": {},
   "outputs": [],
   "source": [
    "import requests"
   ]
  },
  {
   "cell_type": "code",
   "execution_count": 2,
   "metadata": {},
   "outputs": [],
   "source": [
    "# Step 1: Use the requests library to grab the page\n",
    "# Note, this may fail if you have a firewall blocking Python/Jupyter \n",
    "# Note sometimes you need to run this twice if it fails the first time\n",
    "res = requests.get(\"http://www.example.com\")"
   ]
  },
  {
   "cell_type": "markdown",
   "metadata": {},
   "source": [
    "This object is a requests.models.Response object and it actually contains the information from the website, for example:"
   ]
  },
  {
   "cell_type": "code",
   "execution_count": 3,
   "metadata": {},
   "outputs": [
    {
     "data": {
      "text/plain": [
       "requests.models.Response"
      ]
     },
     "execution_count": 3,
     "metadata": {},
     "output_type": "execute_result"
    }
   ],
   "source": [
    "type(res)"
   ]
  },
  {
   "cell_type": "code",
   "execution_count": 4,
   "metadata": {},
   "outputs": [
    {
     "data": {
      "text/plain": [
       "'<!doctype html>\\n<html>\\n<head>\\n    <title>Example Domain</title>\\n\\n    <meta charset=\"utf-8\" />\\n    <meta http-equiv=\"Content-type\" content=\"text/html; charset=utf-8\" />\\n    <meta name=\"viewport\" content=\"width=device-width, initial-scale=1\" />\\n    <style type=\"text/css\">\\n    body {\\n        background-color: #f0f0f2;\\n        margin: 0;\\n        padding: 0;\\n        font-family: -apple-system, system-ui, BlinkMacSystemFont, \"Segoe UI\", \"Open Sans\", \"Helvetica Neue\", Helvetica, Arial, sans-serif;\\n        \\n    }\\n    div {\\n        width: 600px;\\n        margin: 5em auto;\\n        padding: 2em;\\n        background-color: #fdfdff;\\n        border-radius: 0.5em;\\n        box-shadow: 2px 3px 7px 2px rgba(0,0,0,0.02);\\n    }\\n    a:link, a:visited {\\n        color: #38488f;\\n        text-decoration: none;\\n    }\\n    @media (max-width: 700px) {\\n        div {\\n            margin: 0 auto;\\n            width: auto;\\n        }\\n    }\\n    </style>    \\n</head>\\n\\n<body>\\n<div>\\n    <h1>Example Domain</h1>\\n    <p>This domain is for use in illustrative examples in documents. You may use this\\n    domain in literature without prior coordination or asking for permission.</p>\\n    <p><a href=\"https://www.iana.org/domains/example\">More information...</a></p>\\n</div>\\n</body>\\n</html>\\n'"
      ]
     },
     "execution_count": 4,
     "metadata": {},
     "output_type": "execute_result"
    }
   ],
   "source": [
    "res.text"
   ]
  },
  {
   "cell_type": "markdown",
   "metadata": {},
   "source": [
    "____\n",
    "Now we use BeautifulSoup to analyze the extracted page. Technically we could use our own custom script to loook for items in the string of **res.text** but the BeautifulSoup library already has lots of built-in tools and methods to grab information from a string of this nature (basically an HTML file). Using BeautifulSoup we can create a \"soup\" object that contains all the \"ingredients\" of the webpage. Don't ask me about the weird library names, I didn't choose them! :)"
   ]
  },
  {
   "cell_type": "code",
   "execution_count": 5,
   "metadata": {},
   "outputs": [],
   "source": [
    "import bs4"
   ]
  },
  {
   "cell_type": "code",
   "execution_count": 6,
   "metadata": {},
   "outputs": [],
   "source": [
    "soup = bs4.BeautifulSoup(res.text,\"lxml\")"
   ]
  },
  {
   "cell_type": "code",
   "execution_count": 7,
   "metadata": {},
   "outputs": [
    {
     "data": {
      "text/plain": [
       "<!DOCTYPE html>\n",
       "<html>\n",
       "<head>\n",
       "<title>Example Domain</title>\n",
       "<meta charset=\"utf-8\"/>\n",
       "<meta content=\"text/html; charset=utf-8\" http-equiv=\"Content-type\"/>\n",
       "<meta content=\"width=device-width, initial-scale=1\" name=\"viewport\"/>\n",
       "<style type=\"text/css\">\n",
       "    body {\n",
       "        background-color: #f0f0f2;\n",
       "        margin: 0;\n",
       "        padding: 0;\n",
       "        font-family: -apple-system, system-ui, BlinkMacSystemFont, \"Segoe UI\", \"Open Sans\", \"Helvetica Neue\", Helvetica, Arial, sans-serif;\n",
       "        \n",
       "    }\n",
       "    div {\n",
       "        width: 600px;\n",
       "        margin: 5em auto;\n",
       "        padding: 2em;\n",
       "        background-color: #fdfdff;\n",
       "        border-radius: 0.5em;\n",
       "        box-shadow: 2px 3px 7px 2px rgba(0,0,0,0.02);\n",
       "    }\n",
       "    a:link, a:visited {\n",
       "        color: #38488f;\n",
       "        text-decoration: none;\n",
       "    }\n",
       "    @media (max-width: 700px) {\n",
       "        div {\n",
       "            margin: 0 auto;\n",
       "            width: auto;\n",
       "        }\n",
       "    }\n",
       "    </style>\n",
       "</head>\n",
       "<body>\n",
       "<div>\n",
       "<h1>Example Domain</h1>\n",
       "<p>This domain is for use in illustrative examples in documents. You may use this\n",
       "    domain in literature without prior coordination or asking for permission.</p>\n",
       "<p><a href=\"https://www.iana.org/domains/example\">More information...</a></p>\n",
       "</div>\n",
       "</body>\n",
       "</html>"
      ]
     },
     "execution_count": 7,
     "metadata": {},
     "output_type": "execute_result"
    }
   ],
   "source": [
    "soup"
   ]
  },
  {
   "cell_type": "markdown",
   "metadata": {},
   "source": [
    "Now let's use the **.select()** method to grab elements. We are looking for the 'title' tag, so we will pass in 'title'\n"
   ]
  },
  {
   "cell_type": "code",
   "execution_count": 8,
   "metadata": {},
   "outputs": [
    {
     "data": {
      "text/plain": [
       "[<title>Example Domain</title>]"
      ]
     },
     "execution_count": 8,
     "metadata": {},
     "output_type": "execute_result"
    }
   ],
   "source": [
    "soup.select('title')"
   ]
  },
  {
   "cell_type": "markdown",
   "metadata": {},
   "source": [
    "Notice what is returned here, its actually a list containing all the title elements (along with their tags). You can use indexing or even looping to grab the elements from the list. Since this object it still a specialized tag, we cna use method calls to grab just the text."
   ]
  },
  {
   "cell_type": "code",
   "execution_count": 9,
   "metadata": {},
   "outputs": [],
   "source": [
    "title_tag = soup.select('title')"
   ]
  },
  {
   "cell_type": "code",
   "execution_count": 10,
   "metadata": {},
   "outputs": [
    {
     "data": {
      "text/plain": [
       "<title>Example Domain</title>"
      ]
     },
     "execution_count": 10,
     "metadata": {},
     "output_type": "execute_result"
    }
   ],
   "source": [
    "title_tag[0]"
   ]
  },
  {
   "cell_type": "code",
   "execution_count": 11,
   "metadata": {},
   "outputs": [
    {
     "data": {
      "text/plain": [
       "bs4.element.Tag"
      ]
     },
     "execution_count": 11,
     "metadata": {},
     "output_type": "execute_result"
    }
   ],
   "source": [
    "type(title_tag[0])"
   ]
  },
  {
   "cell_type": "code",
   "execution_count": 12,
   "metadata": {},
   "outputs": [
    {
     "data": {
      "text/plain": [
       "'Example Domain'"
      ]
     },
     "execution_count": 12,
     "metadata": {},
     "output_type": "execute_result"
    }
   ],
   "source": [
    "title_tag[0].getText()"
   ]
  },
  {
   "cell_type": "markdown",
   "metadata": {},
   "source": [
    "### Example Task 1 - Grabbing all elements of a class\n",
    "\n",
    "Let's try to grab all the section headings of the Wikipedia Article on Grace Hopper from this URL: https://en.wikipedia.org/wiki/Grace_Hopper"
   ]
  },
  {
   "cell_type": "code",
   "execution_count": 13,
   "metadata": {},
   "outputs": [],
   "source": [
    "# First get the request\n",
    "res = requests.get('https://en.wikipedia.org/wiki/Grace_Hopper')"
   ]
  },
  {
   "cell_type": "code",
   "execution_count": 14,
   "metadata": {},
   "outputs": [],
   "source": [
    "# Create a soup from request\n",
    "soup = bs4.BeautifulSoup(res.text,\"lxml\")"
   ]
  },
  {
   "cell_type": "markdown",
   "metadata": {},
   "source": [
    "Now its time to figure out what we are actually looking for. Inspect the element on the page to see that the section headers have the class \"mw-headline\". Because this is a class and not a straight tag, we need to adhere to some syntax for CSS. In this case"
   ]
  },
  {
   "cell_type": "markdown",
   "metadata": {},
   "source": [
    "<table>\n",
    "\n",
    "<thead >\n",
    "<tr>\n",
    "<th>\n",
    "<p>Syntax to pass to the .select() method</p>\n",
    "</th>\n",
    "<th>\n",
    "<p>Match Results</p>\n",
    "</th>\n",
    "</tr>\n",
    "</thead>\n",
    "<tbody>\n",
    "<tr>\n",
    "<td>\n",
    "<p><code>soup.select('div')</code></p>\n",
    "</td>\n",
    "<td>\n",
    "<p>All elements with the <code>&lt;div&gt;</code> tag</p>\n",
    "</td>\n",
    "</tr>\n",
    "<tr>\n",
    "<td>\n",
    "<p><code>soup.select('#some_id')</code></p>\n",
    "</td>\n",
    "<td>\n",
    "<p>The HTML element containing the <code>id</code> attribute of <code>some_id</code></p>\n",
    "</td>\n",
    "</tr>\n",
    "<tr>\n",
    "<td>\n",
    "<p><code>soup.select('.notice')</code></p>\n",
    "</td>\n",
    "<td>\n",
    "<p>All the HTML elements with the CSS <code>class</code> named <code>notice</code></p>\n",
    "</td>\n",
    "</tr>\n",
    "<tr>\n",
    "<td>\n",
    "<p><code>soup.select('div span')</code></p>\n",
    "</td>\n",
    "<td>\n",
    "<p>Any elements named <code>&lt;span&gt;</code> that are within an element named <code>&lt;div&gt;</code></p>\n",
    "</td>\n",
    "</tr>\n",
    "<tr>\n",
    "<td>\n",
    "<p><code>soup.select('div &gt; span')</code></p>\n",
    "</td>\n",
    "<td>\n",
    "<p>Any elements named <code class=\"literal2\">&lt;span&gt;</code> that are <span><em >directly</em></span> within an element named <code class=\"literal2\">&lt;div&gt;</code>, with no other element in between</p>\n",
    "</td>\n",
    "</tr>\n",
    "<tr>\n",
    "\n",
    "</tr>\n",
    "</tbody>\n",
    "</table>"
   ]
  },
  {
   "cell_type": "code",
   "execution_count": 15,
   "metadata": {},
   "outputs": [
    {
     "data": {
      "text/plain": [
       "[<div class=\"vector-toc-text\">(Top)</div>,\n",
       " <div class=\"vector-toc-text\">\n",
       " <span class=\"vector-toc-numb\">1</span>\n",
       " <span>Early life and education</span>\n",
       " </div>,\n",
       " <div class=\"vector-toc-text\">\n",
       " <span class=\"vector-toc-numb\">2</span>\n",
       " <span>Career</span>\n",
       " </div>,\n",
       " <div class=\"vector-toc-text\">\n",
       " <span class=\"vector-toc-numb\">2.1</span>\n",
       " <span>World War II</span>\n",
       " </div>,\n",
       " <div class=\"vector-toc-text\">\n",
       " <span class=\"vector-toc-numb\">2.2</span>\n",
       " <span>UNIVAC</span>\n",
       " </div>,\n",
       " <div class=\"vector-toc-text\">\n",
       " <span class=\"vector-toc-numb\">2.3</span>\n",
       " <span>COBOL</span>\n",
       " </div>,\n",
       " <div class=\"vector-toc-text\">\n",
       " <span class=\"vector-toc-numb\">2.4</span>\n",
       " <span>Standards</span>\n",
       " </div>,\n",
       " <div class=\"vector-toc-text\">\n",
       " <span class=\"vector-toc-numb\">3</span>\n",
       " <span>Retirement</span>\n",
       " </div>,\n",
       " <div class=\"vector-toc-text\">\n",
       " <span class=\"vector-toc-numb\">4</span>\n",
       " <span>Post-retirement</span>\n",
       " </div>,\n",
       " <div class=\"vector-toc-text\">\n",
       " <span class=\"vector-toc-numb\">5</span>\n",
       " <span>Anecdotes</span>\n",
       " </div>,\n",
       " <div class=\"vector-toc-text\">\n",
       " <span class=\"vector-toc-numb\">6</span>\n",
       " <span>Death</span>\n",
       " </div>,\n",
       " <div class=\"vector-toc-text\">\n",
       " <span class=\"vector-toc-numb\">7</span>\n",
       " <span>Dates of rank</span>\n",
       " </div>,\n",
       " <div class=\"vector-toc-text\">\n",
       " <span class=\"vector-toc-numb\">8</span>\n",
       " <span>Awards and honors</span>\n",
       " </div>,\n",
       " <div class=\"vector-toc-text\">\n",
       " <span class=\"vector-toc-numb\">8.1</span>\n",
       " <span>Military awards</span>\n",
       " </div>,\n",
       " <div class=\"vector-toc-text\">\n",
       " <span class=\"vector-toc-numb\">8.2</span>\n",
       " <span>Other awards</span>\n",
       " </div>,\n",
       " <div class=\"vector-toc-text\">\n",
       " <span class=\"vector-toc-numb\">9</span>\n",
       " <span>Legacy</span>\n",
       " </div>,\n",
       " <div class=\"vector-toc-text\">\n",
       " <span class=\"vector-toc-numb\">9.1</span>\n",
       " <span>Places</span>\n",
       " </div>,\n",
       " <div class=\"vector-toc-text\">\n",
       " <span class=\"vector-toc-numb\">9.2</span>\n",
       " <span>Programs</span>\n",
       " </div>,\n",
       " <div class=\"vector-toc-text\">\n",
       " <span class=\"vector-toc-numb\">9.3</span>\n",
       " <span>In popular culture</span>\n",
       " </div>,\n",
       " <div class=\"vector-toc-text\">\n",
       " <span class=\"vector-toc-numb\">9.3.1</span>\n",
       " <span>Grace Hopper Celebration of Women in Computing</span>\n",
       " </div>,\n",
       " <div class=\"vector-toc-text\">\n",
       " <span class=\"vector-toc-numb\">10</span>\n",
       " <span>See also</span>\n",
       " </div>,\n",
       " <div class=\"vector-toc-text\">\n",
       " <span class=\"vector-toc-numb\">11</span>\n",
       " <span>Notes</span>\n",
       " </div>,\n",
       " <div class=\"vector-toc-text\">\n",
       " <span class=\"vector-toc-numb\">12</span>\n",
       " <span>References</span>\n",
       " </div>,\n",
       " <div class=\"vector-toc-text\">\n",
       " <span class=\"vector-toc-numb\">13</span>\n",
       " <span>Obituary notices</span>\n",
       " </div>,\n",
       " <div class=\"vector-toc-text\">\n",
       " <span class=\"vector-toc-numb\">14</span>\n",
       " <span>Further reading</span>\n",
       " </div>,\n",
       " <div class=\"vector-toc-text\">\n",
       " <span class=\"vector-toc-numb\">15</span>\n",
       " <span>External links</span>\n",
       " </div>]"
      ]
     },
     "execution_count": 15,
     "metadata": {},
     "output_type": "execute_result"
    }
   ],
   "source": [
    "# note depending on your IP Address, \n",
    "# this class may be called something different\n",
    "soup.select(\".vector-toc-text\")"
   ]
  },
  {
   "cell_type": "code",
   "execution_count": 16,
   "metadata": {},
   "outputs": [
    {
     "name": "stdout",
     "output_type": "stream",
     "text": [
      "(Top)\n",
      "\n",
      "1\n",
      "Early life and education\n",
      "\n",
      "\n",
      "2\n",
      "Career\n",
      "\n",
      "\n",
      "2.1\n",
      "World War II\n",
      "\n",
      "\n",
      "2.2\n",
      "UNIVAC\n",
      "\n",
      "\n",
      "2.3\n",
      "COBOL\n",
      "\n",
      "\n",
      "2.4\n",
      "Standards\n",
      "\n",
      "\n",
      "3\n",
      "Retirement\n",
      "\n",
      "\n",
      "4\n",
      "Post-retirement\n",
      "\n",
      "\n",
      "5\n",
      "Anecdotes\n",
      "\n",
      "\n",
      "6\n",
      "Death\n",
      "\n",
      "\n",
      "7\n",
      "Dates of rank\n",
      "\n",
      "\n",
      "8\n",
      "Awards and honors\n",
      "\n",
      "\n",
      "8.1\n",
      "Military awards\n",
      "\n",
      "\n",
      "8.2\n",
      "Other awards\n",
      "\n",
      "\n",
      "9\n",
      "Legacy\n",
      "\n",
      "\n",
      "9.1\n",
      "Places\n",
      "\n",
      "\n",
      "9.2\n",
      "Programs\n",
      "\n",
      "\n",
      "9.3\n",
      "In popular culture\n",
      "\n",
      "\n",
      "9.3.1\n",
      "Grace Hopper Celebration of Women in Computing\n",
      "\n",
      "\n",
      "10\n",
      "See also\n",
      "\n",
      "\n",
      "11\n",
      "Notes\n",
      "\n",
      "\n",
      "12\n",
      "References\n",
      "\n",
      "\n",
      "13\n",
      "Obituary notices\n",
      "\n",
      "\n",
      "14\n",
      "Further reading\n",
      "\n",
      "\n",
      "15\n",
      "External links\n",
      "\n"
     ]
    }
   ],
   "source": [
    "for item in soup.select(\".vector-toc-text\"):\n",
    "    print(item.text)"
   ]
  },
  {
   "cell_type": "markdown",
   "metadata": {},
   "source": [
    "### Example Task 3 - Getting an Image from a Website\n",
    "\n",
    "Let's attempt to grab the image of the Deep Blue Computer from this wikipedia article: https://en.wikipedia.org/wiki/Deep_Blue_(chess_computer)"
   ]
  },
  {
   "cell_type": "code",
   "execution_count": 17,
   "metadata": {},
   "outputs": [],
   "source": [
    "res = requests.get(\"https://en.wikipedia.org/wiki/Deep_Blue_(chess_computer)\")"
   ]
  },
  {
   "cell_type": "code",
   "execution_count": 18,
   "metadata": {},
   "outputs": [],
   "source": [
    "soup = bs4.BeautifulSoup(res.text,'lxml')"
   ]
  },
  {
   "cell_type": "code",
   "execution_count": 19,
   "metadata": {},
   "outputs": [],
   "source": [
    "image_info = soup.select('.mw-file-element')"
   ]
  },
  {
   "cell_type": "code",
   "execution_count": 20,
   "metadata": {},
   "outputs": [
    {
     "data": {
      "text/plain": [
       "[<img alt=\"This is a good article. Click here for more information.\" class=\"mw-file-element\" data-file-height=\"185\" data-file-width=\"180\" decoding=\"async\" height=\"20\" src=\"//upload.wikimedia.org/wikipedia/en/thumb/9/94/Symbol_support_vote.svg/20px-Symbol_support_vote.svg.png\" srcset=\"//upload.wikimedia.org/wikipedia/en/thumb/9/94/Symbol_support_vote.svg/40px-Symbol_support_vote.svg.png 1.5x\" width=\"19\"/>,\n",
       " <img class=\"mw-file-element\" data-file-height=\"601\" data-file-width=\"400\" decoding=\"async\" height=\"376\" src=\"//upload.wikimedia.org/wikipedia/commons/thumb/b/be/Deep_Blue.jpg/250px-Deep_Blue.jpg\" srcset=\"//upload.wikimedia.org/wikipedia/commons/thumb/b/be/Deep_Blue.jpg/375px-Deep_Blue.jpg 1.5x, //upload.wikimedia.org/wikipedia/commons/b/be/Deep_Blue.jpg 2x\" width=\"250\"/>,\n",
       " <img class=\"mw-file-element\" data-file-height=\"64\" data-file-width=\"64\" decoding=\"async\" height=\"150\" src=\"//upload.wikimedia.org/wikipedia/commons/thumb/5/52/Chess_Programming.svg/150px-Chess_Programming.svg.png\" srcset=\"//upload.wikimedia.org/wikipedia/commons/thumb/5/52/Chess_Programming.svg/225px-Chess_Programming.svg.png 1.5x, //upload.wikimedia.org/wikipedia/commons/thumb/5/52/Chess_Programming.svg/300px-Chess_Programming.svg.png 2x\" width=\"150\"/>,\n",
       " <img class=\"mw-file-element\" data-file-height=\"600\" data-file-width=\"800\" decoding=\"async\" height=\"188\" src=\"//upload.wikimedia.org/wikipedia/commons/thumb/6/6f/Kasparov_Magath_1985_Hamburg-2.png/250px-Kasparov_Magath_1985_Hamburg-2.png\" srcset=\"//upload.wikimedia.org/wikipedia/commons/thumb/6/6f/Kasparov_Magath_1985_Hamburg-2.png/500px-Kasparov_Magath_1985_Hamburg-2.png 1.5x\" width=\"250\"/>,\n",
       " <img class=\"mw-file-element\" data-file-height=\"2756\" data-file-width=\"2067\" decoding=\"async\" height=\"333\" src=\"//upload.wikimedia.org/wikipedia/commons/thumb/8/83/One_of_Deep_Blue%27s_processors_%282586060990%29.jpg/250px-One_of_Deep_Blue%27s_processors_%282586060990%29.jpg\" srcset=\"//upload.wikimedia.org/wikipedia/commons/thumb/8/83/One_of_Deep_Blue%27s_processors_%282586060990%29.jpg/500px-One_of_Deep_Blue%27s_processors_%282586060990%29.jpg 1.5x\" width=\"250\"/>,\n",
       " <img alt=\"icon\" class=\"mw-file-element\" data-file-height=\"512\" data-file-width=\"512\" decoding=\"async\" height=\"28\" src=\"//upload.wikimedia.org/wikipedia/commons/thumb/0/05/Chess.svg/40px-Chess.svg.png\" srcset=\"//upload.wikimedia.org/wikipedia/commons/thumb/0/05/Chess.svg/60px-Chess.svg.png 1.5x\" width=\"28\"/>,\n",
       " <img alt=\"icon\" class=\"mw-file-element\" data-file-height=\"512\" data-file-width=\"512\" decoding=\"async\" height=\"28\" src=\"//upload.wikimedia.org/wikipedia/commons/thumb/0/05/Chess.svg/40px-Chess.svg.png\" srcset=\"//upload.wikimedia.org/wikipedia/commons/thumb/0/05/Chess.svg/60px-Chess.svg.png 1.5x\" width=\"28\"/>,\n",
       " <img alt=\"\" class=\"mw-file-element\" data-file-height=\"1376\" data-file-width=\"1024\" decoding=\"async\" height=\"16\" src=\"//upload.wikimedia.org/wikipedia/en/thumb/4/4a/Commons-logo.svg/20px-Commons-logo.svg.png\" srcset=\"//upload.wikimedia.org/wikipedia/en/thumb/4/4a/Commons-logo.svg/40px-Commons-logo.svg.png 2x\" width=\"12\"/>,\n",
       " <img alt=\"\" class=\"mw-file-element\" data-file-height=\"185\" data-file-width=\"180\" decoding=\"async\" height=\"16\" src=\"//upload.wikimedia.org/wikipedia/en/thumb/9/96/Symbol_category_class.svg/20px-Symbol_category_class.svg.png\" srcset=\"//upload.wikimedia.org/wikipedia/en/thumb/9/96/Symbol_category_class.svg/40px-Symbol_category_class.svg.png 1.5x\" width=\"16\"/>,\n",
       " <img alt=\"\" class=\"mw-file-element\" data-file-height=\"185\" data-file-width=\"180\" decoding=\"async\" height=\"16\" src=\"//upload.wikimedia.org/wikipedia/commons/thumb/8/83/Symbol_template_class_pink.svg/20px-Symbol_template_class_pink.svg.png\" srcset=\"//upload.wikimedia.org/wikipedia/commons/thumb/8/83/Symbol_template_class_pink.svg/40px-Symbol_template_class_pink.svg.png 1.5x\" width=\"16\"/>,\n",
       " <img alt=\"Edit this at Wikidata\" class=\"mw-file-element\" data-file-height=\"20\" data-file-width=\"20\" decoding=\"async\" height=\"10\" src=\"//upload.wikimedia.org/wikipedia/en/thumb/8/8a/OOjs_UI_icon_edit-ltr-progressive.svg/20px-OOjs_UI_icon_edit-ltr-progressive.svg.png\" width=\"10\"/>]"
      ]
     },
     "execution_count": 20,
     "metadata": {},
     "output_type": "execute_result"
    }
   ],
   "source": [
    "image_info"
   ]
  },
  {
   "cell_type": "code",
   "execution_count": 21,
   "metadata": {},
   "outputs": [
    {
     "data": {
      "text/plain": [
       "11"
      ]
     },
     "execution_count": 21,
     "metadata": {},
     "output_type": "execute_result"
    }
   ],
   "source": [
    "len(image_info)"
   ]
  },
  {
   "cell_type": "code",
   "execution_count": 22,
   "metadata": {},
   "outputs": [],
   "source": [
    "computer = image_info[1]"
   ]
  },
  {
   "cell_type": "code",
   "execution_count": 23,
   "metadata": {},
   "outputs": [
    {
     "data": {
      "text/plain": [
       "bs4.element.Tag"
      ]
     },
     "execution_count": 23,
     "metadata": {},
     "output_type": "execute_result"
    }
   ],
   "source": [
    "type(computer)"
   ]
  },
  {
   "cell_type": "markdown",
   "metadata": {},
   "source": [
    "You can make dictionary like calls for parts of the Tag, in this case, we are interested in the **src** , or \"source\" of the image, which should be its own .jpg or .png link:"
   ]
  },
  {
   "cell_type": "code",
   "execution_count": 24,
   "metadata": {},
   "outputs": [
    {
     "data": {
      "text/plain": [
       "'//upload.wikimedia.org/wikipedia/commons/thumb/b/be/Deep_Blue.jpg/250px-Deep_Blue.jpg'"
      ]
     },
     "execution_count": 24,
     "metadata": {},
     "output_type": "execute_result"
    }
   ],
   "source": [
    "computer['src']"
   ]
  },
  {
   "cell_type": "markdown",
   "metadata": {},
   "source": [
    "We can actually display it with a markdown cell with the following:\n",
    "\n",
    "    <img src='https://upload.wikimedia.org/wikipedia/commons/thumb/b/be/Deep_Blue.jpg/250px-Deep_Blue.jpg'>"
   ]
  },
  {
   "cell_type": "markdown",
   "metadata": {},
   "source": [
    "<img src='https://upload.wikimedia.org/wikipedia/commons/thumb/b/be/Deep_Blue.jpg/250px-Deep_Blue.jpg'>"
   ]
  },
  {
   "cell_type": "markdown",
   "metadata": {},
   "source": [
    "Now that you have the actual src link, you can grab the image with requests and get along with the .content attribute. Note how we had to add https:// before the link, if you don't do this, requests will complain (but it gives you a pretty descriptive error code)."
   ]
  },
  {
   "cell_type": "code",
   "execution_count": 25,
   "metadata": {},
   "outputs": [],
   "source": [
    "image_link = requests.get('https://upload.wikimedia.org/wikipedia/commons/thumb/b/be/Deep_Blue.jpg/250px-Deep_Blue.jpg')"
   ]
  },
  {
   "cell_type": "code",
   "execution_count": 26,
   "metadata": {},
   "outputs": [
    {
     "data": {
      "text/plain": [
       "b'\\xff\\xd8\\xff\\xe1\\x00\\x80Exif\\x00\\x00MM\\x00*\\x00\\x00\\x00\\x08\\x00\\x05\\x01\\x1a\\x00\\x05\\x00\\x00\\x00\\x01\\x00\\x00\\x00J\\x01\\x1b\\x00\\x05\\x00\\x00\\x00\\x01\\x00\\x00\\x00R\\x01(\\x00\\x03\\x00\\x00\\x00\\x01\\x00\\x02\\x00\\x00\\x01;\\x00\\x02\\x00\\x00\\x00\\x1e\\x00\\x00\\x00Z\\x02\\x13\\x00\\x03\\x00\\x00\\x00\\x01\\x00\\x01\\x00\\x00\\x00\\x00\\x00\\x00\\x00\\x00\\x00H\\x00\\x00\\x00\\x01\\x00\\x00\\x00H\\x00\\x00\\x00\\x01Jim Gardner - thejimmyjob.com\\x00\\xff\\xe2\\x02@ICC_PROFILE\\x00\\x01\\x01\\x00\\x00\\x020ADBE\\x02\\x10\\x00\\x00mntrRGB XYZ \\x07\\xcf\\x00\\x06\\x00\\x03\\x00\\x00\\x00\\x00\\x00\\x00acspAPPL\\x00\\x00\\x00\\x00none\\x00\\x00\\x00\\x00\\x00\\x00\\x00\\x00\\x00\\x00\\x00\\x00\\x00\\x00\\x00\\x00\\x00\\x00\\xf6\\xd6\\x00\\x01\\x00\\x00\\x00\\x00\\xd3-ADBE\\x00\\x00\\x00\\x00\\x00\\x00\\x00\\x00\\x00\\x00\\x00\\x00\\x00\\x00\\x00\\x00\\x00\\x00\\x00\\x00\\x00\\x00\\x00\\x00\\x00\\x00\\x00\\x00\\x00\\x00\\x00\\x00\\x00\\x00\\x00\\x00\\x00\\x00\\x00\\x00\\x00\\x00\\x00\\x00\\x00\\x00\\x00\\ncprt\\x00\\x00\\x00\\xfc\\x00\\x00\\x002desc\\x00\\x00\\x010\\x00\\x00\\x00kwtpt\\x00\\x00\\x01\\x9c\\x00\\x00\\x00\\x14bkpt\\x00\\x00\\x01\\xb0\\x00\\x00\\x00\\x14rTRC\\x00\\x00\\x01\\xc4\\x00\\x00\\x00\\x0egTRC\\x00\\x00\\x01\\xd4\\x00\\x00\\x00\\x0ebTRC\\x00\\x00\\x01\\xe4\\x00\\x00\\x00\\x0erXYZ\\x00\\x00\\x01\\xf4\\x00\\x00\\x00\\x14gXYZ\\x00\\x00\\x02\\x08\\x00\\x00\\x00\\x14bXYZ\\x00\\x00\\x02\\x1c\\x00\\x00\\x00\\x14text\\x00\\x00\\x00\\x00Copyright 1999 Adobe Systems Incorporated\\x00\\x00\\x00desc\\x00\\x00\\x00\\x00\\x00\\x00\\x00\\x11Adobe RGB (1998)\\x00\\x00\\x00\\x00\\x00\\x00\\x00\\x00\\x00\\x00\\x00\\x00\\x00\\x00\\x00\\x00\\x00\\x00\\x00\\x00\\x00\\x00\\x00\\x00\\x00\\x00\\x00\\x00\\x00\\x00\\x00\\x00\\x00\\x00\\x00\\x00\\x00\\x00\\x00\\x00\\x00\\x00\\x00\\x00\\x00\\x00\\x00\\x00\\x00\\x00\\x00\\x00\\x00\\x00\\x00\\x00\\x00\\x00\\x00\\x00\\x00\\x00\\x00\\x00\\x00\\x00\\x00\\x00\\x00\\x00\\x00\\x00\\x00\\x00\\x00\\x00\\x00\\x00\\x00\\x00XYZ \\x00\\x00\\x00\\x00\\x00\\x00\\xf3Q\\x00\\x01\\x00\\x00\\x00\\x01\\x16\\xccXYZ \\x00\\x00\\x00\\x00\\x00\\x00\\x00\\x00\\x00\\x00\\x00\\x00\\x00\\x00\\x00\\x00curv\\x00\\x00\\x00\\x00\\x00\\x00\\x00\\x01\\x023\\x00\\x00curv\\x00\\x00\\x00\\x00\\x00\\x00\\x00\\x01\\x023\\x00\\x00curv\\x00\\x00\\x00\\x00\\x00\\x00\\x00\\x01\\x023\\x00\\x00XYZ \\x00\\x00\\x00\\x00\\x00\\x00\\x9c\\x18\\x00\\x00O\\xa5\\x00\\x00\\x04\\xfcXYZ \\x00\\x00\\x00\\x00\\x00\\x004\\x8d\\x00\\x00\\xa0,\\x00\\x00\\x0f\\x95XYZ \\x00\\x00\\x00\\x00\\x00\\x00&1\\x00\\x00\\x10/\\x00\\x00\\xbe\\x9c\\xff\\xdb\\x00C\\x00\\x04\\x03\\x03\\x04\\x03\\x03\\x04\\x04\\x03\\x04\\x05\\x04\\x04\\x05\\x06\\n\\x07\\x06\\x06\\x06\\x06\\r\\t\\n\\x08\\n\\x0f\\r\\x10\\x10\\x0f\\r\\x0f\\x0e\\x11\\x13\\x18\\x14\\x11\\x12\\x17\\x12\\x0e\\x0f\\x15\\x1c\\x15\\x17\\x19\\x19\\x1b\\x1b\\x1b\\x10\\x14\\x1d\\x1f\\x1d\\x1a\\x1f\\x18\\x1a\\x1b\\x1a\\xff\\xdb\\x00C\\x01\\x04\\x05\\x05\\x06\\x05\\x06\\x0c\\x07\\x07\\x0c\\x1a\\x11\\x0f\\x11\\x1a\\x1a\\x1a\\x1a\\x1a\\x1a\\x1a\\x1a\\x1a\\x1a\\x1a\\x1a\\x1a\\x1a\\x1a\\x1a\\x1a\\x1a\\x1a\\x1a\\x1a\\x1a\\x1a\\x1a\\x1a\\x1a\\x1a\\x1a\\x1a\\x1a\\x1a\\x1a\\x1a\\x1a\\x1a\\x1a\\x1a\\x1a\\x1a\\x1a\\x1a\\x1a\\x1a\\x1a\\x1a\\x1a\\x1a\\x1a\\x1a\\x1a\\xff\\xc0\\x00\\x11\\x08\\x01x\\x00\\xfa\\x03\\x01\"\\x00\\x02\\x11\\x01\\x03\\x11\\x01\\xff\\xc4\\x00\\x1d\\x00\\x00\\x00\\x06\\x03\\x01\\x00\\x00\\x00\\x00\\x00\\x00\\x00\\x00\\x00\\x00\\x00\\x00\\x01\\x02\\x03\\x04\\x05\\x06\\x07\\x08\\t\\xff\\xc4\\x00[\\x10\\x00\\x01\\x03\\x02\\x04\\x03\\x04\\x05\\x08\\x05\\x07\\x08\\x06\\x07\\t\\x00\\x01\\x02\\x03\\x11\\x00\\x04\\x05\\x12!1\\x06AQ\\x07\\x13\"a\\x08\\x14q\\x81\\x91#2B\\xa1\\xb1\\xc1\\xd1\\xf0\\x15$3Rb\\x16%4Cr\\x92\\xe1&cs\\x82\\x83\\xa2\\xb2\\xf16d\\x93\\xa3\\xc2\\xc3\\t\\x17\\x185DT\\xd2\\'7St\\x84\\x85\\x94\\xd3\\xe2\\xff\\xc4\\x00\\x1b\\x01\\x00\\x03\\x01\\x01\\x01\\x01\\x01\\x00\\x00\\x00\\x00\\x00\\x00\\x00\\x00\\x00\\x00\\x01\\x02\\x03\\x04\\x05\\x06\\x07\\xff\\xc4\\x007\\x11\\x00\\x02\\x02\\x02\\x01\\x03\\x01\\x06\\x04\\x04\\x04\\x07\\x00\\x00\\x00\\x00\\x00\\x01\\x02\\x11\\x03!1\\x04\\x12AQ\\x05\\x13\"aq\\xb12\\x91\\xc1\\xf0\\x14#R\\x813\\xa1\\xd1\\xe1$4B\\x82\\x92\\xb2\\xf1\\xff\\xda\\x00\\x0c\\x03\\x01\\x00\\x02\\x11\\x03\\x11\\x00?\\x00\\xd8X\\xaflx?\\xe9n\\x1b\\xbc\\xc5\\xec\\xee,[\\xb4\\xc4\\xd8u\\xd7\\x11\\x0f$&`\\x91\\x1a\\xe95\\xd2\\xd8\\x1f\\x11\\xe1\\x1cOj\\xbb\\xce\\x1e\\xc4X\\xc4m\\x92\\xe1B\\x96\\xca\\xa7*\\xb7\\xcaF\\xe0\\xf9\\x1a\\xf3\\x83\\x1f\\xc6\\x9b\\xbfv\\xd9\\xa7RQl.A\\xb8\\xee\\xd4\\n\\xb2\\x7f\\x0f\\x9e\\xdf\\n\\xea\\xff\\x00E\\x07\\x15\\xfc\\x98\\xe2F\\x94I\\xc9\\x89 \\xfcZ\\x1f\\x85{\\x9dw\\xb2\\xb0\\xf4\\xfd>L\\xd0\\xb4\\xe2\\xd6\\xbco_]\\x1egG\\xed\\x1c\\xd9\\xf3C\\x1c\\xe9\\xa6\\x9f\\xd7Tt&\\xf4\\xaa@\\xa5M|\\xb9\\xef\\x8a\\x14t\\x91F(\\x13#\\xe2\\x18u\\x9e/d\\xfd\\x8e+j\\xcd\\xed\\x9b\\xe9\\xca\\xeb\\x0f\\xb6\\x16\\x85\\x8d\\xf5\\x07\\xcf_h\\xacX\\xdbq\\x07\\x07\\xad\\xe7\\xac\\x1c\\xbb\\xe2\\xbc\\x04$\\xa8X:\\xb4\\xab\\x10\\xb5\\x8eL\\xba\\xa2=a?\\xc2\\xe9\\xef\\x06\\xb0\\xb5\\xe8\\x9a\\xcc\\x85*\\xa8WD\\x1c#\\x1c\\xc3\\xf1\\xd6\\x16\\xf6\\x13t\\x9b\\x84\\xb4\\xac\\x8f\"\\n\\x1ce\\x7f\\xb8\\xe3j\\x01M\\xab\\xf8T\\x01\\xab\\n\\xa2\\xc6xW\\x0f\\xc6o\\x18\\xc4\\x17\\xdfX\\xe2\\xf6\\xc3+\\x18\\x8d\\x9a\\xfb\\xbb\\x84&g)T\\x10\\xe2:\\xa1aH<\\xc5@N7\\x8c\\xf0\\xeb\\x0e\\xab\\x8b\\xedQ{d\\xcc\\x9f\\xd2xS\\x0bT sv\\xdbU\\xa0\\xf5(.\\r\\t9\\x06\\x81\\x8a\\xaf\\x83,\\xac\\x13\\xb5\\x0b\\x84\\xdb\\xe1\\xf8z\\x8aTT\\x95_/N\\x83\\x0e\\xb9\\'\\xee\\xac\\xce\\xc2\\xfe\\xd3\\x14\\xb3b\\xf7\\x0c\\xbab\\xf6\\xce\\xe19\\xd9}\\x87\\x03\\x8d\\xb8\\x9e\\xa9P\\xd0\\x8a\\xc2;W\\xd3\\x07\\xb7X1\\x95\\xbcCY\\x80?\\x9b\\xae7\\xa6(\\xfe\"^\\x1d\\xc3\\xd8\\xbe\\n\\x9e\\xfb\\x85\\xb1d\\x9bW\\x12\\x14\\xbc3\\x12\\nz\\xdd\\x0b)I%\\x87\\x07\\xca4\\x99\\x9f\\x07\\x8d\\x1c\\x92\\x94T\\x8c\\x1f\\x85\\xdc\\xe1\\xdc\\x1b\\x1bU\\xee\"\\xbcR\\xfe\\xf8>\\xf3\\xef\\x96\\x83I\\x13\\xde(!(\\x1b\\x00V\\xae\\xa4\\xce\\xb5\\x90\\xe1\\x80\\x8b6\\x81\\xe4\\x84\\r\\xbf\\x814\\xacDN\\x1fx?\\xcc9\\xff\\x00\\t\\xa6\\x81\\xb6D\\xb3O\\xc8\\xb5\\xfd\\x84\\xfd\\x82\\xa4<!\\xa1\\xa7\\xd3O\\xdbMZx\\x99fD\\xfc\\x9a\\x7f\\xe1\\x14\\xfd\\xc7\\xec\\x87\\xfaD}\\xb5R\\xaad.Q\\xc6\\xbe\\x97b;J\\xe1\\xf3\\xb7\\xf98\\x9d|\\x85\\xc2\\xabUv~\\xd9w\\xb4\\x0e\\x10m\\xb4\\xba\\xa5\\x9cv\\xc6\\x03*\\t^\\x8f$\\xf8I\\xd0\\x10\\x07\\xc0\\x1a\\xda\\xbe\\x97\\x83\\xff\\x00\\xb4\\xde\\x1c\\x89\\xff\\x00\\xa3\\xa2 \\x7f\\xd6\\x15Z\\xd3\\xb37C\\x1d\\xa3\\xf0c\\xaaK\\x8aJ1\\xdb9\\tAZ\\x8c\\xb8\\x06\\x80jw\\xdb}\\xe9\\xe3\\xdc\\xe2\\x9f\\xc8\\'\\xf8Y\\xe8\\xd1\\xf5\\xb4>\\x94\\x17\\xd2C\\x85d|\\x9c\\xe5\\x03a\\xf0\\xa3M\\xd3\\xa6\\xe3\\xb9Gv\\xf1\\x1f<\\xa4\\x10\\x11\\xe4N\\xba\\xf9oQ\\xaf[\\xbb\\xb8\\xc4\\xac\\x12\\x87Qmj\\x0b\\xa5\\xe4\\xe4\\xcc\\xe3\\xa0\\x00\\x00\\n\\x9f\\x00\\x93&$\\x98\\x1bkU\\x1cc\\xc7\\xf8\\x07g\\xf6\\xac\\xa3\\x12qn\\xdf<\\x93\\xeaXU\\x93}\\xed\\xdd\\xd1\\xe8\\xdbCX\\x9d\\n\\x8c$\\x13\\xaa\\x85tv\\xdd%\\xc9\\xcc\\xe4\\xa3m\\xe9\\x193W*w47\\xf3\\x14Ra\\\\\\xc5C\\xc3\\xf8\\x93\\x08\\xc5\\x9cy\\xac/\\x14\\xb2\\xbdu\\x85\\x94<\\xdd\\xbd\\xca\\x1dSj\\x06\\nT\\x12L\\x10yV\\t\\x8a\\xf0\\xc6?\\xc6\\x98\\x963\\x87c\\xf8\\x9bxo\\x08^[\\xe5n\\xc7\\r+n\\xe9k\\x0e4\\xa5\\x97\\x9e\\x9d\\x88J\\x90P\\x88IJ\\xd4\\x0ej\\xcc\\xb0.\\x1a\\xc1xO\\x0en\\xcb\\x87\\xf0\\xebL2\\xcd\\x94\\x80\\x12\\xd3I@\\x00u4\\xdc\"\\x97;%NM\\xf1\\xa2\\xeb\\xbe@\\xdd@{iAIP\\x94\\x90G\\x91\\xaa\\x87qR\\xe2\\xbb\\xbc=\\xbe\\xf5G\\xfa\\xc5\\x0f\\x0f\\xb8n~\\xcf:S6\\xef!EwW.gV\\xe9J\\xbe\\xed\\x85E\\x17\\xdde\\xb5\\na\\x05\\xc5j<#\\xce\\x9f\\x1bk\\xadI@\\xa1B\\x85\\x03\\x05\\n\\x14(\\x00P\\xa2R\\x82\\x04\\xa8\\x80<\\xe9\\x1d\\xf2z/\\xfb\\x86\\x95\\xa4\\x07\\x92\\xd8\\xab\\xc5+Y*\\x1a9\\x1eS;Wd\\xfa%\\xdcw\\x98w\\x17\"f/-\\xd7\\xbfT\\x1a\\xe2ln\\xf1)[\\xa4\\x1f\\x9a\\xa3\\xec\\x99\\xae\\xc5\\xf4?\\xb9\\x0e\\x0e1D\\x89\\xfdMz\\x1eP\\xb1_y\\xedE~\\xcf\\xea>]\\xbf\\xfb\\x1f#\\xec\\xc7\\xff\\x00\\x19\\x87\\xe9/\\xb1\\xd4\\xa2\\x8e\\x929R\\xab\\xf3\\x83\\xee\\xd8\\xaa1I\\x14\\xa1A,:V\\xe6\\x06\\xb4\\x9a\\xe3\\xafK\\x8e\\xd5\\xf8\\xd3\\x85x\\xef\\x0e\\xe1\\xbe\\x17\\xe2+\\xbc\\x13\\n{\\x02f\\xf1\\xc4X\\x84\\xb6\\xeb\\x8e\\xad\\xe7\\x90Iv\\n\\x80\\xca\\xda`$\\x883\\xee\\xa2N\\xc9\\xc8\\xaf\\xdd42\\xa9:\\xc4y\\xc8\\xaf#o\\xb1<F\\xf1Kr\\xeb\\x16\\xc5.I\\x99S\\xb8\\x8b\\xcb\\x9f\\x8a\\xea\\xb5\\xcbn\\xf9_,\\xa7\\x1e$\\x80s\\xba\\xa5r\\xe7&\\xaa\\x9d\\x12z\\xa9\\x8bp\\xfb6778\\x9f\\x0bb\\xb6\\xfc?\\x8a\\xba\\xa2\\xe3\\xcd\\xad\\xc0\\xab+\\xb5\\x92\\t/1 f1\\xfbTesi*\\x03)\\xc58\\xd7\\x88\\xed\\xb1\\xac\\x0f\\r\\xb7\\xc5\\xdf\\xc3p|A\\xf7\\xef-\\x14\\xdf\\xe9V\\x1eh\\xa9\\xcb\\x0b\\x94!HrS(R\\x88\\x00\\xad(3\\xa1H\\xaf3\\\\\\xc3-\\x15%v\\xac\\xa8\\x12fP\\x0c~E$avm\\x95wv\\xac$\\xafC\\x0c$OZ\\xaac\\xee\\xa3\\xd5\\xac/\\xb5\\x1e\\x0bw\\n\\xb3\\xb9\\xb8\\xe2\\xfe\\x1e\\xb7/\\xdb\\xb6\\xeeGqVPS(I\\xd4\\x15iMb\\x1d\\xafvv\\x9b;\\x94\\xaf\\x8f\\xf8Q*-- ~\\x9b\\xb7&r\\x9eY\\xab\\xcasem\\xf3\\x97n\\xc9W^\\xe8O\\xc7\\xdbNz\\xbbI\\x07\\xe4\\xd0\\x93\\xb8\\x84\\x88\\x8f\\xc8\\xa7\\xdbDY\\xea\\x16\\x19\\xdb_f\\xaf\\x9bKf\\xfbA\\xe1n\\xfd\\xc6\\x93\\x95\\x0b\\xc5\\x9aA\\'(\\xd3\\xc4F\\xbe[\\xd0\\xe2\\x1e\\xdd{3\\xe1\\xf7\\xfdS\\x17\\xe3\\xbc\\x02\\xde\\xe4-$\\xb6\\x9b\\xc0\\xe9\\x1a\\xecrL\\x1a\\xf2\\x9b\\x88\\x9bG\\xaa\\xb2\\x95\\xa0\\x11\\xe3$e\\x03X\\xe9W-6\\x84\\xda0\\x86\\xd2\\x94\\x04\\x98HH\\x01#A\\xd2\\x8a\\xbd\\t?\\'I\\xfaGv\\x8d\\xc2\\x1c{\\xc6\\xd8.%\\xc2\\\\M\\x86bVV\\xd8/\\xab<\\xe2\\x1cP\\xc8\\xe7|U\\x04\\x11\\xd0\\xd6\\x05\\xc1|Y\\x82\\xf0\\xff\\x00\\x1ap\\xe6+{\\x8a[\\x9b,7\\x16\\xb6\\xbax6\\x95\\xad]\\xd2V3\\x14\\xa4\\'R\\x01\\x98\\xdc\\xc6\\x9a\\xd6\\xa5)\\x992\\xa9\\x9f\\xbe\\x8d\\x106I\\xea\\x0c~5q\\x8fkR\\xf4\\x14\\xa5j\\x8e\\xec\\xe3_K\\xee\\x1a\\xbd\\xbfN\\x1d\\xc1\\xd8\\xd7\\xe8\\x8b\\x19)w\\x1f\\x7f\\rv\\xe1i\\x07~\\xe2\\xdb.\\xa7O\\x9c\\xe6\\x9f\\xc0\\xa1M\\xf0\\x8f\\xa4\\x07a<\\x18\\xeb\\xb7\\xb6\\xf8\\xbe3\\x8ccw>+\\xacV\\xf3\\x06\\xbc~\\xe5\\xf3\\xe6\\xb57 t\\x03A\\xb0\\x00W\\x0c\\xa8\\xf4\\x07\\x9cM\\x1c\\xf8\\x86\\x9a\\x08\\xd8\\xed\\xe7[\\xf74\\xa8\\xe6\\xf7{\\xbf\\'\\x7f\\x1fL\\xae\\xcb\\xed][\\x8d\\xbb\\x8f\\xdcf.e\\t\\xc1\\\\N\\xea\\x99\\xf1\\x11\\xa7\\xd7\\xec\\xa8/\\xfac\\xf6st\\xe0U\\xd3\\\\R\\xf2F\\xa1\\t\\xc2\\x12\\x94\\x8f ;\\xcd\\xfc\\xcdp\\x8aI\\x98\\xe6`@\\xf7\\xd3\\x8d\\x91\\xb2D\\xecL\\x8a/cQ=\\x13\\xc0}+\\xfb)\\xc4m\\xd8*\\xc6\\xeep\\x05:\\xbc\\x8aN\\'\\x87<\\xd7vcu\\xb8\\x01BA\\xd7\\\\\\xd1\\xa7*\\xde\\xec\\xb6\\xdeD\\xad\\xb2\\x1c\\n\\x00\\x85L\\x82:\\x8a\\xf1\\xf9\\xe5\\x93\\x86]\\t\\xd7!\\xdb\\xfb\\x06\\xbd\\x80\\xb3\\x19m\\x18\\x07\\x93i\\x1fP\\xa8kVR\\xe6\\x87\\xe8P\\xa1RX(P\\xa2\"M \\x04\\xd1\\x1c\\xc7\\xf8G\\xc6\\x80I\\n&|<\\x84P9\\xf3\\x88\\xcb\\x925\\xeb4\\xb6\\xf9\\x00\\x83i\\x06wWS\\xad*<\\xe9\\nR\\xc2\\xd0\\x12\\x8c\\xc9?9Y\\xa3/\\xbb\\x9d/Zz@y\\x15\\xdaO\\x03qG\\x03\\\\\\x06\\xb8\\xbf\\x05\\xbb\\xc2\\x85\\xc2\\xdc6\\xae8\\x12\\xa6\\x9f\\xca\\x04\\x94-$\\x85\\x00\\x08>\\xfa\\xdf\\xbe\\x8c\\x17\\x17?\\xca>!f\\xcb\\x8c\\x9e\\xc0\\xdew\\x0f\\xb7q\\x16\\xa9\\x16\\xae%\\xe8:\\xcbo\\t%3\\xa1I\\x1a(\\xef\"\\xb4Wi\\xb6\\x0fX\\xf1F+\\x839i\\x88\\xe0\\xb6\\xb6\\x0f\\x10\\xc6\\x0f\\x89\\xdf*\\xe1xxZ\\x10\\xa5%\\'1\\x04\\x12d(|\\xe4\\x94\\x9a\\xc9\\xfb9\\xe2tp\\xb5\\xc3\\x8b\\xe2\\x1e\\x01\\xc1x\\xee\\xd5l\\xb6\\x93ox\\x12\\xdb\\x8d\\x14\\x13\\x95\\xc48P\\xb10H\" \\x88\\xd7M~\\xdf\\xaa\\x9c\\xb2\\xf4\\x19S\\xdb\\x92O\\\\s~\\xaf\\xc7\\xcd\\xfdO\\x99\\xe9\\xa1\\x0c]v>\\xdd(\\xda\\xde\\xfcW\\xa2\\xfd\\x0e\\xf2\\xb4\\xbb\\xe2\\xdbp\\xbbuqw\\x0c_]\\xc9X\\x0fa\\x19\\x14\\x96\\xf9JQs\\'\\x96\\xb5 \\xe2<h\\xca\\xf2\\xbf\\x89\\xf0\\x83\\x8a\\x90\\x03j\\xb3\\xb8a[\\x7f\\xa5V\\xb3\\xe5\\\\\\xd7\\x83v\\xa5\\xd8Z\\xdam\\x1cA\\xd8\\xbb\\xd8\\x1b\\xe8:\\xb8\\xde\\x0box\\x94\\xf3\\xd1m+\\xbc#\\xfdZ\\xcf\\xb0N\"\\xf4d\\xc5\\x1e\\x01\\x8f\\xe4\\xa5\\xad\\xcb\\xa0\\x05\\x0cf\\xc5\\xcbU\\xec\\x00\\x13p\\x06\\xd09\\xe9\\x02\\xbf?p\\x94y\\xfdO\\xb4Y1>>\\xdf\\xeen\\x14c|b\\x86\\x99Rxw\\x05\\xbf\\xcc<N3\\x8b\\xbc\\xd2w\\xdd2\\xc2\\xa4{\\xe9\\xf4c|^\\xa0#\\x850\\xb5*\\x06`1\\xc7\\x04\\x1d4\\xd6\\xdf\\xdbX\\x8e\\x15\\xd9\\'e\\xdcB\\xdb\\x8e\\xf0\\xc5\\xad\\x82\\xedT%G\\x87\\xb1\\xb7\\x98m^\\xd4\\xb0\\xf0O\\xd5V\\xe3\\xb1.\\x0cJS\\xde\\xd8\\xe2\\xced\\xf9\\x8a{\\x1f\\xbfQO\\xb0\\x97\\xaai\\x8e\\xe1\\xe9\\xfb\\xfc\\xcbe\\xe3\\xbc\\\\3\\xa1\\x1c-\\x84\\x97G\\xcc\\x07\\x1eX\\x07\\xac\\xfe\\xaf#\\xe1\\\\G\\xe9\\x8c\\xfe(\\xefk82\\xf1\\xdbK;;\\x83\\xc3V\\xf9Sgt\\xab\\x84e\\xef\\xee$\\xe6R\\x11\\xa8T\\x88\\x8dDk]\\x9a\\xe7c\\xfc%p\\xc3\\x96\\xf7V\\xf8\\xad\\xcd\\xa2\\xd6\\x1c6\\xee\\xe3\\xd7\\xae4\\x14\\'P\\x92\\xee\\x93:\\x8d\\x8dq_\\xa5\\xff\\x00\\x0b`\\xdc!\\xda\\x96\\x01g\\xc3xs8e\\x9b\\xdc:\\xdb\\xae6\\xc2HIX}\\xd4\\xe6\\xdfx\\x80O>uqN\\xcc\\xe4\\xe3Z_\\xbf\\xcc\\xd2\\xb7\\nR\\x18uHNu\\xa59\\x90\\x8d\\xf3\\x18\\xd0i\\xd7o}t\\xad\\xc7d\\x1c6\\xfd\\x9f\\x16\\x96{:\\xc7p\\xc7\\xb0\\xeb\\x0b+\\xab\\x05=\\x89]\\xa8\\xbe\\xeb\\xd6*\\xb8S)\\x94\\xe5\\x94\\xba\\x80\\xca\\x82\\xc8\\x071\\x12\\x95\\x14\\xd76\\xf7A\\xf0\\xebJ\\x8c\\xabL(\\x1f\\x9b\\xa8\\xfb)\\xfb\\xfcC\\x16\\xbc\\xb3\\xb8k\\x12\\xc6qk\\xd6\\x9dHC\\xcd\\xbd\\x8a>\\xb4\\xb8\\xdce\\x08P+\\x82\\x91\\xc8\\x1d\\x04\\xd6\\xd1\\xd1\\x93\\xbf\\x06\\xe9\\xeds\\xb3\\xce\\x15\\xe1~\\t\\xc7\\xb1^\\x14\\xc0\\x1d\\xf5\\xe6ql=\\x17HU\\xc3\\xcaW\\x0f\\xb6\\xebp\\xb6\\x95\\x98\\xf8\\x92\\xa7PR\\n\\xc4\\xfc\\xaau\\x10+Aw\\xe0\\xf8r\\xaegQ\\x02\\x90\\xf2\\xddu\\xe7\\x9eu\\xeb\\x87]|\\x8e\\xfdkyj.\\x11\\x11\\x9c\\x93\\xe3\"\\x04f\\x98\\xe5\\x14\\x95\\x15\\x08\\x82f7\\xe54\\xdb\\xb2~\\xa1\\x97!\\x07\\xc2t\\x14]\\xe1\\x19NUFn\\xa0l:\\xd3\\xabFU\\xad\\x08\\x95$\\x01\\x13\\xa7/\\xf1\\xa2\\x08%\\x0b^`r\\xc7=L\\xf4\\x1c\\xf6\\xa0\\n> Q\\x16\\xed\\x0c\\xa4j\\xa8\\x83\\xe5W-:\\xa1h\\xd0\\t\\xd0\\xa8\\xe6\\x19\\xa3\\x90\\xaaN!\\xfe\\x8c\\xd2\\x8e_\\xa5\\xe2\\'\\xcbz\\xb6j\\r\\xabPF``\\x19\\x8eB\\x9dX\\xacZ\\xf3~\\xee\\xbc\\xe0\\xe9\\xbfZI%$\\xf8\\x00\\xe7\\x13\\xb6\\xb4\\xb2\\x01\\x04i\\xa1\\x93\\xaf/e\\x12G\\x89\\x13*\\x131\\xcf}\\xa9\\xa13$\\xe0\\xd78Y\\x0e\\xe2\\xa9\\xe3\\xa6\\xd2ZS\\r\\x0b\\x15fy ;\\x99Y\\xf3)\\xa0T\\x94\\xe5\\xcb*\\x85\\x11\\xb8\\n\\x82\\r\\xd3w\\xdd\\x93\\xa40\\xab\\x94c\\xc5\\tX/\\xa1\\x0c\\x92\\xa2\\x95(\\x95\\x00S\\xe1\\xce\\x84\\x94$\\x11\\tY\\x0b\\xd1\"\\x05`/6\\x94\\xbc\\xf2\\x11\\x01!j\\t\\xd7\\x90&)\\x85\\xa5\\tHPY\\xcf\\x98\\xf8#a\\x1b\\xcf\\xb7J\\xb4\\xf4CL\\xd8VX\\xbff\\xcc\\xe2\\xf8j\\xee0\\xccAv\\x01\\xb6\\x85\\xea\\x16\\x95\\xa8\\xa5\\x7f#\\xde)\\t2\\x16\\x9c\\xe2\\xe2\\x12JImH\\x85%i\\x83\\x89\\\\\\xdd\\xdb\\xde\\xdf<\\xfd\\x95\\x93X{\\n)\\x08a\\xa7\\x14\\xa4\\x80\\x12\\x13\\x9b\\xc5\\xa8\\xcd\\x19\\xcav\\x05P*\\xb1 \\x1c\\xc3\\x91<\\xfa\\xd4\\xa6\\xe2S\\x94m\\xb0\\xcdN\\xef\\x91l\\x94\\xe8P\\xc2\\xae\\xde$\\x16\\xdb\\x00/\\xc6\\'T\\xa8\\x81\\x1b\\xf2?\\x92+\\xd8KgR\\xed\\xbb.6\\x0eE\\xa1*Na\\x06\\x08\\xaf\\x1dn\\x88\\x18=\\xeaJ\\x02\\x94\\xa8\\x01z\\xe8r\\xabO\\x7f\\xdd^\\xc4\\xdb \\xb6\\xc3I\\x93\\xe1BG\\xd5X\\xcemi\\r-\\xd8\\xf4\\xcd\\r(\\x8c\\xf24`\\x9a\\x84\\xf60\\xe8P\\xa4\\xaf4\\x0c\\x99fu\\x9a\\xd0\\x05SK\\xb9m\\xb3\\x94\\xab2\\xff\\x00u#1\\xf8\\n\\ng0\\xf9U\\xa9C\\xa00>\\xaaRP\\x94\\xa6\\x10\\x02S\\xd0\\x08\\xa2\\xc0g\\xbc\\xb8w\\xf6m\\xa5\\xa4\\xfe\\xf3\\x86O\\xc0~4}\\xc3\\xbc\\xee\\xdc\\x9f$\\xa3\\xf0\\xa9\\x03J\\x14}@\\xf3\\x13\\xb5\\xdb\\x1e\\x1a\\xb4\\xc7=O\\x06\\xe1\\xee#\\xc01Kee\\xbbg\\x1ew\\xbe.1\\xdd#\\xb9R3\\x15\\x14FR#1\\x11\\x10t\\x817\\x80\\xf8Z\\xcf\\x16\\xbf[7\\x16\\xae\\x84\\xa6\\xd4\\xad&\\xdd\\xd5\\xb4\\xa4\\x90\\xa1\\xa8RMk;\\xfcB\\xea\\xea\\xfd\\xc5^\\xbc\\xfd\\xca\\xc0\\x08J\\x9eyN\\x14\\xa7p$\\x92cR}\\xe6\\xb7\\xefax\\x9ao\\xb8\\xa5m\\xe4\\xca\\xaf\\xd1\\xce\\xeb\\xd6\\nk\\xf4\\x1e\\xb3\\x0f\\xb8\\xe8f\\x9b\\xb6\\x93\\xdf\\xff\\x00v|gI\\x9dg\\xeb\\xe2\\xd2\\xa4\\xfc\\x16\\x03\\xb3\\xa6\\x922\\xda\\xe38\\xb5\\xb0;%\\xe2\\xdd\\xca~\\x0bD\\xfdu\\x19\\xde\\xcd\\xef\\xc8\\xca\\xdd\\xf6\\x15z\\x8f\\xdd\\xb9\\xb1[D\\xfb\\xd0\\xa2>\\xaa\\xe8\\xabv\\x1bRFt!ZsL\\xd3\\xaa\\xc1\\xac]\\xd5v\\x8d\\x13\\xe4\\x98\\xaf\\xcf\\xff\\x00\\x88\\xa3\\xee=\\xc1\\xcaw\\x1d\\x92-.\\x87O\\x0c\\xd88\\xe83\\xdfa\\xb7\\xe8m~\\xd1\\x99(P\\xf8\\xd5\\xbd\\x93\\\\a\\xc3\\xa9G\\xe8\\x9e%\\xed\\x07\\x02i\\x1b%Kv\\xf5\\x94\\xfb\\xa5\\xd4G\\xba\\xbaA|/\\x87\\xacx[[\\x7f\\xd9]%<.\\xca\\x04\\xb3p\\xe2\\x0f\\x98\\x14\\x9ehK\\x94/s%\\xc34\\x96\\x1d\\xdboixS\\xc9O\\xf2\\xdb\\x871\\xdc\\xa3F1\\xac16\\xee+\\xcaPY3\\xee\\xad%\\xe9\\x03\\xc7X\\xd7h<U\\x81\\xe2|Q\\x85\\xd9aw\\xf6\\xd8Ha>\\xa2\\xf2\\x9di\\xe6\\xcb\\xeaPq9\\x84\\xa7Y\\x1b\\xa8nf\\xbbZ\\xe7\\x86\\xd6\\xf2J\\x1cq\\x9b\\x94\\x1d\\xd2\\xf3y\\x87\\xc0\\xcdr\\x17\\xa56\\x0e\\x9c\\x1b\\x8c\\xb8a\\xa6Xb\\xd9\\x0e`\\x92\\x12\\xcaBS\\xe1\\xba^\\xc0h \\xa8\\xfcOZW\\x06\\xf4>\\xd9G\\x93T\\xa1a\\x0e\\xab1 \\x10\\x9c\\xaa\\xcab#ZC\\xee\\x07-\\xfc\\x07Uh!<\\xf7\\x8f\\x85\\x01\\xfb#;\\x14\\x02gc\\xe1\\xa4\\xa53lDH\\x0b3\\xfd\\xd1R6B\\x8f\\x19\\xde(\\xcc\\x04\\xf4\\x11\\xd2i\\xc2\\x80\\xa5\\x004\\xd3x\\xf3\\xeb\\xf9\\x14JI\\x85BLI\\x9d4\\x8f\\xcc\\xd5$K\\t\\xd1\\x96\\xe1Y\\x89Q\\xca\\x83=|#\\xeb\\xa2\\xd8\\x10`k\\x04\\xc7\\xe3D\\xb5-\\xc5\\xa9n\\xf8\\x89\\x00O2\\x00\\x8f\\xb0P\\x8d\\xf4\\xd4\\x1dj\\xa8\\x82\\x97\\x88\\t\\xf5V\\x882\\xa5\\x15\\t\\xdb\\xe8\\xd5\\x9a\\tU\\xabz\\xc9\\x07R\\t\\xdf(\\xff\\x00\\x1a\\xac\\xe2\\x14\\xfe\\xa8\\xd4\\xccfP\\x926\\xf0\\xd5\\xb3^+V\\x8a\\xb3L\\x89\\xf0\\xcf!B\\xe4b\\x80\\xf2\\xe7\\xa7\\xe7\\xef\\xa5\\xb6\\x14\\xe3\\xcc\\xb7%jS\\xa9HH\\x1c\\xca\\x80\\x81\\x14a#\\xbbp\\x9f\\x9f09\\xc7\\xbf\\xcb\\xef\\xa6\\x8f\\xce\\x10\\x08\\x03Y\\x9f\\xcf:(V?\\x886Y\\xc4o\\x9bVd\\xf7w.\\xa5H \\x82!dA\\xe7\"*\\x19\\x078\\x19\\x8e\\xa2b\\x9fyKu\\xc5\\xba\\xf2\\xcb\\x8e\\xb8\\xb5-kR\\xa4\\xa8\\x9dI\\'\\xa9\\x93Hq\\n+\\x83\\xb7\\x98\\x1a\\xfeE\\x00\\xc0\\x88\"\\x08\\x91\\xccu\\xa9\\r\\xc9\\xcaA\\x99\\x03]\\xb4\\xd6\\x98\\t\\x19`\\xee:m\\xec\\xa9%\\x05\\x0e\\'0\\t \\x0f\\x08 \\x8euBa<\\xa5+\\x0e\\xbaBVHQ\\x03)\\xe6`\\x80~\\xbf\\xae\\xbd\\x8b[\\xad\\xdb\\xa4w\\xabJt\\x81\\xe7\\xec\\x15\\xe3{\\xb0\\xab\\x17\\xd0!AF\\x08\\xeb:G\\xd7^\\xc7\\xb5n\\xd3\\x1f\\xb2m) \\x04\\xce\\xe6\\x00\\x00k\\xee\\xacua\\xb1>\\xb2\\xe2\\xff\\x00`\\xc2\\x88\\xfd\\xe7<\\x03\\xe1\\xbf\\xd5D\\x19[\\xbf\\xb7x\\x90~\\x8b~\\x11\\xf8\\xfdu#5\\n\\x9e\\xed\\x8c0 \\x009Q\\xd0\\xa1[\\x08\\x14(P\\xa0\\x01B\\x85\\n\\x00\\xf2\\xe3\\xb5\\x94\\xe1\\xd6\\x18\\xad\\xa6\\x1c\\xd7\\x07`\\xdc3\\x8a\\xa5)\\xba]\\xd6\\t\\x8c*\\xf2\\xd6\\xea\\xdd\\xc4\\x90\\x94\\x80tJ\\x92\\xa4\\xee\\x0f]5\\x15\\x98v\\x00\\xef\\xf9f$\\tV\\x1fp&u\\xfa:}U\\xa9\\xb8\\xbf\\x83\\xb1N\\x0b\\xc5\\xd1i\\x8c\\xb1l\\xca\\xaem\\xd3sn\\xbb[\\xa6\\xee\\x1au\\xa2\\xa5\\'2V\\xd9#\\xe7!B7\\xd3j\\xd8\\xfd\\x84_ q\\xa5\\xb1Q)\\n\\xb4\\xb8\\x03\\xfb\\xa3\\xf0\\xaf\\xd0:\\xb5\\x18\\xfb?\"R\\xeeT\\xf7m\\xdf\\xe6\\xdf\\xdc\\xf8\\xde\\x9er\\xc9\\xed(JQ\\xedv\\xb5\\xfbH\\xeb\\xbb5\\xf8S\\xec\\xab&\\xd45\\xd7Z\\xc7\\xacoYR\\x13\\xf2\\x89\\x1aU\\xbb7(V\\xa1\\xc4\\xff\\x00z\\xbf3og\\xe8H\\xb3\\n\\x11\\xed\\xa3\\xcd\\xd6\\xa3%\\xc9\\x88 \\xfb\\xe6\\x95\\x9c\\xd4X\\x0f\\xc8\\xae6\\xf4\\xc6\\xf1q\\x7f\\x07+A\\xfc\\xce\\xf2~\\x17\\x7f\\xe3]\\x86\\x17\\xa0\\xd6\\xb8\\xf3\\xd3\\x08\\xff\\x00\\x94\\xfc\\x1c\\xad\\xff\\x00\\x9b.\\x92@\\xff\\x00\\xf3H\\xad1\\xbb\\x9aDM|&\\x93J\\xbc\\x00\\xff\\x00\\x9bI\\x81\\xec\\xdf\\xeb\\xa2L\\x8bd\\x13\\xb8rA\\xdf\\xe8\\x83\\xa5\\x1brZA\\x90e\\x94@\\xf7Q\\x83\\xfa\\xb2@\\x01$85\\x1c\\xc6A]\\x070\\xc2\\xcaI)$i\\xa4\\n,\\xc9\\xf2\\x8eZ\\xe9I\\xe7\\xb9\\x06~4\\x95j6\\xd4\\x8d\\xc1\\x8ah\\x04\\xe6\\x034+^\\x9eTa\\xc4I\\xda\\x00\\xfa\\xa9\\xdb\\xe0\\x94]\\x0c\\x80\\x0f\\xd5\\x982\\x04jP\\x994\\xcaH\\xee\\xdd%**\\x81\\x90\\xa5`\\t\\x9dg\\xae\\x9aUrJ)8\\x90\\x83d\\xd4\\x94\\xa4\\xa4\\xab]\\x80\\xf0\\xc5[[\\xc0\\xb6l\\x1f\\x0c\\x119\\x87\\xf0\\x8a\\xa8\\xe2\\x19M\\x9b|\\x88Y\\xd2\\x7f\\x86\\xad\\x98\\x1f\\xaa\\xb6:({\\xa5#Z\\x03l}P\\xa1\\xa2\\xd0Dh\\x0e\\xd4\\xd9)*\\xd0\\x84\\x913\\x07\\xce\\x81\\x1c\\xd4f|\\xa4\\xfbi\\xfb\\x04\\x83\\x88Y\\x88\\xff\\x00\\xe2\\x1b\\x06#\\xf7\\xc5\\x02\\xe0`\\x90\\x14%i\\xe67\\xa2_\\x9a\\x93\\xaf\\x9f\\xf8Q,\\x8c\\xce\\x04\\x88HR\\xb4\\x11\\xa6\\xa7J\\'\\x14\\x12\\xd22\\x02\\x08\\x92\\xa5\\xe6\\xd0\\x8d G(\\x83\\xf1\\xa6\\x84;\\xa1 \\x12\\x0c\\x9dL\\xedR\\xec\\xed\\xdc\\xbb}\\r0\\x92\\xb7HH\\x01#\\x96`>\\xd3P\\x90JP\\xb0\\x08\\x00\\xfc\\xedw\\xd6~\\xea\\xb6\\xc0\\xef\\x13\\x87\\xe2-\\xdc\\x90\\x95\\x00\\x83\\xe1S\\x99$\\xc8\\xe7\\x06\\x98\\x15N#*\\x1cei)P}))1\\xa7\\x8cs\\xe7^\\xca\\x1d\\xcdx\\xd9\\xde\\xfa\\xc3\\x9d\\xe4\\x04\\x97n\\x9a%;\\x8d\\\\O\\xe3\\xff\\x00*\\xf6L\\xefX>X\\xc1B\\x88\\xd1\\x8a\\xce\\xf61T(V\\x1f\\xc7\\xfd\\xa4`\\xfd\\x9cY\\xd9\\xdc\\xe3\\xc8\\xbbt\\xde:\\xa6\\x98j\\xd9\\xa0\\xa5-A%GU\\x14\\xa5:\\r\\xc9\\x15\\xd0\\xdd+d\\x99\\x85\\t\\xad\\n\\xbe\\xd8{@\\xe2\\x92Q\\xc0=\\x9f\\xbc\\xd3*$7w\\x88\\x12\\xa4\\xa8r#T7\\xff\\x00xi\\x8f\\xfd\\\\v\\xb5\\xc6jI\\xe3N2N\\x0bh\\xa9\\x9b\\\\9\\xf5$\\x81\\xd0\\x86Cs\\xefqu\\x97\\xbd\\xbf\\xc2\\xac\\xae\\xd7\\xe4\\xdc\\x9cC\\xc6\\x9c;\\xc2m\\x95\\xf1.9\\x87a#.`.\\xae\\x90\\xda\\x94<\\x92L\\x9fp\\xac\\x05^\\x92\\xdd\\x99\\xa5D~\\x9f}PbS\\x85]\\x90}\\x87\\xba\\xd6\\xa0\\xe0\\x1e\\x8c\\\\\\x17\\x858\\x1f\\xc4\\xfds\\x17\\xb9:\\xb8\\xa7\\x1d\\xeeR\\xb3\\xd4\\xf7p\\xa3\\xfe\\xb2\\x8dg\\x88\\xec\\xbb\\x83\\x1bBP\\x9e\\x19\\xc2\\xe1 \\x016\\xc9\\'\\xe2u4\\x7f1\\xfc\\x87Q\\xf5<\\x9e\\xb8)m\\xe5\\x04$$e\\x06#j\\xd8\\xbd\\x88\\\\\\x7f\\x96\\xd6\\x00\\x12e\\x9b\\x89\\x8d\\xbeekG\\x9dB\\xee>M\\xc4\\xa8e\\x04\\xe4T\\xfb\\xeb=\\xecY\\xc8\\xe3l6gT>\\x06\\xbf\\xe6\\xcd~\\x9f\\xed\\x7f\\xf9|\\x9fG\\xf6>\\x13\\xd9\\x91\\xae\\xa7\\x1f\\xd5\\x1dkd\\xf1\\xca\\x92O*\\xb3i\\xef\\x7f\\xb6\\xb1\\xfb\\x17IBcM\\x05Z4\\xe6\\x9a\\xd7\\xe4\\x92\\xe4\\xfd0\\xb3\\x0f\\x91\\x10ib\\xf5\\xc4\\xea\\x97T\\x07\\xf6\\x8dV\\xae\\xe0 x\\xb4\\xf2\\xa8\\xab\\xb9S\\x866\\x02\\xa0,\\xbb8\\xcd\\xc0\\x90\\xdb\\xca\\xe9&\\rsW\\xa6\\x03h\\x18\\xa7\\x01=\\x073\\xf8m\\xe1_9>\\xb0\\xd6\\xbf]o\\xc6\\xd7\\xa8\\xad\\r\\xe9v\\x7f\\xfb\\xbb_3a\\x88\\'\\xfe\\xf9\\x8a\\xe9\\xc2\\xbe4a\\x91\\xfc&\\x8fh\\xfc\\x93{h\\xcau\\x8eQA\\xb2=]\\xb9\\x123$\\xed\\xfc\\x14\\x19PU\\xb3D\\xed\\xdc\\xa6`{iI\\x94\\xd9\\xa0g\\x9f\\x1aL\\x7f\\xa9\\xcb\\xea\\xf8WS9H\\x8a\\x92`\\x13\\x04\\xc9\"\\x8fA%$\\xc8\\xd0\\xe9\\x06\\x94F\\xbb\\xf3\\xf0\\xc6\\xa0\\t\\xa0\\xaf\\x9cJ\\x94H\\xeaF\\xd4\\xe8.\\x82\\xbd)[\\xa8-\\xaf8\\xf5vA1\\xb1\\x08\\x13\\xef\\x91LhS:D\\x98\\x8d`\\xfef\\x96S\\xa4\\xa9z\\x9d&\\x82\\x93\\x02\\x04\\xe5\\x07\\xf2*\\x99%\\x17\\x10\\x10\\xab\\x16\\xc9\\x03\\xe7\\x1f`\\xf0\\xfev\\xabvu\\xb4n5\\xd50#\\xf8EUq\\x12b\\xc9\\xa2\\x12\\x0c\\xb8L\\x93\\xcf)\\xab[c6\\x8dk\\x00\\x94\\x9dw\\x1e\\x11\\xcf\\xa5/ \\x98\\xbc\\xa4\\xe7<\\xb9\\xaa\\xac8yL\\xa7\\x89\\xb0U\\xdf-,Z#\\x11\\xb6/\\xadcD :\\x92\\xa5\\x1f(\\xde\\xa2\\x13\\t-\\xc8\\x00\\x91\\xbcS%!FD\\x193\\xbc\\x89\\xa6\\x85b\\x15\\xa3\\xae\\x10d\\x97\\x1c\"6#1\\x88\\xf7E=gcq\\x89\\xdf\\xb1c\\x85[=}{p\\xa2\\x8b{{t\\xe7q\\xd5y\\x0f\\xc8\\xe7M\\xf8U\\xcc\\xcc\\xce\\xa6*\\xe7\\x86x\\x92\\xe3\\x86\\xb1\\x05\\xdd4\\xdf\\xad[\\\\\\xb0Y\\xbc\\xb5\\xef\\x94\\xcf~\\x8d\\xd3\\x0e$gmHp%aI \\xcacbAk\\xe6&dW\\xbd\\x96\\xe2v\\xd6xR\\xadolo1\\x0b\\xb7\\x9cC\\xf6\\xc8\\xb8@\\xf5t\\xe6\\xca\\x85\\xeb\\n#0Z\\x17\\xa0(Z\\x08\\xd4\\x10k\\x0cNd8RAJ\\xd0\\xa2\\x95\\t\\x98P$\\x11\\xf1\\x9a\\xcd\\xb1\\x8e\\xd7q\\x8can:\\x9b\\x1bKk\\xb7\\x12\\xa2\\xf3\\xa4\\x97<f<H\\x07D\\x81\\x1f6\\x0e\\xa6yV\\x0c\\x92\\xb5<\\xa7\\x1cZ\\x96\\xb5\\xab:\\xd6\\xb5j\\xa2L\\xc9\\xf3&\\xaaU\\xc2\\x05\\xf3\\x19\\xb4\\xf1\\xbbn\\x8dH\\xf5\\xd6\\x00\\x9dI\\x97P+\\xd9s^4\\xe1\\x90\\xbb\\xdb$\\x91\\x19\\xaf\\xed\\x92:~\\xd9\\x15\\xec\\xa9\\xdc\\xd7$\\x99HJ\\xd5\\x04P\\x0b\\xa48u\\x1e\\xca k\\x1f%\\x12j5\\xcd\\x9d\\xb5\\xc3\\xac=ql\\xcb\\xce\\xb0J\\x99Z\\xdb\\nSd\\x88%$\\xed\\xee\\xa94\\xd3\\xa6\\x08\\xae\\xa9\\xea$\\xaeC\\xcfC9\\xa6\\xe6\\x84\\xd77s\\xf5*\\x85\\xe74Y\\xfc\\xe93E4\\xad\\x8e\\x8f\\'\\xfb@\\xe3\\\\[\\x8a\\x9e\\xb7\\xb1\\xc6\\x1b\\xc0Vp\\xf7\\xdeq\\x17xE\\x92\\x18M\\xc1XJT\\xa2Q\\x01iV@\\xa0H\\x07]z\\x07{\\x1dZ\\x91\\xc7xbTHL<g\\xfd\\x9a\\xbf\\xc6\\xb0\\xdb\\xc0C\\x89?\\xc3\\xd7\\xce\\xb2\\x9e\\xc9\\xddK\\\\q\\x86\\x95\\xe8>W\\x9f>\\xedU\\xfa\\x97\\xb41C\\x17K8AR\\xa7\\xf6>\\'\\xa3\\xcd<\\xdd\\\\\\'\\'\\xbb_s\\xacl\\x1c\\xf0$\\xcciVm\\xdc\\xa1\"\\x02\\xa4\\x8e\\x95\\x8bX\\xde-\\xc6\\xd2\\x12yo\\xcej\\xd1\\x83\\xa4\\xc9\\xaf\\xca\\xdcv~\\x87\\xdd\\xa2\\xc4\\xbaTd\\xaa\\x94\\x95\\x1e\\xbbi\\xec\\xa8\\xa1_\\x93K\\n\\xe5\\xa4\\xf9\\xd2\\xa0\\xb2kj\\xd7\\x97\\xb2+Gz[\\t\\xb1\\xec\\xedc~\\xe3\\x11H1\\xb7\\x8d\\x8a\\xddHQ\\x04t\\xad\\'\\xe9d\\t\\xc1{;Y:\\xa4\\xe2i\\xf6\\xe8\\xc9\\xadq~4e\\x91\\xfc&\\x8e\\xb7\\xfe\\x8dnG\\xd2dr\\xf34\\x1a9\\xad\\x16\\x15\\n\\x87P\\x0f\\xf7M\\x0bC6\\xd6\\xfa\\xff\\x00W\\xff\\x00\\x88\\xd0d\\xfe\\xaa\\xac\\xe4~\\xd1\\x03o\\xe15\\xd6\\xceA\\x82\\xea\\xa7\\x94\\x9d<\\xfe4\\x0b\\x8a\\x91\\xa0\\n\\x03m\\xbd\\xd4\\x89\\x81\\xb8\\x9c\\xda\\x9f\\xb2\\x8c\\x03\\x98\\x082N\\xa3\\xec\\xa0b\\xdc\\x0bd$,&\\x1de/&5\\x94\\xabo\\xbe\\x92\\x02\\x9cJ\\xd6\\x86\\xca\\xc2\\x13*!\\x12\\x07!?W\\xbe\\xa7c\\x8c\\x86N\\x0c\\x12O\\xcb`\\xb6o\\x193\\xaa\\xb3\\xccyiU\\xe9QB\\x14\\x06`\\x142\\x9dH\\x94\\xfd\\xfe\\xfarU\\xa2J^\"\\xfe\\x84\\x82\\xe1HH\\\\\\xeab4\\xab\\x1b2}M\\x930@H\\x81\\xfd\\x9a\\xad\\xe2$\\xcd\\x8a\\x0c\\xff\\x00[\\xbcF\\x99L\\x9a\\xb2\\xb3\\xfe\\x86\\xd8\\xd8\\xca`\\x1f\\xec\\x8a\\x00}KV\\xa3M\\xf5\\xd3\\xeb\\xf6PnT\\xf3i*\\x82\\xa5\\x011\\xb6\\xb0M\\x05\\x91\\x04\\x13:l~\\xefu)\\x93\\x17v\\xc9p\\x94\\x82\\xf2\\x02\\xa2?xS\\xd3\\x01\\xb3\\x9cJd\\x12\\x92A=`\\xc6\\x94km\\xc0\\xd2\\x1c)XmeII#C\\x1b\\xfd\\xb4\\xab\\x84\\xa5\\x177\"s\\x04\\xbe\\xe2A\\x8d\\xc0Q\\xf8mM)\\x1a\\xa8xI\\x02t;\\xd0&-\\x1e0L\\x89\\x03A\\xcf\\x96\\xb4\\xb4\\xe8\\xa4\\xc4\\t\\x00\\x03H\\x9d|J&OJt\\xfc\\xf4f\\xd0\\x84\\'C\\xf1\\xa2\\x80k\\x04\\x8f\\xd2\\xf8RI\\x90q[?=\\xee\\x1b\\xafe\\x08\\x93^7p\\xd2s\\xe3\\xf8\\x12\\x02L+\\x19\\xb1I\\x9e\\xbe\\xb2\\xd5{ t5\\xcd&R\\x1at\\x1c\\xc3NT\\x9e\\x9e\\xdaqj\\x13\\xafJ)\\x12=\\xb5\\x9d\"\\x87\\xea=\\xca\\x82Jd\\x81\\xbdH\\xadY\\xda\\xd7\\x125\\x81\\xdea\\r\\xdc\\xe3\\xd8\\xbe\\n\\x87\\x19\\xb8p#\\x0f\\xb9\\xb2e7%%\\xbf\\x02\\xd5p\\n\\x93\\xbe\\x8aL\\x01&H\\xd2\\xba\\xd67\\x95\\xf6\\xa7FR\\x97b\\xee60X;\\x19\\xa3\\x95~\\xea\\xbe\\x06\\xb9]\\xde\\xd0\\xadB\\xaeY\\xb8\\xe2Lj\\xee\\xd6\\xe05\\x0e;\\xc6\\x8c1ql\\xa4\\x85\\x85\\x94z\\xbaJT\\x15\\xe0:\\xed\\xacF\\xc6\\xb1\\xce2\\xe1\\xeb\\x86\\xd6\\x8b\\x8b\\xec^\\xe74\\xa4\\xa9\\xde?\\xc4\\xdd(\\x99\\x12\\x90\\xdbQ#\\xc2u\\xd3\\xef\\xe9^\\xcd\\xc9\\xf3\\x7fE\\x7f\\xa9\\xcb\\xfcl>K\\xea\\xeb\\xf4:\\xef\\xc5\\xfb\\xaa\\xf8Q\\xe5WC\\xf1\\x15\\xc1\\xe8\\xe0\\x8cg\\x13\\xb6\\xb2r\\xe3\\x15\\xc5\\xf14\\xdd\\xb4\\xda\\xdau\\xac;\\x15\\xb9C\\xe1z\\x05%Y@\\x82G2>\\x1a\\xd2\\xd3\\xd8\\xfe$\\xeaB\\xd3\\x87\\xe3\\xc5*\\x12?\\xc9\\x9b\\xa1\\xbf\\x91\\\\\\xfcu\\xad\\xe5\\xec\\xbc+\\xf1ek\\xfe\\xc9\\x19.\\xbb+V\\xb1\\xaf\\xfc\\x91\\xccO\\xb8\\xe2\\xd303\\x84\\xc0\\xd2\\xaf;6.\\x8e4\\xc3\\xf3\\x84\\xa5Y\\x9c\\x06\\t#\\xe6\\x9e\\xb5\\xb7\\xd5\\xd9\\xf6\\x04\\xb3\\x07\\x07\\xb7\\xe5\\xb1P\\xff\\x00\\xc5M`\\xdc\\x19\\x83\\xe1X\\xda\\xae,\\xac\\x10\\xc3\\xec\\xaf\\xe4\\xd6\\x1cV\\x80\\x88;\\x98;\\xd7\\xd1\\xf5\\xdd~<\\x98\\xa5\\xce\\xd3_\\x99\\xe4\\xf4}\\x0eLyb\\xedi\\xa6l\\x0c2Cbu\\x80*\\xf5\\x83\\xe0\\xd7\\xe3U6-%-\\x88\\x1c\\xb4\\xf2\\xabF\\xf4\\x00{k\\xe0\\xe4\\xb6}\\xa2d\\x99\\xfc\\xc5-+\\xdb\\xa7Z`\\x1d\\xb9}ta]\\x06\\xdb\\x1a\\xc8vLmpf\\xb4\\xdf\\xa5`\\xcf\\xc3\\x1c\\x00\\xad\\x15\\x178\\x9a5\\x1b|\\x9bG\\xee\\xad\\xbc\\x83\\xae\\xbe\\xcd+Q\\xfaR\\xa3?\\x06\\xf01\"Jq,A;\\xc7\\xf5\\t?ui\\x8f\\xf1#9\\xfe\\x13C\\xda\\xab\\xf5f$n\\xd91?\\xc4h2\\xa0m\\x97\\x94\\x80\\xa2\\xe24\\xf7+\\xf3\\xf0\\xa4\\xd9\\xa4\\x8b{\\x7f\\x0c\\x92\\x85H\\xd7\\xf7\\x8d-\\xa5\\x13f\\xebeC(q\\x04OXP\\x99\\xfb\\xab\\xad\\x9c\\xc3\\x11\\xb2eZ(\\x89\\x98 PT$\\x94\\xa3\\xe6\\xe8bf\\x94\\xa8J\\x86\\xa1\\x00\\r5\\xdb\\xf3\\xad,\\xc4\\xe5\\x911\\xb0?]\\x00&\\xee\\xed\\xdb\\xd1g\\xdf\\xe4\\x9b[F\\xec\\xda }\\x06\\xd4\\xa2\\'\\xccg:\\xfb)\\xa0D\\x18\\xd0\\x93N(\\x08$\\xc2\\x81\\x9es4aB`\\xa8\\x9du3\\xca\\x87\\xb1\\x148\\xfa\\x7fPA\\t\\xfa|\\xf9\\xc8\\xab+0\\x15f\\xd6\\xc6rl6\\xf0\\xefP\\xb8\\x90\\xa5Xr\\x01:\\xf7\\x9dg\\xe8\\x9a\\x9f`G\\xa9\\xb3\\xe2\\x80\\x02u\\xf2\\xcbH\\x7f!\\xf2\\x10\\x10\\xf2\\x94\\xaf\\x10#&\\xbb\\xf9\\xd1)}\\xd5\\xc0Sg1J\\xc2\\x92H\\xde\\x0e\\x9fe8\\xa2\\x00V\\xb0\\xa1\\xcb7:B\\x94$\\x80\\xad\\xfamU\\xc8\\x86\\x9dVgV\\xe2\\xe4\\x15\\xa9K \\x0e\\xa6~\\xfa\\x0bI\\xef\\x15\\xe7\\xca?<\\xfe\\xeap\\x90#P:\\xebI\\x90J@\\x822\\xf2$P\\x80\\x01 \\x81\\x9fQ\"F\\xc4\\x8e\\x7f\\x9f1N\\xab twEA\\xb0\\x91\\x978\\x00\\xf9H\\x1c\\xfd\\x94\\xde\\xc3pF\\xfa\\x18\\x9a}\\xf5\\xa9O\\x97\\x16\\xb2\\xb5\\xa9\\tR\\x96\\xaf\\xa4H\\x9dM/\"\\x0b\\x83\\x10\\x1e\\xe2\\xee\\x18h\\xee\\xac{\\x0e\\x07\\xdft\\xd5{\\x19\\x15\\xe3\\xefg\\x89+\\xe3\\xce\\x0c@\\x19\\xb3q.\\x18\\x00;\\x7fKg\\xf3\\xef\\xaf`\\xc01\\xacnv\\xac\\x9clc.&O\\xba\\x9a)2=\\xa3\\xed\\xa6q\\xcb\\x87\\xac\\xf0\\x9b\\xdb\\x8bU\\x04\\xbe\\xdb*Sd\\xa70\\n\\xe5\\xa7:\\x88\\xe6\\x1f\\x8a\\xa5\\xe6\\xd4\\x8ceE\\tZJ\\x90l\\x9b9\\x93\"D\\x88\\x89\\x1aMe\\xdb\\xb2\\xcb\\xda\\xe7\\x7fH\\xfe\\x0e\\xe2\\x0e+\\xc7xi|=`/\\x1b\\xb6\\xb3\\xbaK\\xab/!\\xbc\\xaaZ\\xda\\x81\\xa9\\xe8\\x93\\xf0\\xae\\x87\\xe4k\\x16\\xe3\\x061w\\x9ao\\xf9:\\xfb\\xcd]\\xa5:%(iI \\xa8I9\\xb5\\x90<\\xe2\\xbb1\\xf53\\xe9&\\xb2\\xc3\\x95\\xeb\\xf3\\xd1\\x8eL1\\xea \\xf1\\xcb\\x86r\\x03]\\x8b\\xf1\\xe3\\xd1\\x18m\\xaa\\x13\\xcf>\"\\x8f\\x8d[\\xe1\\xdd\\x82\\xf1\\x8b\\xb7v\\xca\\xc4Y\\xc3\\x93g\\xdf \\xdc\\x06\\xf1\\x1f\\x94-\\xe6\\xf1\\x04\\x9c\\x9111\\xe7\\x15\\xd2\\x1c?o\\xc4\\xf6\\xb7k<F\\x95_Z\\xb8\\x82!L5)#Q\\x94$\\xeev\\xd7\\xa0\\xa7K\\xf7V\\xab.bJ\\xb7dL\\xa5\\x84\\xb0\\x82\\xe2\\xfa\\x08\\x1f4y\\x9fp\\xad\\xf2{{\\xacj\\xad/\\xa2\\xff\\x00s\\x9e\\x1e\\xc8\\xe9\\xae\\xeb\\xfc\\xcdY\\x82p?iX-\\xb5\\xbd\\xb6\\x13}\\x86Y\\xd9[[\\xae\\xda\\xde\\xdd|Ax\\xebm\\xb4\\xa0@\\x01!\\xb1\\xa8\\x07\\xc2\\xa9%0 \\x80)h\\xe0n\\xd2\\x9bBP8\\x86\\xc8\\x04\\x88\\x00\\xf1\\x06&O\\xc7\\xbc\\xad\\xafn\\xfd\\xdd\\xdb\\x85n1l\\x84\\x92tU\\xb8\\xcc\\x7f\\x01\\xf5\\x9a\\x9c\\x10\\xfc|\\xd6\\xc7\\xfb!^{\\xf6\\x86V\\xef\\xfd\\x7f\\xd4\\xf4\\x17C\\n\\xaa\\xfd\\xfeG*\\xa7\\x02\\xbap\\xe8\\xda\\x13<\\x94\\xeaz{j \\xe1\\x9cA\\xab\\xf7\\x9dKaHQ\\x04\\x14\\x1c\\xc0\\xe8:U\\xce\\x93\\x15\\x93\\xe0\\xaa\\x9c=\\xbf\\x17\\xd2V\\xc7\\xce\\xba\\xa5\\xd4Nj\\x89\\x8e\\x18\\xc5\\xd9\\x8a\\xdb\\xe1wm\\x81,:LF\\x88=*R,.@\\x03\\xd5\\x9d\\xfe\\xe1\\x15\\x98\\x03#s4&N\\xe4\\x9fmr\\xb5f\\xfc\\x18\\x88\\xb2\\xba\\xff\\x00\\xe5\\x9e\\xfe\\xe5+\\xd4n\\xa3KW\\x89\\xeb\\x92\\xb2\\xc0|\\xcf\\xc6\\x8c\\x11\\xcc\\x9a\\x9e\\xd0\\xb3\\x18n\\xca\\xe8\\x1d-\\x9e\\xfe\\xe5j_I\\xd4\\x94\\xf07\\x08\\xa1R\\x87[\\xc5\\xee\\xc2\\x9b#\\xc4\\x02\\xad\\x8c\\x18\\xf7WB$\\x8d\\xe6}\\x86\\xb9\\xfb\\xd2\\xa8\\x03\\x80p\\xf9\\xd6\\x13\\x89\\xac\\x1dy\\x1be\\xd3\\x8a\\xa6L\\x9d\\xa3\\x9f,T=V\\xd8\\xecr\\xaa5\\xfe.\\xbf}.\\xd8\\xc3o\\x80\\x01\\tRw\\xdbs\\xce\\x98\\xc3\\xbcV\\xb6\\xf0\\xa9\\x80\\xad\\xb4\\xe6)\\xdbo\\xd8\\xbeU\\xa1\\x94\\x02O\\xb4\\xfc+\\xa7\\x93\\x01\\x85\\xc9*\\xdc\\x85I\\x99\\xdfz0H)\\x91\\xcf_=E\\x1a\\x92T\\xaez\\xa8\\x81\\xed\\x9f\\xf1\\xa0R[\\x93\\x04\\x10\\xadA\\xebR\\x03\\xf7\\xad\\xa1\\xa6\\xf0\\xd5%\\tI{\\x0eB\\xd7\\x951\\x99]\\xe3\\x82OS\\t\\x1a\\xe9\\xb50\\x9c\\xbd\\xdb\\x99\\xb3HO\\x866\\xcd<\\xf9\\xc6\\xfbyT\\x9cE\\xd4\\xad\\x8c\\x1a7g\\rCk\\x1dT\\x1et\\xeb\\xee\"\\xa2$\\x10\\x152r\\xc4\\x18\\x8aoL\\x11Q\\x8f)B\\xc0\\x15\\'7\\xca\\r\\x0fX1V\\x16_\\xfb\\xbd\\x94\\x99\\xd3\\xbb\\xd76\\xde\\x1a\\xae\\xc7\\xe3\\xf4w2\\n\\xc4\\x93\\xb6\\xc6\\xacmL\\xd85\\x97M\\x1b\\xd7\\xfdZ@=0\\x00#(=:\\xeb\\xadY\\xf0\\xdd\\x93X\\x97\\x13\\xe067^\\x1b{\\xccV\\xda\\xdd\\xc3\\x94FE\\xba\\x94\\x1d\\x0e\\xfb\\xd5jPU\\xe2Js @&v\\x8e\\xa2\\xac\\xb8f\\xe6\\xda\\xcf\\x8b8~\\xe6\\xf5\\xc2\\xcd\\x9d\\xbe/h\\xed\\xc2\\xd0%Hm/\\xa0\\xac\\x81\\xce\\x00${)\\xc7\\x95b|\\x15J\\x08Iu\\xb0\\t\\x08uh\\x12t\\x01+#\\xee\\xa5,\\x0e\\xed\\xb8\\xcc\\x16\\'4\\xc4\\x1dt\\x8e\\x9c\\xe8:Bn\\xae\\nL\\x83p\\xf1\\nN\\xb2\\x0b\\x8a#\\xea\\xa4(A\\x8f\\x9a>\\xca>\\x80\\x1aFTh\\x04\\xeb4\\xfb\\xc0\\xa5\\xc4\\xc6\\xfd\\xd3p\\x7f\\xd5\\xfc\\xe9L.r\\x99\\x1b\\x0e[\\x7f\\x8d<\\xf9%\\xfd\\x06\\xbd\\xd27\\x00\\x18\\xc85\\xa7\\xe4L\\x9f\\xd9\\x90\\xef;H\\xe0D\\xe5\\xd7\\xf9S\\x85H\\x07\\xfe\\xb6\\xcd{\\x03^@\\xf6Q\\n\\xedK\\xb3\\xe4\\xce\\xaa\\xe2\\xac*S\\xd3\\xf5\\xa6\\xa3\\xec\\xaf_\\xab5\\xc8\\xfc\\x15\\\\B\\xb4\\x8c5m\\xb8\\tK\\xca\\r\\x92\\x0e\\xd3\\xcf\\xea\\xaa\\x8cC\\x1c\\xb6\\xc5\\x02\\xb0\\xd2\\xb4\\xdb\\xbe\\xb5!@\\x07\\x01Q\\xca\\xa0\\xa8\\x03N\\x91\\xef\\xa9\\xbc\\\\\\xac\\xb8cz\\xc4\\xbe\\x91\\xf5\\x1a\\xe7\\xfe \\xed\\x9f\\x82\\xb8/\\x8do\\xf0\\x9e*\\xe2+\\x8c>\\xea\\xddI.0p\\xd7\\xdeBT\\xb4\\xa5B\\x14\\x84\\x11\\xf3H:\\x1d&\\xae\\x11\\xb9X\\xdf\\x07F\\xa7\\x16\\n\\xfe\\xab\\xfd\\xfa\\xc4\\xf8\\xab\\x82\\xb0\\x8e/\\xbeU\\xfe\"\\xab\\x86\\xeeE\\x82\\xec\\x90[RHB\\x14\\xb0\\xa2\\xa1?J@\\xadV\\x8fI\\xce\\xc9@\\x95q\\x92\\x87\\xb7\\x08\\xbd\\xff\\x00\\xfa\\xa8\\xc7\\xa5\\x17dI\\x92x\\xdd\\x00G\\xd2\\xc2\\xef\\x07\\xfeUo\\x8f\\xdec}\\xd0m?\\x95\\xaf\\xb1\\x9b\\xedzi3ip\\xff\\x00\\x06\\xe1\\x9c9n\\x8bl-\\xc7Y\\xb6\\r8\\x85\\xb4\\x90\\x00[\\x8bPR\\x9c:\\xe8dm\\xb6\\xa7\\xadOg\\x02\\xb2\\xb7T\\xb6\\xeb\\xb9\\xba\\xe5Mj\\x14\\xfaQvG?\\xf4\\xea\\xdf\\xdf\\x87\\xdd\\x0f\\xfc\\xba_\\xfe\\xd3\\x9d\\x9299x\\xf6\\xcf\\xff\\x00\\xe2\\\\\\x0f\\xfc\\xba\\xc2]*\\x93nI\\xb7\\xea\\xed\\xbf\\xcd\\x9b,\\xd2J\\x93K\\xf27J\\xae\\xb0\\xdb\\x04\\xb6\\x9b\\x85\\xb6\\xc1Y\\t\\nu\\xfc\\xb9\\x89\\xe4$\\xd3\\x8al\\x05+\\xe5\\x1c\\x1a\\xed\\x9c\\xe9\\xf5\\xd6\\xa1\\xe1\\x9e\\xd2\\xbb>\\xed?\\x89\\x18\\xc2\\xb8g\\x8a\\x93\\x8a_%\\xa5\\xba-\\x98e\\xc4J\\x11\\x05D\\x95\\xa0DO]g\\x9dn \\xa8\\x1c\\xc5\\x12\\xc3\\x18R\\xa0Rr\\xd9\\xca!]cNu\\x92\\xe0j&\\xc4\\x03\\xc9\\xc5iX\\xb0\\xdfZ\\xc90#6j\\xe5\\xf2\\xa7O\\x85BF\\xcd\\x96\\xe0\\xd1\\x83#C\\xf5R@\\x13\\xe5F<\\xc5\\x14M\\x87:\\t:\\xd1\\xcfSE\\x11G\\xa6\\x94\\xa8V(\\x1e\\xa6\\xb47\\xa5\\x08\\xcd\\xc3X2\\xb5\\x91\\x8b\"=\\xec;\\xf8V\\xf8\\xdb\\x97\\x95h\\xbfI\\xa4\\xe6\\xe1\\x0c9_\\xb9\\x8c[\\xcf\\xbd\\xa7E:\\xd1-\\xd9\\xcd\\xf8noUnA\\x88Q\\xd4i\\xca\\x9f`\\x90\\xdd\\xd4\\xa8\\x10\\x14\\x91\\x90\\x8f=\\xe7\\xe1Q0\\xb5\\x91f\\xd8\\xd4\\x03\\x98+\\xdb\\x02\\xa44a7I\\xcc\\x06\\xa9\\x82Lk\\x9b\\xfcj\\x88\\n\\x08Q\\xe63f\\xd8\\x19\\xa0\\xbf\\x19*\\xcd\\xb9\\x91\\xee\\xfc\\xedM\\xadp\\xb5\\xce\\xb0\\xa26\\xdb\\xd8hw\\x87a\\x96I\"5\\xa7\\xa5\\xa0a\\xe4\\x05D\\x13\\xafR:\\x9ety\\x04\\x1dA\\xe7\\xa5\\x07\\x12\\xe3Ik\\xbdB\\x90\\x1cd:\\xd9 \\xf8\\xd0f\\x14:\\x8f\\t\\xd4t\\xa2J\\xb3\\x82@\\x905Q\\x03D\\x8fo\\xb4\\x8d\\xe90E^:2\\xd8f\\xe5\\x9d?G\\xc8\\xff\\x00\\xca\\xa6\\xd8\\x9c\\xd6LB\\x81$#\\x9f<\\xb5\\x07\\x1cQr\\xc0\\x82\\x00\\x05\\xc4\\xef\\xef\\xa9\\x96J\"\\xc1\\x92`\\xf8Q>g-\\x1e@\\x98\\x92KjI$\\xccjF\\xddi$f$\\xe6\\xd0\\xeb\\xaa|\\xfe\\xcaAqZ\\xc8O\\xe4\\xd3\\xd6\\x8c\\xbf}\\x7fmil\\xd9v\\xe2\\xe5\\xe42\\xda\\x02I*R\\xc8\\t\\x1and\\xd0\\xb8\\xd0\\r\\x94I\\x10f\\x0e\\xa0\\r\\xfc\\xa9+@0b`\\xc8\\x8a,\\xc4\\x0f\\x12aBF\\xdc\\xc1\\x8f\\xb4\\x1a\\x0e\\x82\\x80\\x85(e\\xcf9U\\x1a\\x18\\xd0\\xc5\\x1c\\x03\\x0eCyey`\\xe8\\xb0\\x9dG9\\x8e\\xa2\\x97xf\\xe1j\\xcf\\x9f\\xc0<E$f9F\\xf3\\xb7Zk1($\\x0c\\xb1:\\x01\\xb5*\\xe0\\xfc\\xaa\\xa0\\xcf\\x81% \\xeb\\xb2E1Qu\\xd9&\\xbd\\xab\\xf6w\\'S\\xc5Xg(\\x9f\\xd6\\x1b\\xfc\\x05z\\xf5^A\\xf6A*\\xeds\\xb3\\xa0\\x01#\\xf9S\\x87\\x19\\xff\\x00l\\x9f\\xc2\\xbd|\\xa9C\\xf0c\\xbcd\\xac\\xb8k\\x1ew\\t\\xff\\x00\\x85U\\xc0\\xbd\\xba]9k\\xda\\xa7\\x1c\\xdc\\xb0\\xa56\\xa6\\xae\\xec@ZTA\\x07\\xd5\\x9a\\x04H\\xea\\rw\\xbf\\x1a\\x9f\\xe6\\xfbQ\\xd6\\xe4\\x7f\\xc2\\xaa\\xf3\\xff\\x00\\xb7\\x07[_i|\\x7f\\x9cw\\x93\\x8b\\xd8\\xb6Q%!_\"\\xd71\\xb1\\x1f}vt\\x7f\\xe2\\xfe\\xfeF9\\xd5\\xe2h\\xdc\\xf8Gd\\xa9*\\no\\x1d\\xc6\\xeds\\x8d\\xbdl\\xce\\xb1\\x15i\\xc3\\xdc>\\xee!~0\\xb3\\x89\\xe2\\x0c*\\xc7\\rmKP|K\\x9f\\xac8\\tV\\x9a\\x929\\xd6wd\\x18K\\xe1\\x08l\\x00\\x14\\x00\\x85\\x9d+\\x1a\\xe1lG\\'\\x19\\xe2\\x05\\x8c6\\xe4[\\\\\\xe0\\x8d<\\xe5\\xda\\x9cGv\\xd3\\x82\\xe5\\xd4\\x86r\\x18\\\\\\x90\\n\\xb3DF\\x87X\\xadWQ9Fv\\xf8_\\xa9\\xe9\\xce1\\xc4\\xd7dR\\xfe\\xc4\\xd3\\xc2m\\'\\x12m\\x93wy\\xdd\\x86\\x9dx\\xa3\\xbe!$\\x01):\\r\\x08=>\\xba\\x93g\\xc0\\xde\\xb2\\x8b_\\xd2\\x1c\\x13\\xc4\\xf7\\xa9\\\\\\x07..1\\xf6\\t)$jR\\x16\\x9d#\\xa0\\x06\\x07Zq\\xacv\\xed\\xfe1z\\xd5\\xfc4\\xb3b\\xde\\x0c\\xa7\\x1b\\xc4C\\x88\\xee\\xdcp\\x95fk$\\xcc\\xa5 *H\\x8db\\x98\\xb3\\xb4R0\\x8f\\xd2MZ`\\xf7\\x96\\x16\\xec\\x05\\xae\\xe9\\x8c\\x15\\x87t\\x11\\x9a\\no5#\\xc8}\\x950\\xcb9.}=L\\xf2\\xa8\\xc9[H\\xa4\\xe0<9\\xcb>\\xd6pVT\\xd1`[Xb\\xa8)Y\\nX\\x85\\xa1!*#r\\x9d\\x81\\xf3\\xae\\x80\\xf7\\xd6\\x95\\xe0\\xa5[\\xddv\\xb3osh\\x96\\xd2\\x95\\xe0\\xb7n\\x8e\\xee\\xdc\\xb2\\x92\\x14\\xe3`\\x10\\x82\\xa5G>f\\xb7H\\x14uro\"o\\xd0\\xe1\\xc4\\xbb#H\\xe5\\x04\\x9a\\xc8\\xf8{[g:\\x07\\x0e\\xde\\xc1X\\xda\\'I\\x1a\\x8e[\\xd6G\\xc3\\xc4\\xfa\\xbb\\xfeN\\x0f\\xb2\\xb8\\xe8\\xe9l\\xbaH\\xdfJT~f\\x92=\\xb4\\xa8\\xfc\\xefN\\x89l\\t\\x83\\xb1\\x9db\\x92\\x97\\xdbq\\xc56\\x95x\\xd2|@\\x88\\x8ar\\x01\\x1du\\xde\\x8f.\\xfaO\\xdbGh\\xacI\\x024\\xad/\\xe9\\x1e\\xd8s\\x83\\xad\\xc6\\xf9q[#\\xa9\\x8d\\xc3\\xa2\\xb7I\\x04\\x9d\\xabPzDJ8\\x1dN\\x10\\x95%\\x18\\x95\\x81 \\xed\\x05k\\x1f}9GD^\\xceQ\\xc3\\'\\xd5\\x90Rt\\x95nv\\xd0T\\x86\\x81\\x8b\\xd1\\xa9\\xd1:O\\xf1\\nc\\r\\xf0\\xdb\\x94\\x89\\xf0\\xb8D\\x91\\xca*C\"=o]`\\t\\xff\\x00XTQC\\x0e\\x02\\x14\\xa3\\xaf83@\\r\\x88$\\xfb4\\x9f\\xcf\\x95\\x1b\\x80\\x05/\\xc3*\\x99\\x06)N%%D6!$\\x08\\x19`\\x11\\xec\\xa4\\x80\\x95\\x8a+;x\"J\\x94\\xbc\\xb8Si \\x88\\x8f\\x96w\\xc3\\xec\\xd7\\xeb\\xa8aj\\x00\\x84\\xa8\\xc2\\x86U\\x0c\\xc4H\\xde\\x0f\\x96\\x83JS\\xabS\\x9d\\xd0p\\x98e\\xbe\\xed&d\\xc6bc\\xfd\\xe3I\\xd6\\x0c\\x8dI\\xe8E6\\xed\\x8b\\xc1Y\\x8c\\x98\\xc3\\xe4\\xfe\\xf2H\\x93\\xbdK\\xb0\\xfe\\x80\\xd0:\\x1c\\xad\\xfb>mD\\xc5\\xc1\\xf5\\x1dIL\\xad>\\xea\\x95a\\xa5\\x839@H\\x86\\xf6\\xf6oH\\t0f\\x0e\\xf2\\x08\\x93&\\xad\\xf8Y\\xd4Yqw\\x0e=s\\x9c7o\\x8cZ8\\xe6H*\\tK\\xe8&=\\xc0\\xd5l$2\\xb3\\x94%s)\\xd3\\xec\\xa2K\\xdd\\xcd\\xe2n\\x1a\\x04)\\xb7\\x83\\x89$\\x1dH3\\xf7P\\xb5\\xb1\\xbd\\xe8i_\\xb7t\\x98\\xd5\\xf7H3\\xbf\\x8dGQ\\xec4K\\'\\xc0\\x95\\x1d\\x131\\x1b|>\\xda\\x0b\\xf1-Z\\x8dTN\\xb3\\xd6h\\x97\\xaa\\x95\\x10\\'\\xaf\\xdb@Pfr\\x02v\\x1f\\xc5\\xb5*\\xeb\\xf6\\x8e\\x81\\xb6A\\xb7\\xf6E$\\xe5(\\xf1N@5\\x03z;\\xcf\\xda;\\xa10405\\xf0\\xef@Q{\\xd8\\xd8\\x9e\\xd8;8\\x06#\\xf9Qa\\x1e\\xe7\\x01\\xfb\\xab\\xd7\\xaa\\xf2\\x13\\xb1@U\\xdb/f\\xe0\\x12\\x82x\\x9a\\xcbT\\xef\\x01[k\\xe4\\x08\\xf6\\x13^\\xbb\\x14(\\xcf\\xca\\xac{\\x87\\xe1Qt\\xc4\\xb81\\xde5\\xd6\\xce\\xc8\\x7f\\xd6\\'\\xfd\\xc5W\\x9e\\xbd\\xb2:\\x0fj|~\\x1d\\nSj\\xe2KD\\x10\\x95\\xe52\\x1ah\\x0eF\\xbd\\x04\\xe30\\xa45b\\x14\\xe2\\x96\\x0b\\xca0@\\xfd\\xdf!\\\\\\x05\\xda\\x05\\xab\\x98\\xefk\\x9c}`\\xc9i\\x0e+\\x88\\x8b\\x88R\\xa6s4\\xda<>\\xc3\\xf6\\x8a\\xed\\xe9?\\xc4\\x14\\xe2\\xe7\\x1e\\xd5\\xbb:\\xe1\\xb5#\\xbfpwn\\x1f\\x1c~\\xd0~\\x15\\x8b\\x8b\\x86]\\xe3n)\\xc3\\x13\\x89\"\\xdb\\x11^\\x15h\\xebi\\x0e\\x02\\xf3M\\x15\\xae\\x16\\x13\\xcd2bz\\x98\\xadd\\xf7j\\xdcW\\x84!\\x91ym\\x82\\xad\\xd7\\x02\\xf2\\xa9kpg))\\x04\\xe9\\xa4\\xf8\\x87\\xd75\\x84\\xe3}\\xac\\xe3\\x17x\\x85\\xa6.\\xcd\\xf2p\\x97\\xefm\\x03w\\x96\\xe8\\x0c\\xa9_&\\x14\\x91\\x91JD\\xe4\\x0b\\xd4\\xa0\\xcc\\x89\\x13\\xce\\xb4\\xc5\\x82I\\xc97\\xca\\xfdQ\\xe8fj[\\xf4:A\\x18\\xbd\\x92\\xf1\\xb3f\\xce#n\\xe6#ga\\x9e\\xe5\\xa4\\xbe\\x12\\xf0\\x05\\'*\\xd6\\x91%\\x01PHP\\xf3#j\\xb6\\xba\\xb5\\xc4/xw\\x10\\xb9U\\xfe.\\xfd\\xa7\\xa8\\xadjP\\xc6\\xed\\xae\\x19p\\x04f$\\xe5i%\\\\\\xb5\\x07Q\\x11ZG\\xb3\\x9e)\\xbc\\xc5xN\\xc3\\x16\\xbb\\xbbo\\x14\\xc5\\xd8\\xbc\\xb8\\xb5\\xc4\\\\\\xb6Sv\\xae)\\xb2~G*\\xf2\\x85\\x04\\xeb)\\x8c\\xd9L\\x91\\xd2\\xb3\\x1cC\\x8a[E\\xbb\\xac\\\\;x\\xfd\\xe3\\xf6\\xaf$<\\x9e4\\xef\\xc0\"G\\xca\\xdb\\xe4JB\\xf7\\xcc\\x8c\\xa0L\\x81\\x1c\\xae\\x10\\xed\\x95&g\\x91\\x7f.\\xe8\\xbe\\xec\\x84\\xb9q\\xda\\x03n8\\xac\\xc9o\\x85\\x94\\xad\\xb5\\x05w\\t\\x06\\x7f\\xbb[\\xe3\\xf3\\xb5s\\xc7aw\\x06\\xeb\\xb4\\x1cID\\x08k\\x85m@\\x831\\x9e\\xe1F\\'\\x98\\xf0\\xd7C\\xfew\\xa5\\xd6\\xaa\\xce\\xd1\\xc1\\x8d\\xdc\\x139=\\x1b\\rt\\xac\\x8f\\x87c\\xba\\x7f]\\x96=\\xc2+\\x18C\\x89;\\x1c\\xd24\\x8a\\xc8p\\x07r\\xa6\\xe32\\x16\\x80Jc0\\x8e\\xb5\\xccl\\xcc\\x88E((t\\xd2\\xa1\\xfa\\xd0\\x03\\xa6\\xbb\\x9a\\x06\\xf29\\xc5\\x04\\x93\\xb3@\\xda\\x8c\\xaf\\x7f:\\xadU\\xf4\\x023\\x00|\\xe9\\x971\\x00>\\x96\\xbe\\xdaV\\x85L\\xb5\\xef\\x0c\\xef\\x15\\xa8}\"\\xe1]\\x9d\\xe2j\\x91\\xf2w6\\n<\\xff\\x00\\xaf\\x03_\\x8dlO\\xd2\\t\\x9d\\xd5Z\\xf7\\xb7R\\xc5\\xd7d\\xfcF\\xea\\x91.!Vj\\n\\x93\\xb0\\xb9G\\xe2iJJ\\xa8J.\\xceO\\xb1T7\\x04\\xc1\\x0b:\\x111\\xa6\\xd4\\xfbeY\\xef\\x13\\xaeR\\x8d\\xba\\xc1\\x1aT[3\\x91$j\\x08T\\xfdT\\xf3D%\\xcb\\x90#Ft\\xe5:\\x8eU\\x8f\\x83O!)\\xc0I\\nT@\\xf3\\xde\\x8c8\\x98&t\\xdfi\\xa6V\\xa3\\x98\\x89\\x93\\xac\\x19\\xa2I\\xd4\\x14\\xf9j5\\xa7z$\\x7f6\\xd3\\xae\\x9b\\r\\x7f?\\xe3J$k\\xa8\\x94\\x90v\\xdb\\xe1N_\\xb5l\\xc5\\xae\\x06\\xbbp\\xae\\xf1\\xfb%\\xaa\\xe6\\x15\\xfdh\\xb8q\"?\\xd4\\x08\\xd3\\xdbL\\xb4P\\x90\\xb0\\xe2I%\\'&S\\x00*t\\'\\xa8\\xdciM\\xe8\\x16\\xca\\xfcic\\xd4I\\x00\\x93\\x9d<\\xf7\\xd3\\xeb\\xe7R0\\xf5E\\x9bD\\x98\\x04#\\xcf\\\\\\xb5\\x13\\x161d\\xa0u9\\xd3\\xf1\\x9a~\\xc4\\x93\\x87\\xb2`|\\xd4{\\xf4\\xdb\\xca\\x90\\xfc\\x93\\xf3\\xa7)\\x82\\x0cl5\\xd66\\xa4\\x05$F\\xba}\\xb4\\xd1T\\x19=fF\\x9a\\xfe~\\xea\\xb2\\xe1\\xd6l\\xee\\xb1\\xfc:\\xdf\\x15R\\x91`\\xeb\\xcaK\\xea\\n\\xd4x\\x15\\x1a\\xff\\x00h&\\x85oA\\xc1\\x05J\\xdc\\x13\\x02#h\\xa2.A\\x12\\xa0\\x01\\xfe)\\x89\\xa8\\xac\\xa9j\\xb6eN&\\x1c\\xca3x\\xb6$k\\xec\\xa7\\x1eR\\nZ)IB\\xc2\\x0erN\\x8a3\\xcb\\xdd\\xa7\\xdfOb\\x1c\\xef\\x0b\\x7f(\\xda\\x8aV\\x83\\x98(h\\xad\\x0e\\xff\\x00\\x1a;\\xff\\x00\\x0b\\xf7@\\xef\\x04\\x1d7\\xd2\\x99\\x92\\x19\"\\x01 \\x1eR`\\x8aw\\x14$\\xdd^\\x12I \\x9e~T\\xb7c$vm\\x7f\\x88a]\\xa1\\xf0u\\xff\\x00\\x0fX3\\x8a\\xe2\\xf6\\xd8\\xd5\\xbb\\x96Vn\\xbd\\xdd&\\xe1\\xd0\\xa8Ke\\x7fFf\\'\\x91\\x89\\x9d\\x8f~\\xa3\\xb5\\xae\\xde\\xae\\xc96\\xdd\\x92`\\x16rL\\x0b\\x9e(B\\xa3\\xdb\\x00W\\tv(\\xd9w\\xb6N\\xcd\\xd2<?\\xe5\\x15\\xa4\\xf9\\x99&\\xbd1\\xef\\x1dmd\\xcaI$\\xf2\\x15\\xcb\\x9eRRTm\\x89E\\xad\\x98\\xd7\\x0c\\xf17h\\\\B\\x9b\\xb4v\\xab\\xc3XG\\x0f\\xae\\xddm+\\x0e^\\x17\\x88z\\xd2n\\x02\\x82\\x83\\xa1Z\\x92\\x92\\x98Lu\\xcczI\\xe3~)\\xc5\\x95a\\xdbW\\x1d\\xdd\\x97ChO\\x11\\xdd\\x85\\x15\\xac\\xa1)\\x80\\x90\\tP\\x04\\r\\xa3\\xdb\\x15\\xddO\\xba\\xe3\\xaaGx#,\\xc1\\x07\\xd9Z\\x97\\x1e\\xf4z\\xec\\xef\\x16\\xfeVq.+\\x84\\xe2\\x17\\x18\\x9b\\x88\\xbb\\xc4\\xde#\\x1b\\xb9i\\xb5\\xbd\\x91N\\x1f\\x02\\x14 \\x12\"\\x06\\xc2\\xbbz\\\\\\x8e)I\\x917\\xdb/\\x85\\xf0h\\xab\\x8e&\\xb7\\xc6\\xadl\\xac8\\x85\\xd6\\x97j\\x8cI\\xab\\x97.ZJ^Op[t*\\x16v\\xf1\\x14fO=:T\\x13\\xc7\\xc9\\xc0Wj\\xed\\xf7\\x0ea\\xdcT\\x85Z\\xb5n\\x9b\\x17\\xdbB[\\xb7!EEq\\x95r\\xa31\\xc8\\x8fa\\xaa\\x0bFxe\\xfbV\\x14x*\\xcd\\x1d\\xe2\\x12\\xa2\\x94\\xe3\\xf8\\xa4k\\xae\\x9f-O&\\xd7\\x87\\x08\\xf0\\xf0\\xa3H\\x13$\\'\\x1f\\xc4\\xa2}\\x9d\\xedz\\xaaO\\xc2\\xfb\\x04\\xfa\\x89N4\\xcc\\xfa\\xdb\\xb4\\x9c6\\xf2\\xd3\\x08S\\xd8\\x12pv\\x12\\xe2\\xdfr\\xc6\\xde\\xd8)\\xb6ITe\\x1e\\x009L\\xe5\\x1f;\\x9d]5\\x8epu\\xcb\\xcf^+\\x1e\\xe2Kg\\x1fy\\xc7\\x1eJ\\xf0KG\\x82B\\x959J\\xb3\\x05\\xa8k\\x01[\\xc0\\x13\\xa8\\xad^\\xdd\\x8e\\x04\\x07\\x87\\x02[c\\xe8\\xe5\\xe2\\x0c@G\\xfd\\xed8\\xc6\\r\\x82\\xdd\\xddZ6p\\xbb\\x90\\x97\\x9fi\\x93\\xfc\\xfbzL)a1\\xaa\\xfc\\xfe5K\\xb2\\xeeQ\\x7f\\x9a&}FW\\x04\\xa2\\xd6\\x8e\\x90\\xf4v_\\x7f\\xc7|^\\xb0<\\x0cp\\xfe\\x14\\xdaH\\x11 \\xb8\\xf1\\x9c\\xbfFcnU\\xd1\\xb2zV\\xbb\\xec\\xd7\\xb2n\\x1b\\xec\\xba\\xeb\\x19W\\n\\xfe\\x94+\\xc4\\x03m\\xdc\\x9b\\xfcEwR\\x1b*)\\xcb\\x98J~q\\xac\\xf9K!DF\\xc7\\xa5pu9\\x16\\\\\\x8e~\\xa68\\xe2\\xe3\\x14\\x99\\xcd\\xe2\\xf2\\x13\\xe0\\x01 t\\x14\\x15x\\xa9\\x89\\x9f:\\ra\\x17kH\\x96\\xd0\\x83\\x1fI\\xd1\\xa7\\xb8M8\\xac,\\xb3\\x1e\\xb3un\\xc7\\x91\\xcc~\\xd8\\xae\\x07\\x9a+\\xc9\\xdf\\xee\\x9f\\xa0\\xc1\\xba^\\xa6H\\xf7\\xd3f\\xe1Q\\xa1\\x06\\x9dP\\xc3YNg\\xb1D\\x81\\xfc\\tO\\xe2M)\\xa5\\xe1\\xef\\x10-Q\\x7f{\\xd3#N\\x10~\\t\\x1fmG\\xbd^\\x07\\xee\\xd8\\xc7z\\xb3:\\x98\\x8eZSKt\\xcf\\x89q\\xef\\x15t\\x8c2\\xe1\\xd0\\r\\xb7\\x0f\\xdd\\xb9?I\\xf0\\x10#\\xda\\xa5\\x1f\\xb2\\xa47\\x80c\\x0e\\x11\\xdd\\xe1\\xf8}\\xa0\\xdb\\xe5\\x1f\\xcc~\\tO\\xdfY\\xfb\\xd4\\xbc\\x07\\xbb1\\xd4,\\x1dA\\xcd\\xb6\\xc0\\x9f\\xb2\\xb1~\\xd7X[\\x9d\\x92\\xf1g\\xc9\\xb9\\t\\xb6ez\\xa0\\x81\\xa5\\xc3pkm3\\xc3\\x18\\x8a\\x80\\xf5\\x9cR\\xd5\\x81\\xd1\\x8bR~\\xb5\\xab\\xee\\xacg\\xb6\\x1e\\x17C}\\x8e\\xf1\\xdb\\x8b\\xc4\\xee\\xdfq\\xac\\x1dn\\x84\\x9c\\x89A\\xca\\xe2\\x0c\\x14\\xa5;iK\\xdf[\\x07\\x8a\\x91\\xc3V\\xe4\\xca\\xe3@\\t#_o\\xdfN7%w<\\xe5\\x9dU1#O\\xc2\\x9bIBR\\nH \\xa8\\xcc\\xaay\\x9d(6Gx\\xf0\\x80Gr@\\x8fv\\xbf\\xe1]k\\x83\\x95\\xf2\\x13\\x9b\\xac\\xf4\\xdb^\\xb4\\xa5\\xf83j\\x15)\\x19\\x7f\\nl\\x89\"S\\xac\\xf3\\xa5o\\x13>Z\\x1f\\xb6\\x98\\nyc\\xb8\\xb4\\xca\\xe0Z\\x83*\\x05#\\xe8\\x9c\\xe7O\\x86\\xbe\\xfaBV7\\x1a\\t\\xd2LP ~\\xec\\x0e@\\x9f\\xcf\\xe4R\\x80\\x02r\\xea\\t\\xd6i\\xb2|\\x95\\xd8\\xb2\\xbfQ^\\x83\\xc2\\xa4\\xcf\\xc6\\xa4\\xd8\\x91\\xfa>\\xdd#(\\x84\":{\\xe9\\x8c\\\\\\x01d\\xb2\\x990\\xb4\\xc4\\xeb\\xcf\\xec\\xa70\\xe86,\\x0c\\xbe\\x10\\x94\\x11\\xae\\xbb\\x1a\\x18\\x13r\\x8e\\xe9Nf\\x92\\x91\\xb6\\xc4\\x1f\\xc2\\x9e\\xb1V\\\\J\\xdc\\xbc\\xe8e=\\xe7\\x89[\\x81#B|\\xa6>4\\xc4\\xf8H\\x03M\\xf5>\\xde\\xb4\\x88Nc\\xe7\\xb9\\x9f\\xae\\x80ch\\x94\\xa5\\x02%Q\\xd7o/\\xb6\\x82\\xc9\\xcc\\xa2\\x88\\xdc\\x9d?>T\\xb8H\\xd0\\r\\'\\xae\\x86\\x9aV\\\\\\xc3y\\x1a\\xc9\\xfch@\\xc5*H\\xf0\\x82\\xa9I\\x00\\x01\\xac{)\\xdcID\\xdd^B\\x84\\xe6Q\\x1at\\xa6\\x86Te\\xccN@g\\xc2A\\'\\xf3\\xd2\\x95\\x88\\x10\\x1f\\xbc\\xcb\\xa7\\x88\\x81\\x1bQ\\xae\\x06e\\xde\\x8fLz\\xc7n}\\x9b\\xa0\\x99\\x8ci\\x0e\\x7fu\\xb7\\x15\\xf7W\\xa9o`\\xc9V\\xc0\\x1fp\\xaf1\\xbd\\x18\\x9bK\\xfe\\x90\\x1d\\x9f$\\x89\\xfepy_\\xdd\\xb4|\\xef\\xee\\xafW{\\xb4\\xa9\"@\\xda\\x89E5\\xb2Si\\xe8\\xd7x\\xc5\\x90\\xb2y\\x80$gJ\\x8cL\\xf3\\x15G\\x8a\\xab\\xbb\\xe0\\xbe0r`\\xa7\\x06\\xbe3\\xd3\\xe4\\x17Y\\x7f\\x19\\xa7-\\xd5\\x88\\xd8wnm\\xedMa\\x1cF\\xbe\\xeb\\xb3\\xae8wP\\x06\\x07}\\xaf\\xfb\\x05\\xd3\\x84TRHm\\xb6\\xce(\\xe1\\x8b\\x1b[\\xcc5b\\xe9\\n[\\x88C!\\xa2.\\x0b{\\x8dt\\xe7;N\\x90y\\x89\\xac\\x89\\x18\\x06\\x16V2&\\xe1@)@\\xfe\\xb9\\x066\\xcb% \\x03#ND|j\\xaf\\x84\\x1c,\\xda8{\\xde\\xe8\\x82\\xd0\\x070\\x8d\\x13\\xa8#\\xa7\\xe7\\xaddl8\\x90\\x1fm*\\x92T\\xae\\xf5kY\\x00)Fcm\\x81\\x98\\x06|\\xa7c\\xea\\x99\\r\\xdb\\xf0\\xe6\\x19\\x97U\\xba%\\xc8\\n7`\\r\\xc0\\xd8\\xa7_\\xaa\\xa0Y\\xb2\\xd7\\xf2\\xa7\\r\\xb6\\xb6i\\xc6P1Kf\\xf2:\\xf7z\\xa9\\x0f$\\x1f\\x16T\\xe8w\\x00\\x8a\\xcam\\xd6\\xe3\\x8aA+Q\\xd4\\x90\\x95:\\xa3\\x13\\xbf(\\x8f\\xb2O(\\xaa{%\"\\xef\\xb4\\\\\\x11\\r!\\xc4\\x91\\x8cZ4\\xbc\\xea\\n\\x95%\\xc4\\x89\\x06\\x01\\x88\\x03z<\\x8f\\xfe\\x93\\xb9\\xad\\xd4}b\\xe7\\xfd!\\xfbh\\x9c|\\xa5\\xc5\\x8e\\x8a\"\\x85\\xa89\\xdeQ\\x06\\n\\xcf-*\\xbe\\xe6\\xe1i\\xb9x\\x04\\xc8\\x0bV\\xb3\\xe7^NGF\\xb15#|\\x19\\x87\\xea/1\\x1cN\\xf3RHU\\xd6P}\\xc2\\xa6[\\xf0\\xa7\\x0e\\xda\\xea\\x8c1\\x95\\x9d\\xe5\\xc2\\xa7\\x0f\\xd6iM\\xba\\x08\\x00s$\\xc0\\xa7\\x83\\xb3\\xd4\\x8a\\xf1\\x96Iz\\x9e\\xdb\\x82&\\xb2\\xcd\\x85\\x98\\x1e\\xaben\\xca\\x87\\xee\\xb2\\x90~\\xca\\x95\\xeb\\x8a \\r`\\x1d\\xb3\\x11U\\xc9R\\xb9\\xc8\\xa5\\xa5s\\x11\\xcet\\xa9\\xee\\x17m\\x13\\r\\xca\\x80\\x99H\\x9f/*g\\xbeR\\x8e\\xab:s\\xa6T\\xb0w1\\xa5\\x103\\xed\\xf2\\xa7d\\x12\\x92\\xaf0+\\x19\\xed]\\xbe\\xfb\\xb2N\\xd0\\x11\\xb1<=vb:&~\\xea\\xc8\\xd2u\\x8f\\xaf\\xa5Sv\\x80\\xdf\\x7f\\xd9\\xc7\\x1b\\xb7\\xac+\\x87\\xaf\\xe7\\xdc\\xc2\\x8dTyD>\\x0f<;\\xc2\\xe3hY\\xf1\\x1c\\xc4\\x9d|\\xf4\\xd6\\x89\\xb5~\\xb0\\xe6h\\xd5\\x95i\\xe7\\x15\\x1d\\x85\\x850\\xd2\\x88&@;u\\xe4i\\xc6\\xcf\\xeb\\x07]{\\xb5\\x08\\x8f#^\\xa4x<\\xd9r6\\xa5\\x05\\x1d\"\\x04\\xeeu:R\\xf3\\x1d|Q\\xa4j\\x7f>\\xcairA\\x9dDI<\\xbd\\xb4\\xa3(\\x037\\xb8\\x01\\xcb\\xed\\xab\\xd9#\\xa7\\xc2\\xcb\\x0e\\x95\\x01\\xde)c\\xcce1\\xaf\\xc6\\x94\\xd9\\xefT\\xa0\\x95\\r\\x8a\\xb5TN\\x93\\xef\\xa2x\\xc5\\x8d\\x91\\x03\\xe9<\\x15\\xcc\\x1f\\x12b\\x056\\x14u\\xccc^\\x9f\\x9et=\\x08\\x89\\x89\\xa8\\xfa\\x9a\\xe6~rI\\xf6\\xcf*v\\xc5g\\xd4-\\xcc\\x04\\x94\\xa1\\x030\\xe7\\xb8\\xde\\xa3b\\x84\\xfa\\x92\\xa0\\x0f\\x9c\\x9fv\\xbbO*r\\xc1C\\xd4Y\\t3\\tH\\x1b\\xed\\xec\\xf8S\\x06L\\xceB\\x0e~cJ\\x95\\x87\\xda\\xaf\\x11\\xbfb\\xcd\\xa5\\xa1\\nyJJT\\xe1\\x84\\xc8IV\\xe7\\xaeX\\xf7\\xd44\\x82\\x02\\x8cB6\\x90\\x9d\\xaaf\\x12R\\xacR\\xd88\\x14P\\n\\xe4\\x01\\xaf\\xccV\\xd4\\x01\\x11/w\\x8d\\xa1G\\xc4\\x16\\x8c\\xdb\\xfb\\xfd\\xdb\\xd1\\xba\\x14\\x957 \\xc2\\xd3\\x98y\\x83M2T\\xa6\\xda\\x9d\\x8aA\\x90$l(\\x13&v\\xd3~\\x9f\\x0f}\\x00\\xc5\\x92\\nAQ\\x00\\x98\\xd3\\x9d\\x1d\\xf2\\x8e{\\xb3\\xa2HR\\xe7]\\xb9\\xd2s\\x99\\x04\\r\\xc8\\x80dQ\\xe2\\x0b=\\xe5\\xd9I;\\xae\\x00\\x11\\xcc\\xe9Mr#g\\xfa) 9\\xe9\\x11\\xd9\\xf8\\x81\\xa5\\xc5\\xe2\\xb5\\x8d\"\\xc6\\xe2+\\xd5a\\xb0\\xaf,=\\x13\\x13>\\x91\\xbc\\x02 \\x8c\\xaa\\xc4\\x0f\\xb2,n4\\xfa\\xeb\\xd4\\xf4\\xfc\\xd1\\xec\\xa7/\\x02\\x89\\x86\\xf1\\xa1\\xfdr\\xce92\\xb3\\x13\\xfcI\\xad]\\xc46\\x8eZv_\\xda\\r\\xc2\\xdd\\x91\\xfc\\x9f\\xbeFPO\\x88\\x96\\xcf\\x88\\xf9\\xfb+g\\xf1\\x99\\x1f\\xa4-\\x81\\x9d\\x18Q\\xff\\x00xV&0\\xdbL\\x7f\\x87\\xb1l\\x17\\x13K\\xaa\\xb0\\xc4\\xd8r\\xda\\xe42\\xe1m}\\xda\\xc4+*\\x86\\xc7\\xce\\x9c]\\x14p\\xce\\x19\\x8a?\\x864\\x05\\xa8n\\tJ\\xbcy\\xa4\\x10\\x00\\xe4G/mX\\xa3\\x89\\xaf|%IiYS\\t%n\\xe8\\x9e\\x9f>\\xbay\\x1e\\x8d}\\x9e\\x00\\x02X\\xc7\\x93\\xa4\\x7f\\xef\\xa5\\xe9\\xfe\\xed<\\x9fF\\xae\\xcfA\\xd1\\xbcx\\x7f\\xfb\\xca\\xff\\x00\\xfak\\xb9e\\x81\\x939\\x91\\\\Aqsj\\xed\\xb5\\xdd\\xb5\\x9d\\xc3\\x0e\\x1dR\\xea\\\\!=#\\xc7\\xa4\\x1dF\\xff\\x00\\r*\\xc3\\x80\\x1a\\xcd\\xc7|&\\x80\\x00\\x1f\\xa6-\\xa0{\\x15<\\xbd\\x95\\xd2\\t\\xf4m\\xe0\\x004N<:\\x7f</\\xff\\x00\\xa6\\xa5a}\\x85p_\\x0f\\xe2\\xd6\\x18\\xae\\x1c1\\x81y`\\xfa_c\\xbe\\xc4\\xcb\\x88\\xce\\x99\\x8c\\xc9)\\xd4k\\xb5?{\\x1a\\xd0;\\xa34\\xc1\\xf0\\x8cC\\xf9Gw\\x8a\\xdd\\xe2Jv\\xd5Am\\xb1n\\x92\\xa4\\x80\\x95\\x10ai\\x9c\\xa4\\x824P\\xd6\\x9c\\xbd\\xc5V\\xdd\\xe5\\xc2?D^;\\x95\\xd5\\x0c\\xe9BaZ\\xee*\\xef\\x0f\\x03\\xb8\\'\\xa95\\x94\\xa1\\xb1\\x91:\\x13\\xa0\\xd8\\xd7\\x06O\\x88\\xd2.\\xb99\\xb5\\xbb\\x92@\\xf0\\x92\\xa8\\'\\xe7T\\x96\\x9cR\\x88!1\\'A\\xbcUZs\\xda\\\\=n\\xff\\x00\\xcfe\\xc2\\x92\\x0729\\xfc \\xd5\\x83K.\\x90U\\xae\\x9c\\xf5\\x8f}|\\xf2>\\x8d\\x92\\xd0\\xaeg_g:}$\\xf3\\xdc\\xf5\\x1a\\xd3\\r\\x01\\xa1&\\x0f\\xb2)\\xf1\\x00}gM*\\xd21l\\x1a\\xc9\\xd4\\xe9\\x14\\xb4\\xa4\\x98\\x92O\\xe1\\xce\\x90\\x93;i;\\x0e\\xb4\\xf0\\x07\\xf0\\xab\\xa3&\\xc7[N\\xc7\\xf3\\xb5E\\xe2v\\x83\\xdc\\x1f\\xc5\\x0c\\xfc\\xee\\xf3\\x03\\xbfLN\\xff\\x00\\xab\\xb9R\\x90\\x9dD\\x1d\\xcfJ]\\xe3=\\xfe\\x13\\x8a5?\\xb5\\xc3\\xee\\x91\\xaf)eb\\xa9\"\\x1b\\xd1\\xe65\\x82\\x8a\\xec-U\\x05D\\xb4\\x83\\xd3p*Cf.S\\xcb\\xc2fI\\xde\\rA\\xc2\\x95\\x9b\\x0b\\xb3\\xd4He>\\xed\\x05MiQx\\xd0W\\xd2\\x9f\\xccW\\xa7\\x15\\xa3\\xce{cd\\xe9 \\x10\\x0e\\xe3\\x90\\xd2\\x94s(\\x00\\xa0e\":\\xfdt\\xcf\\xcdL*b5\\xa3Q\\x032I\\x13\\xa9$\\xf2\\xfc\\xc5Q\\x03\\xa7:\\x92\\x94\\x92\\x14\\x94\\xc9\\t\\xe8N\\xff\\x00e\\x00\\x0e\\x9bo\\xa4\\x93\\xf5Qx\\x82\\x01\\x01P\\xad\\x01\\x03n\\x7fe\\x16y\\xd8\\x11\\x06|\\xe6\\x862\\x1e)\\t\\xb3Y\\'YA>(\\x9di\\xdc<\\xc5\\x9bYw\\x010N\\x9di\\x8cU\\x7f\\xa8:L\\x10JA\\x1a\\xe8$S\\xb8i\\xcdd\\xd1\\x1f\\xba\\x93\\n\\xdco\\xf8Sz\\x17$\\xd0\\xa2\\x1b\\xca\\xad\\xc9\\x99\\xcd\\xf1\\xf2\\xa0\\xdb\\x8e2\\xe2V\\x93\\x95i\\x98P<\\xc8\\x8d\\xbc\\xe6\\x92\\xa9\\x1a\\x98\\x89\\xdc+JFl\\xea\\tH$\\x99H\\x11\\xa9\\xa1\\x00y#(\\x8d\\x00\\xd8\\xd2\\x14\\x90T\\x9c\\xe9\\x12\\xa1\\x11?\\x99\\xa5)\\xc9N\\xe4$s\\x891HZ\\xa4\\x83\\x12w\\xd3\\xa5\\x1c\\x83\\x1c\\x10T\\xdaL\\x19\"gm\\xc6\\xbb\\xd1_\\x1f\\x94\\xbb\\xd4\\xfc\\xe5k3\\x02M (\\x95%I\\x89\\n\\x90yo\\xec\\xa2\\xb9Z\\x88}BJ\\x95\\xa9\\x8f3\\xe5M\\t\\xb3o\\xfa\"\\xa6}#x\\x16\\x01\\x19[\\xc47\\xd7\\xff\\x00\\x83to\\xef\\xafS\\xd3\\xb0\\xf6W\\x96\\x9e\\x87\\xa8+\\xf4\\x8c\\xe0\\xe3\\xbeKlD\\x99;~\\xac\\xa1\\xf7\\xd7\\xa9caU?\\x04G\\xc9\\x84q\\xa2\\xe3\\x12`t\\xb6?\\xf1\\x7f\\x85b\\xb8\\x0bn-\\xa5\\xa93\\xfbCY7\\x1a\\x93\\xfaQ\\xb8\\x8f\\xe8\\xa3\\xfe%U\\x7f\\r\\xb5\\x16S\\x1fL\\xd0\\x9d#BSm8\\x00\\xd4\\xe9N\\x86\\xdc\\xe4jz[\\x1eT\\xe8lUY$\\x04\\xa1\\xc8\\xdc\\xd3/\\xa1y\\x08\\'z\\xb8\\xee\\xc4T[\\xb4\\x80\\xd9\\xa6\\x98\\x07\\x87\\xa7\\xf5P<\\xeb.\\x02\\x00\\x15\\x8bX\\t\\xb7lu#\\xed\\xac\\xaa\\xb3\\x9b\\x04s\\r\\xcd\\xa3\\xa8[\"\\xf3\\xfak\\x03\\xd5\\xae\\x93:\\xe7l\\x00\\x15\\xefLO\\xb2\\xa4[\\xa4\\x822\\xc4\\x8eCAR\\xad\\xd6\\xe6/l\\xdd\\xd3\\x8d:\\xd5\\xf3\\xb6\\x89\\x17hu\\xbc\\x84<\\xd0\\x80\\xbdu\\xf1 \\rz\\xd3-\\x0f\\x08\\x12\\x00\"\\xbc\\x0c\\x1f\\x165~\\x0f\\xa1\\xc9$\\xdfr\\xe1\\xec\\x96\\x802\\xef4\\xf0\\x1f\\x91L\\xa1\\\\\\xb6;\\xd3\\xc8XW\\xe1]\\x14s\\xb6-\\x03\\x9f\\x9fJy \\x8d\\xf7$\\x98\\x1d)\\x94\\x1dA<\\xa9\\xe1\\x11\\xae\\x9a\\xd0K\\x1d\\x10\\'4\\xf55)\\x91\\xdew\\x8d\\xc7\\xcfi\\xd4\\xc0\\xf3B\\x84}u\\r\\x1f8u\\x9djv\\x1b\\xe2\\xbd\\xb7\\x02<J\\x03\\xe3\\xa536yc\\x84 \\x0b\\x16\\x12@\\xd1\\xa0N\\x9b\\xc6\\x95`\\xca\\x93\\xeb\\x8cx\\xa0\\x05\\xc9\\xe5\\xf9\\xde\\xa3Z 6T\\x99\\xfd\\x9a\\xdcl\\x99\\xd6R\\xb5\\x0e\\x95`\\t\\t\\xd0\\x9e\\x91\\x1c\\xff\\x00<\\xab\\xd1\\x8e\\xd1\\xc0\\xf9+\\xc9NY\\x1b$k\\xaf\\xdd\\xd7\\xf0\\xa5\\xa2$\\xef\\xa0\\x8d9\\xfb\\xa9\\xd7\\x87\\xca\\xb8\\xa2\\t9\\xbc1\\x026\\xdei&J\\x912d{y\\xd5p!j \\xd9!\\x06\\t\\x0f(\\xcf_\\x08\\xe5\\xd7JDB\\x02\\x8e\\xa0\\x98\\x8d\\xbf\\xe46\\xa5\\x15\\x95[\\x86\\xc4Fb\\xbc\\xc4\\xf9\\x01\\x1e\\xca\\x102\\x00\\x08\\x04\\x19\\xd0jf\\x86\\x08\\xac\\xc5r\\x9c=\\xc1\\x94\\'T\\xeb\\x9b\\x7f\\x10\\xd6\\x9e\\xc3t\\xb1j7\\t\\x03m\\xa2i\\xbcX\\x84\\xd8<t\\x1b}\\xb4xh\\xfeof\\x04\\x1c\\xa24\\x9e\\xb4\\xd8pMX\\x92@ \\x8f#\\xf9\\xfc\\xcd;\\x86\\xab&%d\\xa3\\x00\\x07\\xd2v\\x1di\\xac\\xda\\x92T\"u\\xd67\\xa5[8\\x19\\xb8a\\xc5#8B\\x82\\x8aN\\x84\\xc7/*\\x16\\x85C\\t\\x11\\x94\\xe91 \\xc6\\x94\\xda\\xe0\\xea \\xa8S\\x91\\x1b\\x91\\xb4I\\xe9HY\\x88J\\x84\\'`\\x0f\\xe7\\xdfG\\xd0\\x1a\\x0ey\\xe8Na\\xbf\\x9d&\\xe4|\\x8b\\xc7( \\x03 \\'`\\x0f\\xe7\\xd9K@\\xcc\\xa4\\x85\\x93\\xa4hD\\xfe~5f\\xd5\\xab78\\x06$\\xe9qi\\xb8ey\\x91\\xdd\\xb9\\x94\\xe4\\xcc\\x01\\x91\\x1a\\x89:\\xfbh\\x03d\\xfa!\\xbe\\x19\\xf4\\x8a\\xe0u}\\x155~\\xd9<\\xa0\\xdb8\\x07\\xd6\\x05z\\xa2\\x0e\\x83H$W\\x93^\\x8b\\xce)\\xbe\\xdb\\xb8i\\xe6\\xc8+f\\xca\\xf9\\xd4\\x99\\xf9\\xa40\\xa2>\\xea\\xf5n\\xde\\xe0]0\\xdb\\xc8##\\xa8J\\xc0\\x1d\\x08\\x9a\\xa7\\xb2\\x16\\x9b0\\x9e5_\\xf3\\xc8\\x10|6\\x89\\xff\\x00\\x89t\\xd7\\x0fif?\\xb4y\\xd0\\xe3\\x05g\\xc6\\x9e\\x91\\xf3m\\x9b\\x1f\\xf1\\x1f\\xbe\\x97\\x80\\x08\\xb2o\\xdfG\\x82\\xcb\\x94\\x9d)\\xc4\\x9du\\xa6\\xd3N\\nd\\x8b\\x9d*\\x1d\\xe1\\xf92*a\\xda\\xa0\\xde\\x1f\\x05Z\\xe4\\txx\\x94\\xdb\\xa7\\xaa\\x93\\xf6\\xd6O\\xadcXv\\xf6\\xdf\\xdaMd\\xb5\\x9c\\x86\\x8eP\\xe1^\\xc9\\xac\\xbb7\\xb2\\xb4\\xbf\\xb6\\xc6/\\xf1\\xdcS\\x89-}^\\xe2\\xe6\\xfe\\xef\\xbd)m>4\\xf7Dh5\\xd1@\\xeb\\xec\\xda\\xaf\\x1a3\\x1c\\x88\\xde\\xb0;\\x1e8\\xe2;\\xfcQ\\xab\\x9e\\x15\\xec|\\xe0\\xf6\\xef\\xad+w\\x12\\xe2\\\\Q\\x0c;\\x94\\x91\\x98\\x8btJ\\xb3\\xc7S\\xbcL\\xd6z\\xe3\\x9d\\xed\\xcb\\xae\\xe83\\xac\\xabD\\xc6\\x84\\xf4\\xe5^c\\x8d\\x1e\\xbav\\x87\\xd2|10A\\xde\\x9eB\\x87O\\x16\\x95\\x1d\\x00\\x90\\x0c\\xeav\\xa7\\xd0\\x9f\\x7f=\\xb9\\xd2%\\xb1\\xe4m\\xe7O\\x81\\xf8\\xd3hH\\xe7\\xb8\\x15 G=)\\x084\\xa4\\x83Sp\\xdd1\\x1bA\\xfey\\x1c\\xfc\\xea0\\x12@N\\xa7\\xca\\xb0\\xbc\\x7f\\xb5\\xbe\\x19\\xe1\\xbc\"\\xeb\\x14\\xc31\\xac3\\x19\\xc4m\\xa16\\xd6V\\x97Iq\\xc7\\x1e&\\x12\\x08\\x1a\\x84\\x83\\xaa\\x8f \\r\\x00\\x93|#\\xcf\\xcb\\xc6\\xc3\\x18\\xce&\\xd2$d\\xbd\\xbaN\\xa7hyc\\xee\\xa0\\xda\\xc1\\xb8\\xb7)\\xd0\\x15\\'\\xdf\\xaf:\\x89t\\xfb\\xcb\\xc6/\\xd7z\\x92.\\x1d\\xba\\xb8q\\xef\\x00@\\xceV\\xa5*\\x07!&G\\x91\\xa7\\x03\\x92\\xeb*\\xfd\\xd25\\xe7\\xb8\\x8a\\xf4#Ty\\xd2[\\x1c(qe\\xe5#\\xc4\\x1b\\nR\\x8c\\xc4&b\\x92\\xe2\\xf2\\xcc \\xfbf#\\xef\\xe7\\xca\\x9bu\\xe2\\x97\\\\\\x85\\x18VpD\\xe8D\\xedI\\xcefT3\\x1d$y\\xfeMP\\x87\\xb3\\xc4) $\\xf5<\\xbf?}\\x1fz\\x07]\\x0c\\xc1\\xe6)\\x80r\\xccH\\xe7\\x1b\\x83\\xe5\\xf7\\xd2\\xc0\\'\\xe6\\x84\\x9d9\\x1f\\xbe\\x98\".,\\xe2}I\\xcdH\\xd1$\\x81\\xa7?\\xb0\\xd1\\xe1\\xceN\\x1a\\xc9\\xcc\\xaf\\x987\\xe7\\xa9\\xa6\\xb1P}A\\xe0r\\xe5\\x00\\x0f-\\xfa\\xd2\\xb0\\xe3\\x9a\\xc2\\xdclJ\\x01\\x8c\\xdf\\xc4h{\\x0eI\\xdd\\xf0\\x00\\x83)<\\xcco@\\xba\\x01\\x02U32t\\xa6\\x82\\x9c)\\x19\\x08O3\\n\\x89\\xf7\\xd1)G.\\xe0\\xce\\xbf8@\\xf8\\xd2\\\\\\x00\\xea\\x96$s1\\xb4k\\xfe\\x1f\\xf3\\xa6\\x96\\xa1 H\\x13\\xb0=}\\xb4\\xea\\xed\\xae\\x10\\xd3\\x17\\x0e\\xb2R\\xd3\\xd9\\xbb\\xb5\\x98\\x85\\x11\\xa1\\x8dy\\x1a`\\xe6\\n\\x03T\\x88\\x8c\\xc0\\r>\\xbd\\xa9]!\\xf2\\x1e`\\xa5@9D\\xc6\\xe7Mb~4\\xab\\xc2\\xeb6\\xebm\\xe5\\x98$*\\n\\x8eY\\x9e\\x9f\\n@R\\xb3\\xa4\\x00\\xac\\xd3\\xa1\\x06u\\x9eT\\xc5\\xd9\\x9bw\\x02\\xc9\\xcd\\xa0\\x8c\\xda\\x81<\\xbe\\xbf\\x8dW\"6\\x97\\xa3\\x02\\xb2\\xf6\\xc9\\x82/S\\x97\\x0b\\xbf\\x89\\xff\\x00BG\\xdf^\\x93p\\x8e<\\x87\\xb0;&\\x14\\xb54\\xf3M)\\xa0\\xe1#(!P4>Dm\\xf7W\\x9a~\\x8d\\x8a\\x8e\\xd6\\xb0\\xe5\\xa4\\x90Q\\x84^*fwl\\x0f\\xbe\\xbb\\xbb\\x86/\\xd4\\xb6/\\x19\\x95JT\\xdb\\x81IIQL\\x9c\\xb9\\xa0\\x1d\\xb4\\x13\\xbd)I\\xa5fu\\xf1\\x99\\xa7\\x13\\xbc\\x1e\\xc5\\xee\\x16\\x0c\\x8e\\xe5\\xb04\\xe5\\x94\\xef\\xf1\\xa9x&\\x96M\\xebX\\xc5\\xd3\\xe4)y\\x96\\x1c\\xf0\\xa4fI\\xd3n^U\\x91`\\xaeE\\x93[\\xedV\\x9d\\xab,\\xbc\\x07Jp+\\x9dDK\\x9a\\np9L\\x92A0*\\x05\\xea\\xbc5%NiU\\xf7\\x8b1\\xa6\\xba\\xd5 .0\\xff\\x00\\x12\\xed\\xc6\\xbb\\x8d\\x8e\\xb5\\x91H\\xea\\x7f\\xbdX\\xe6\\x18I}\\x80\\x9d\\xe0\\xc781Wa\\xc4\\x00\\x02\\xdb\\xf1s\\xca\\xd9\\x89\\xf2\\xd2\\xa5\\xab\\x0b9\\xa1)\\x98\\'S;\\xd4\\xe6\\x81\\x81:\\x0fn\\xf5\\r\\xb3\\x99\\t\\x93\\xce\\xa5\\xb6\\xb3\\xa7)\\xe7^s=k% \\xe54\\xfa@\\x83Q\\x93\\xd0\\xf2\\xa7\\xdbpm?_*\\x90%$\\xed\\x14\\xe825\\x81\\xf7\\xd4\\x13t\\x84\\'2\\x88\\xe4j3\\xf8\\xd5\\xbd\\xb8%\\xc7\\x12\\x00\\xdc\\xf2\\x15\\x00a\\x9d\\xb7q\\xd2\\xb8O\\x86\\xd9\\xc3l\\x1e\\x16\\xd8\\x8e9\\xde4\\x87\\x89\\x8e\\xe9\\x84\\xc7x\\xa0\\x7fx\\xe6\\t\\x1d&yW7\\xd9\\xa7\\x87\\xbfG\\xe2#\\x13r\\xf9\\x17\\xa9m\\x07\\t\\xfd\\x1e\\xeb\\x1d\\xc0X\\xdd7\\x01~\"\\x93#T\\x19\\xf25\\x9d\\xfaCq5\\xae;}\\xc3V\\x96\\x0bC\\xcfX\\xb7p\\xeb\\xaa\\x0e\\x00\\x90\\x97\\nBu\\xd7YA\\xad4{\\xec\\xc6\\x1a@\"4\\x0f\\xa6kU\\xd3K\"R\\xa6o\\x8f\\xa9\\xc3\\x8e=\\x8d\\xab \\xe2|.\\x8cF\\xf9W\\x0c\\xa9M\\\\-_\\xb6i\\xf4J\\x87)\\x07C\\xce\\xb5\\xab\\xb8\\xb5\\xd8\\xc5\\x1d\\xb7\\xb4\\x7f\\xd6\\x1aB\\xc8J\\x9di\\x01P9\\xccV\\xd9iO\\xa1\\xc6\\xd6-\\xb3\\x19\\x1f5\\xe6\\xc9\\x1d>\\x95`\\xec\\xf0E\\xcf|\\xeb\\x97v(t\\xb8\\xb5\\x1d\\x1c\\x07BI\\x1b\\x1e\\x86+\\xa3\\x1e\\x19\\xc2\\xd3\\xb3\\x9b\\xab\\xcd\\x87\"N5\\x7f\"V\\x0c\\xd38\\x9d\\x9f{p\\x8f\\x94\\xef\\x1cA(\\xd34\\x13\\x06*cXU\\xbb\\xed\\x8c\\xc9q\\x92gE%$\\x8dz\\xd3,p\\x92X\\x1e\\x1b\\x1b\\xb6\\x89\\x92{\\xa7\\xd7\\xef\\xe7\\xce\\x9dW\\x0e-\"[V.\\xd1\\x1a\\x8c\\xaf(\\x9f\\xac\\x1a\\xe9\\\\U\\x1eS{\\xe4\\xc6\\xc5\\xea\\x91\\x89^Z\\xba\\xd3E\\xb6\\x1eSiXI\\x04\\x80t\\'Z\\x98\\\\l\\x03\\xf2i\\xd7h\\'\\x7f\\x8dIW\\x0b!/\\xadn\\xb5~\\xe2\\xd79\\x96\\xe1Q$\\x9d\\xce\\x82(\\x1e\\x1ed\\x11\\x99\\x9b\\xa043\\x95i\\xf7\\xd0\\xd0\\xd3\\x186l_Z,\\x12[\\n\\x94\\xa8\\x03\\xb0\\x00k\\xa9\\xa0\\xd5\\xa36\\x8d\"\\xdd\\xb2\\xa2\\x9d\\x81\\xd2LN\\xa6\\r(\\xe0v\\xe9)*K\\xfa\\x0eez\\x1fm7\\xfa\\x16\\xd9#)[\\xe3Q\\xba\\xd5\\xad:TM\\xec\\x97\\xea\\xec\\x95\\x80\\x97\\x14\\x16O&\\xd4`\\xeb\\xca\\xb6\\x8f\\x0cz?\\xe3\\\\_\\xc2\\xd8G\\x11a\\x1cC\\x81\\xa2\\xd7\\x15iN%\\x87C\\xc5\\xc6\\x8a\\x16\\xa4)+)I\\x19\\x81L\\xe5\\xde\\x08\\xebZ\\x80\\xe1\\x16\\xe4\\x13\\xeb.\\x8e[\\xeb\\xed\\xa3\\x1c3d\\xf9\\xce\\xbb\\x82U\\x9bR@\\xe9\\xf8}\\x94$\\xbc\\x85\\xbfS/\\xe3\\xde\\xceq\\x1e\\xcf\\xb8\\x83\\xf4/\\x10\\\\\\xda\\xdc]\\x1b\\x16/\\x12\\xed\\xab\\xcbZ\\x14\\xd3\\xb3\\x94B\\x90\\x14\\x14\\nT\\nH\\xac=\\xc6\\x98KhW{\\x97\\xc5\\x193J\\xb4\\xdc\\xed\\xca\\x83\\x98#V\\xe0\\xa5\\xab\\xa5\\x80\\x12GX\\xa6\\xbfE\\x80\\xa0E\\xca\\xce\\x9aL\\x125\\xdf\\xf3\\xd6\\x8aC\\xbd\\x04\\xb7\\x19i\\x0b\\xce\\xa5\\x13\\x06R\\x95D\\xc0\\x9e\\x9b\\xd3W\\x01\\xb2\\xc2\\x90\\x97\\nLIQ#m\\xfe\\xc3O\\xfa\\x93\\xc2\\xd6\\xe6\\xdd\\xab\\xe7\\x1bj\\xe5(C\\xe9\\x00\\x10\\xa4\\xa5ABG8 \\x19\\xa3\\xb7\\xc0\\x83\\xe5\\x0c\\xaa\\xe1E*NUD\\r<\\x8d*\\xa1\\xf7*:\\x87\\xb0\\xce\\x0f\\xc00|-\\x18\\xce\\x1fl\\xb71\\xa5$\\xb0\\xbb\\xb7\\\\%A\\x04\\tJ\\x13\\xb2A\\xf7\\xd6\\xf0\\xc2q/R\\xc4[(\\xca\\x14\\xb4\\xad\\xb4\\x95\\x80D\\x91;\\x12&H\\x8d\\xc5h\\xbe\\xca\\x1f\\xb9c\\n]\\xbd\\xbb\\xa8\\xc8\\x02L-\\xac\\xd3\\xa4N\\xe3\\xa5l[<i\\xcb,s\\x08\\xb8\\xbfq\\xa1h\\xdd\\xfd\\xbf\\xac\\x96\\xd1\\x94\\x86\\x94\\xe2R\\xa2\\t:@Q=4\\xa8\\xabM\\x10\\xb4\\xec\\xdba\\xcc\\xac\\x93\\n\\x00\\x89\\x19\\x8e\\xb1Yv\\x0c\\xa2,\\x99\\xfe\\xc8\\xac\\x7f\\x1b\\xc2\\x11\\x83\\xdd]\\xd94\\xe1u\\x16\\xe4\\x00\\xb5\\x08$\\x14\\x83\\xaf\\x9e\\xbe\\xf8\\xab\\xac(\\xe5\\xb2g_\\xa3T\\xb8F\\xaf\\x92\\xe9+\\xf7\\xd3\\xa9r\\xa1%\\xcf:p/jd\\x93T\\xad5\\x15_t\\xa9#^t\\xfa\\x97\\xa5@}r\\xb4\\xfbG*\\xb4\\x06E\\x85\\xa8%\\xf6\\x89PH\\t?eX\\x9b\\x9b\\x94\\x92\\x12-H\\x06\\x01\\xd7_\\xae\\xa9Y^A\\x9b(^\\x91\\xaag\\xea\\xab$b9P\\x90\\x19Z\\x80\\x1b\\xe6N\\xbf\\x1di\\x08\\xe7\\xd6V\\x12\\x88:{h\\xdc\\xbfi\\xb1*P\\x1e\\xfa\\xc3\\xda\\x7f\\x89q`U\\x84\\xe0\\xee\\xb4\\xca\\xb6z\\xf9A\\x84{`\\xf8\\xbe\\x02\\xacX\\xec\\xe2\\xfa\\xf8\\x878\\x8b\\x88\\xdc\\xc8`\\xf7\\x18kY=\\xdd\\xe2\\xe4\\xfc\\x00\\xaf2R\\x8c|\\x9e\\xc2\\x8c\\x99.\\xfb\\x8b\\xec0\\xf6\\xb3\\xdc\\xdc\\xb6\\xd0\\x1aj\\xa05\\x8e\\xb5\\n\\xd3\\x89q<x\\xe5\\xe1\\x8c\\x1a\\xff\\x00\\x13O\\xff\\x00\\x8a\\x96\\xb25\\xff\\x00h\\xa8L{\\xeb(\\xc18\\x1f\\x86\\xf07R\\xf5\\x8e\\x12\\xcb\\xb7)3\\xeb\\x17\\x84\\xdc\\xb9>\\xd5\\xc8\\x1e\\xe0+6C\\xcau )F\\x07._\\n\\xc5\\xce\\xf8/\\xb3\\xd4\\xc0,\\xf8\\x1f\\x89\\xf1@\\x15\\x8db\\x96x;gv\\xad\\x93\\xeb.\\x0f)\\xd1\\x03\\xeb\\xac\\x8b\\x0f\\xec\\xd7\\x87\\xad\\x14\\x97/\\x98\\xb8\\xc6^\\x1a\\xe7\\xbfx\\xad3\\xfe\\x8cB~\\xda\\xc8\\xdb#j\\x94\\x83 \\x13\\xce\\xb2m\\xb2\\xd2H\\xe5\\x1fJ\\xfbFmx\\xb7\\x84\\xfdN\\xdd\\x9bV\\x97\\x81\\xba\\x9c\\x8d6\\x10\\x9f\\r\\xc6\\x9a\\r4\\xcdZ\\x10\\xabC\\x96t\\xe9\\xf1\\xae\\x89\\xf4\\xbek.1\\xc0\\x8f\\xc1\\xf1X\\xdf\"A\\xe8\\xebG\\xef\\xde\\xb9\\xc4\\xaadD\\x82\"\\xbe\\x97\\xa3\\xde\\x08\\xfe\\xfc\\xb3\\xe6z\\xb5\\xfc\\xf9~\\xfc\\x0f\\x03:\\x05k;\\xd2\\x81\\x1a\\x1eQ\\xb4o\\xf8SAJ=\\x08\\x1c\\xa2@\\xa5 \\xa4\\x8d \\xe9\\xa9\\xdc\\xed]G0\\xe9!Di;\\x91\\xce\\x7f\\x1a\\\\\\x82\\x9dI\\xd7\\xddMI\"~i;\\x7f\\x87Jp\\x12z\\xc0\\xd8PW\\x91aJ\\x06\\x01T\\xce\\xa3\\x95\\x17x\\xa10\\xb5\\xf5\\xf9\\xc4~w\\xa2\\x1a\\x89\\x1e\"z\\xd2H\\x12\\x01\\x00\\xc1\\'}\\xa8\\x1a\\x1cS\\xab\\x92\\x02\\xd5\\xed\\xcd\\xb8\\xa4\\x97\\x8ad\\xe7_\\xce\\xdew\\xf3\\xa6\\xd4u\\x04i\\xa5\\x11W\\xd2\\xd5$\\x18\\'\\xcf\\xad!\\x0ew\\x8a;\\x92\\xaeq\\xa1\\xa6\\xcb\\x86B\\xb4\\x1c\\xfeh\\xfb(\\x8c\\x11\\x1a\\xed\\xf0\\xa6\\xc9\\xe66\\xa2\\x91[\\x02\\xc2U9\\x90\\x83\\x03|\\xa3N\\xbc\\xa9\\x0e%9H\\xee\\xdb)\\xe6\\x0b`\\xeb\\xf0\\xa5\\xa8\\t)\\x02D\\xfci\\xa2\\x04\\x93\\xf7O\\xd5SH\\xa7lB\\xdbd\\x85fe\\xa5\\x0e\\x7f&\\x9f\\xc2\\x91\\x0c\\xb23%\\x96\\x9b\\tI$\\xe4\\x10\\x07Zt\\xab\\xa8\\x83\\xed\\xa6\\xc6P\\xe2\\x16\\xe3L\\xdc\\xa1+J\\x94\\xd3\\xc9\\x94,L\\x94\\xabQ\\x124\\xfa\\xf9P\\xd2\\xad Od\\xdc;\\x8c\\xf1l%\\xa6\\x15\\x84c\\x0f\\xd95s\\x98[\\x94\\xa4%\\x0e\\x94\\xc6`\\x92\\xa1\\n#0\\xd0u\\x14\\xbc[\\xb4N+s\\x0b\\xbbK\\xb8\\xed\\xc2\\xc7t\\xbd\\x14\\xd3z\\x18\\xfe\\xcf\\x9d+\\x1e\\xe2\\xbcC\\x1d\\xcc\\xcb\\xed[7b%,[\\xb6%\\xb6\\x04Fd\\xa6\\x00\\xceF\\xea\\x10$\\x98\\x00V3v\\x80\\xeb*l\\x82K\\xabBc\\xda\\xb0\"9\\x9dk<I\\xcbs\\x8d\\x15\\x91\\xa8\\xbf\\x86Vzg\\xc6\\xae\\x11\\x8b^2n!\\xd0\\xe3\\tuB\\n\\x80\\xee\\x9b\\xccb\\x9c\\xc3n\\xdb\\x16\\xe9B\\x9cJ\\x8aI\\x01IX2\\x99\\xd0\\xfbcz\\x87\\xe9d\\xfa\\xb0\\x9e\\xc0\\xf8\\xef\\x13\\xb1&\\xce\\xfd\\x8b{r\\xc5\\xdb?&\\xea\\x14_i2\\x95\\x88P0bgj\\xd9\\xb8F\\x19l\\xde\\x11\\x87\\xa6\\xe6\\xcd\\x87\\x1d\\x16\\xad\\x05\\xad\\xc6AR\\x95\\x90I$\\x8dL\\xd7\\t\\xd9z\\xa3\\x10M\\xc3f5\\x8f}8\\x97\\xc6\\x99L\\xfb\\xeb9\\x18}\\x87;\\x1bOs)\\xa3\\xfd\\x1da\\xff\\x00\\xc8\\xda\\xff\\x00\\xd9\\n}\\xc20\\x95\\xbe4\\xde\\xa8x\\x93\\x88\\x9a\\xe1\\xdc-\\xdcI\\xfb[\\xab\\xb44\\xb4\\xa7\\xbb\\xb6Fu\\x02\\xa3\\x00\\x91\\xc93\\x00\\x9eS5\\xb5N\\x17\\x87\\xaf{+\\x7f\\xfb1Z7\\xb5;\\xfcZ\\xc7\\xb6\\xfe\\xca8W\\x85q\\x8b\\xbc\\x02\\xcb\\x88\\r\\xfb\\x98\\x92m\\x10\\xda\\x83\\xa9e\\x858\\x80R\\xb4\\xa8\\x01\\x990b$\\x13\\xce\\rR\\x98\\xd23\\x14\\xe3\\xcf\\\\\\xf0\\xbe\\x1b\\x8a\\x8c>\\xe6\\xd5\\xdb\\xc0\\xda\\xd7h\\xeaR]jA*J\\x81\\xd0\\xc0\\x07mH\\xda\\x8d<N\\xcc\\x0c\\xaf\\xb4\\x94\\xc6\\x80-\\x02>\\xbag\\x8887\\x8a_`\\xb4\\x8b\\xeb\\\\n\\xcd\\x0e%hC\\x8c\\x84\\xbe |\\xe1\\x98\\xe5\\xcc\\x0c\\xc6\\xbeQX\\xaa\\xb0\\xacE\\x95\\x16\\xd7\\x85\\xe3\\xcbR\\x0eR\\xa4\\xd88A#\\x98!$}f\\xb9\\xe5\\x92I\\xe9\\x14\\xa2\\x9a\\xd9\\\\\\xdd\\xdbW\\xd6\\xd6\\xf7V\\xaf\\xb5ukr\\xd0z\\xde\\xe1\\x97\\x03\\x8d\\xba\\xda\\xb6ZT4 \\xf5\\x15*\\xd5\\xc2\\x85D\\xcaO.\\x95\\xc3\\xbd\\x97v\\xc1\\x8bvcu\\xea\\xdd\\xda\\xb1n\\x17y\\xd2\\xab\\xac(\\xb9\\x94\\xb6\\xa3\\xbb\\xb6\\xeb?\\xb3s\\x99\\x1f5|\\xc4\\xc2\\x87gp\\xbe=\\x84\\xf1\\x96\\x07o\\x8ep\\x9e \\xde%\\x85\\xber\\x07\\x00\\xca\\xb6\\x9c\\x1b\\xb4\\xea7m\\xc1\\xcd\\'\\xda\\t\\x04\\x1a\\xe2\\xc9\\x89\\xe3\\xfa\\x1e\\xb6<\\xab\"\\xd1\\x93$T\\xb6\\x15\\x04MB\\xb6+(\\tZH)\\xe9\\xae\\x94\\xf0VB\\x904=+\\x1a4-P\\xa8\\xa9(>\\x1a\\x8c\\xc5\\xb3\\xee\\xa4\\x10\\x82\\x90F\\xea\\xd2\\xa7\\xa6\\xcd(\\x1f(\\xb2\\xa9\\xe44\\xa4\\x072\\xfa_\\';|\\x04\\xf4\\xc1\\x0eb\\r\\xf9\\xec\\xca\\xbe\\xea\\xe6q\\xa9\\x10\\x0e\\xbb\\xeb]S\\xe9\\x7fn\\x9f\\xd0\\x1c\\x0e\\xf3h\\x1e\\x0cR\\xed\\xb3\\x1b\\xc2\\x98\\x07\\xff\\x00\\rr\\xc6S\\x1a\\xf8\\x88\\x1c\\xc7ME}\\x17D\\xff\\x00\\x91\\x1f\\xef\\xf7>o\\xacW\\x9e_\\xd8\\t\\x12\\x90`\\xef\\xccS\\xd3\\xe7\\xa0\\xe5E\\x13\\x96\\x0e\\xc7Ju\\x08\\xd8\\x01\\xa4t\\xae\\xbb9\\x92\\x13\\xa4\\x01>D\\x8d5\\xa7\\x00\\xcc\\x04\\x82:F\\xbfU\\x19\\x11\\x04\\x81;F\\xc6\\x94Fy\\x82\\x9d\\xc1\\x03\\xf3\\xf7\\xd0RT$\\xc1\\x1a\\x931:\\xfd\\x9aR~n\\xb4\\xb3#P ni+\\x92\\x0c\\xc4\\x1f*C\\xa1\\xa5\\x9c\\xaa\\x13\\xf6\\xd3e@\\x93\\xa8\\xe7\\xf9\\xfa\\xa8\\xd6u\\x95\\x009{\\xa9\\x85*\\x01:O\\xb2\\xa9\\x10\\xc7\\t\\xf9\\xf3\\xcc\\xd23I\\xf0\\x98&N\\xbbt\\xa4\\x13\\xb9\\x1b\\xf3\\xfa\\xe8\\x81\\xd5:\\x90\\'q\\xf5|\\x05\\x00\\xb9\\x1c\\x077\\xd7\\xbf/}\\x16\\xb3\\xa9\\x81\\x04\\x88:\\xd0\\x06wI\\x03m\\xf6\\xf6Q\\x15\\x11\\x06u>\\xea\\x82\\xc1\\xb1\\x11\\xf5}T\\xd9\\xd7/\\x8b\\xca~\\xee\\xb4\\xf1\\xd0\\x9e@h\\x01\\xa4\\x19#BI\\x8d\\x0cP\\x14Cpr#_m4\\xb6\\xfb\\xd2\\x94(\\x04\\xb6\\xa7P\\x15\\x9bH\\x19\\x86\\xa6\\xa58\\x93$N\\x9bT\\xbe\\x1d\\xb6M\\xc7\\x14\\xf0\\xf3.!+m\\xecb\\xc9\\xb5\\xa5C0RM\\xc2$\\x10fA\\x1a\\x19\\xdc\\x1a\\x1b\\xa5d\\xf6\\xd9\\xd1\\xde\\x94\\xdcE\\x88^v9\\x89\\xda\\xe18\\xc1\\xba\\xb5\\xbd\\xbd\\xb5E\\xc0\\xf5\\xf2\\xe2V\\xc2U>\\x10\\x14f\\x16\\x94H \\xe8\\x0f1[\\xd7\\x86q\\xacJ\\xc2\\xe3\\x87_\\xba\\xbf\\xbb\\xf5F\\x91l\\xd3\\xcd\\x1b\\xb5-\\x95\\x05\\xb6\\x94\\x10d\\xc2\\xb52\\'\\x9d\\\\\\xe3}\\x9dp(\\xb9t5\\xc1<.\\x08uI$`\\xccj\\'\\x9f\\x87Zu=\\x98vx\\xe0mG\\x81xm\\nI\\nIF\\x1a\\x84A\\x06A\\x11\\x11\\x04\\x02:\\x11^E\\x9e\\x8fk6i\\x94\\xa8\\xa6v1G\\'\\xadU\\x9b\\xf9$\\x93$\\xd2\\xd1u=\\x05Wpv\\x98\\x87hW\\xd8\\xbe\\x17\\x89a\\xd7V\\x18\\x95\\xd5\\xa5\\xa3\\xec-\\xae\\xed\\xa5\\x80\\x8e\\xf5*\\x07PA\\xd4\\xa4\\x88\\xfe\\xc9\\xeb\\\\\\xc1\\xc5\\xbcM\\xc4\\xb7\\x9e\\x95=\\x9f\\x17\\xee.\\x9dF\\x1d`\\xe9\\xb6p\\x04\\xf7\\x88*m\\xc0\\xec\\xa7(\\x90e \\x8dt\\xae\\xbf\\xc7\\xf0\\x0c\\x1f\\x8bp\\xdf\\xd1\\xdcK`\\xce%c\\xde\\xa5\\xd0\\xcb\\xb3\\x01i\\x98P \\x82\\x0e\\xa7\\x9f:\\xc3\\xcfb\\x1d\\x9c\\xbd\\x893v\\xe7\\t\\xd9\\x9b\\xa6\\x7fgr\\x1f|<\\x8f\\xec\\xaf<\\x8fuGw\\xa1]\\x8c\\xb5\\xec\\xf7\\x89\\xf1\\x1b\\xfb\\xcb\\xbc?\\x1d\\xbaz\\xed\\xc7\\x13\\xdf\\xda\\xad\\xe6\\xd2\\x92\\x00\\xd1m\\xf8R$j\\x08\\x99;\\xeb[\\x0eW\\xd5U\\x85\\xe0\\xfd\\x95\\xf0\\x86\\t\\x8bY\\xe2\\xf8V\\x1bp\\xc6!fTXuX\\xa5\\xcb\\x81\\x19\\x81J\\xbc*p\\xa4\\x82\\x0cA\\x15\\x99\\xc0\\xa6\\x9b\\xa1Q\\xe2\\x03\\x98\\xd0QQk6\\x9a\\xc9\\xd2=\\xb1\\xca\\xb2\\x1e\\xcf\\xbbP\\xe2\\x1e\\xcd\\xf1\\xef\\xd2\\xdc+t\\x96\\x1fy!\\x17Vo\\xa4\\xae\\xde\\xf5\\xb1\\xafv\\xea4\\x9f\"!I&REk\\xe4\\x92\\x0e\\xa7]\\xa6)\\xc0\\xad5\\xcd\\x04j\\x06\\xa0\\x7f\\x8e\\xb5\\xbbI\\xaa\\x14[N\\xd1\\xea\\'c\\x1d\\xa5\\xf0\\xbfl\\xb8J\\xefp+\\x85\\xd8\\xe2\\xd6\\xad\\x871\\x1c\\r\\xd5\\x82\\xfd\\xae\\xb0T\\x15\\xfdk3\\xb3\\x80i ($\\xd6\\xd4\\x0c3lGt\\xd2A\\xeaD\\x9f\\x8dx\\xfb\\x80\\xf1\\x1e-\\xc2\\xb8\\xbd\\x8e9\\xc3W\\xd78V/b\\xef{mwl\\xbc\\xabJ\\xa2\\x0f\\xb4\\x11\\xa1I\\xd1@\\x90dW\\xa1\\x1d\\x80zOa\\x1d\\xac&\\xdf\\x87\\xf8\\xb3\\xd5\\xf0>8\\x10\\x96\\xd2\\x93\\x92\\xdb\\x14\\xf3f~c\\xbdZ;\\xee\\x82uH\\xf3\\xb2\\xe0kq\\xe0\\xf4\\xf1fR\\xd3\\xe4\\xdf\\xa1}~\\xda2ie\\x82\\t\\x07E\\r\\xc1\\x11\\x14;\\x85\\x0eY\\xab\\x96\\x8e\\x83\\x9f\\xfd-m\\xfb\\xce\\x06\\xe1\\x87\\x88\\x9e\\xeb\\x1e)\\x9f\\xed[9\\xf8W\\'\\xa5\\x9f\\x103\\xa8\\xe4+\\xb9{q\\xe0\\x8b\\xce>\\xe0\\xa6p\\xdc6\\xee\\xda\\xca\\xe2\\xcb\\x10E\\xfek\\x94-Iq)mi(\\x19\\x01!G8\\x8d\"\\xb8\\xee\\xf3\\x84\\xf8\\x8a\\xc9KK\\xbc9\\x8b.\\x0f\\xcfn\\xc9d\\x1f1\\xa6\\xd5\\xec\\xf4ya\\x1c}\\xad\\xec\\xf1z\\xbcRy;\\x92\\xd1B\\x10 \\x83\\xa7\\xb7\\x97\\x95\\x1eX\\x89\\x1aELs\\x0e\\xc4\\xdaW\\xcb`\\x98\\xc3Z\\x9f\\x9d`\\xba\\x8e\\xb6\\xdeG\\xed,o\\x9a$}+E\\xa6>\\xaa\\xeeS\\x8f\\xa9\\xc9\\xee\\xddp \\x83\\xb8;\\xee@\\x98\\xe8iz\\xe8N\\x9dd\\xe9L\\xae\\xe1\\xb0\\xa9Z\\\\B\\xb5>&V>2)\\xb5_\\xdb$\\x8c\\xce\\xe4\\xd7B\\xa4\\x11\\xf7Uw&.\\xd6\\x89\\x00\\x00!2@\\xd7^\\x7f\\x9d)\\x07P\\x92\\x9d\\xf4\\x83\\xcai\\xaf\\xd26\\xa4\\x81\\xeb,\\xcfB\\xba/\\\\\\xb6P\\x94\\xdc\\xb2z\\x1c\\xc3nT\\xfb\\x93\\x17k\\x12\\xb1;\\x12i\\xb2\\x9d\\xe6}\\xa7zuo\\xb0b\\x1fom\\xf3\\x8a@q\\xb2~M\\xc4\\x1e\\x9e!O\\xba\\xc5\\xdb\\xb1\\xb5 \\x90\\xac\\xc10H\\xf7R5\\xcd\\xb6\\xbdO\\xdbR%\\x07D\\xa90z+zm@\\xa4\\xa4\\x88\\xd3mg\\xeb\\x9a;\\xb4\\x1d\\xa3ze\\xe705\\x1e\\xdf\\xce\\x9et6\\xe6\\x05(\\xa4\\x80D\\x15i\\xa7\\xe7\\xee\\xa4(\\x1f\\x9b\\x04r565\\x11Z\\xc9)\\x04\\x81\\xcb\\xdd\\xf6\\xd2U\\x07B$oC6\\xc4\\xe9\\xa6\\xff\\x00\\x9d\\xe9\\x05Q\\xf0\\xda&\\x80h%I;\\x14\\xeb\\xf1\\xab\\x9e\\x07d=\\xc7\\x9c$\\xd8\\x12N=e\\x03\\xd8\\xfaO\\xddT\\x8e\\x18\\'\\xe7\\x01\\xb9\\xf3\\xf8VS\\xd9\\x9b}\\xff\\x00i\\xbc\\x12\\x83\\x12\\xacn\\xdc\\xfb\\x82\\xa7\\xee\\xa9\\x93\\xa8\\xb2\\xa2\\x95\\x9e\\x82b7\\xaaU\\xe3\\x8a\\x9d\\xdcQ\\xdf}jK8\\x84\\xa4A\\x8a\\xa4\\xb9\\x05N\\xa9G\\x9a\\x8f\\xdbSmm\\x9dP\\xd1\\x06\\x0e\\xc6\\xbc~\\x0fR\\x8b\\xa6o\\n\\x949\\xcdX\\xb0\\xfa\\x88\\x15T\\xc5\\xb2\\xc4\\x15oV-J|\\xa965\\x12\\xc9\\n1\\xe2#\\xe3Jm@95\\x1d\\xb4\\xad\\xc3\\x08\\x13\\xf7\\n\\xe6\\xae\\xda=2xk\\xb3\\xd5\\\\\\xe0\\xdd\\x9f\\x0b~.\\xe2\\x84J\\x16\\xf8Y6\\x16k\\x1f\\xbc\\xb4\\xea\\xf2\\x87\\xee\\xa0\\xc6\\xf2\\xa0DQ\\x1b`\\xd5\\x1d\\x1f\\xc6\\\\}\\xc3}\\x9b\\xf0\\xfb\\x98\\xef\\x1cb\\xf6\\xf8>\\x1c\\x8d\\x12\\xa7L\\xad\\xe5\\xfe\\xe3h\\x1e%\\xab\\xf8R\\t\\xe7\\xca\\xb9~\\xeb\\xff\\x00H\\x7f\\x0e\"\\xe5\\xe4\\xd9\\xf0\\x1e2\\xf5\\xbaV\\xa0\\xd3\\x8e_2\\xda\\x96\\x89\\xd0\\x94k\\x94\\x91\\xb8\\x93\\x1bI\\xae\\x1e\\xe3>\\xd0\\xb8\\x8b\\xb4\\\\}\\xdcw\\x8d\\xb1\\x8b\\x8c_\\x11Y\\x84\\xb8\\xe9\\x842\\x83\\xf4\\x1a@\\xf0\\xb6\\x9f \\x06\\xfa\\xc9\\xaaSz\\x12`\\x98#C\\xado^\\x88\\xcbE\\x1aL\\xc8\\xe7\\x1a\\xd3\\x89#@w\\x1d\\x05G\\x92\\xa2 x\\xb6\\x1e\\xday+\\xd69\\x08\\xad\\x8cG\\xd0\\xa1\\xba\\x88;\\x88\\xdc\\x13J\\x13\\x95*BaZ\\x9fa\\x1d\\x0fZB\\x0f\\x87B`\\xce\\xde\\xcd\\xff\\x00\\xe7KTe\\x98\\x93\\xbfC\\x1fv\\xbfm/%\\x1d\\xa7\\xe8\\xfb\\xe9\\x82R\\xabN\\x15\\xed\\xaa\\xf5KL\\x06l\\xb8\\x95\\xddT\\x824J/9\\x91\\xcb\\xbf\\xdc\\x18\\xcf\"T;P\\x00R\\x85\\xa0\\xa5hq!hZHRT\\x93\\xa8P#B\\x0f\"+\\xc5pFP\\x15\\x05 \\x88\\xd7j\\xe8N\\xc0\\xbd(\\xb1\\xae\\xc9\\x16\\xc6\\x03\\xc4m\\xddq\\x07\\x04\\x15\\xc8\\xb4\\xcc\\r\\xc6\\x1f\\'U[)Gc2Z$$\\x91 \\xa4\\x92O.L)\\xee\\'^<\\xde$zH\\xa5i\\xbcR;\\xc5\\x1d3\\x1f\\x8dS\\xf0\\xe7\\x13\\xe0\\xdce\\x81\\xdac\\xbc%\\x891\\x8c`\\xf7bX\\xba`\\x98\\'\\x9aT\\x93\\xaa\\x169\\xa1@\\x11\\xce\\xac\\xb3\\xd7\\x13^\\xa7Zc\\xc5g\\x9f>\\xb4\\x85%\\n\\xf9\\xcd\\xa1^\\xd4\\x03I\\n\\xa5\\x05R\\xa4\\x164\\xbb;E\\xfe\\xd2\\xd2\\xd9^\\xd6R~\\xeaax6\\x16\\xe8\\xf9L2\\xc1s\\xbekd\\x1f\\xba\\xa6\\xe6\\xa13N\\x84T\\xb9\\xc2x\\x03\\xc2\\x1d\\xc0p\\xa5\\xff\\x00j\\xc9\\xbf\\xc2\\xa1\\xb9\\xd9\\xef\\x08\\xbb\\xfbN\\x17\\xc1\\x95\\xff\\x00\\xe8Q\\xf8VC\\xce\\xa3\\xe2\\x18\\x85\\xa6\\x13au\\x88b\\x97-\\xd9X\\xda4]\\xb8}\\xd3\\x08m\\x03u\\x13\\xd0S\\xd8\\xa9z\\x18\\xd3\\x9d\\x95p;\\xbf?\\x84ps\\xcb\\xfa*ECs\\xb1\\x9e\\xcf\\x9c\\x9c\\xfc\\x1d\\x84\\xeb\\xd1\\x88\\xfb\\rO\\xb6\\xed?\\x81oc\\xd5\\xb8\\xdb\\x87\\x97;\\x05b\\tA\\xf8**\\xe2\\xdb\\x88p[\\xd8\\xf5\\x1cw\\x08\\xba\\x9d\\xbb\\xacI\\x95\\x7f\\xe2\\xaa\\xf8\\x97\\x96\\x1d\\x8b\\xfa\\x7f\\xc8\\xc3\\\\\\xec\\x1f\\xb3w7\\xe0\\xfc<N\\xe5!C\\xef\\xa8n\\xfa;\\xf6f\\xe1\\xff\\x00\\xa2\\xb6\\xe9\\xfe\\xc3\\xce\\x0f\\xbe\\xb6\\x82\\x1b/\\x8c\\xcc\\x14<9\\x16\\xdcJ\\xfe\\xc3J6\\x97#v\\x1e\\x1f\\xec\\xcd\\x1d\\xf2\\xf0\\xd9.\\x10\\xf2\\x91\\xa8\\x1d\\xf4l\\xec\\xc9d\\xcf\\x0e\\x94\\xcf\\xee\\xdd\\xb8>\\xfa\\x84\\xe7\\xa3\\x17f\\xcb\\xf9\\xb8M\\xda\\x7f\\xb3~\\xe0\\xfb\\xebr\\xad*A\\x85\\xa5I=\\x14\"\\x93\\x00\\xd1\\xef\\'\\xea\\xc3\\xdd\\xc3\\xfaM&\\xbfE\\xde\\xce\\xf5\\xcbg\\x88\\xa3\\xcd7\\xca\\xfc*+\\x9e\\x8b<\\x00\\xb2\\nF,\\x82:_\\x7f\\xfekz\\x14M \\xb5;\\xd5{\\xcc\\x9f\\xd4\\'\\x8f\\x1f\\xa1\\xa1W\\xe8\\xa3\\xc0\\xca\\'%\\xce4\\x93:~\\xb6\\x0f\\xda\\x9a\\xc9x#\\xd1\\xe7\\x858K\\x1e\\xb5\\xc4\\xec\\xc5\\xc5\\xdd\\xc3&Z7y\\x1c\\xee\\xd5\\xc9i\\xd2R\\xa1\\xc8\\x8a\\xda\\xdd\\xde\\xb4\\xf3)\\x85\\xa4\\xed\\xadW\\xbc\\x9b\\xd3d<x\\xd7\\x08@\\xc2Zh\\xf8@Y\\xea\\xa3R\\x03yR\\x01\\x03N\\x95%z\\xd3q\\xe1Z\\x94R\\x84 \\x15-j0\\x94\\x81\\xb9$\\xe8\\x056$\\x84\\x01\\x1e\\xda\\xc6;B\\xed3\\x85{(\\xc1?K\\xf1\\xde(\\x8b\\x06V\\x0f\\xabZ\\xa0g\\xb9\\xbaP\\xfa-7\\xb9\\xf6\\xe8\\x91:\\x91\\\\\\xff\\x00\\xdbW\\xa6\\x9e\\x07\\xc2>\\xb1\\x82\\xf6N-\\xf8\\x97\\x1cL\\xa1\\xccU~++c\\xfel\\x7f\\\\\\xa1\\xd4B<\\xd5\\xa8\\xae\\x0f\\xe2\\x9e-\\xc6\\xf8\\xdf\\x1a\\xb8\\xc6\\xf8\\xb7\\x14\\xb8\\xc6qK\\x83\\xf2\\x977.I\\x8f\\xddH\\xd9)\\x13\\xa2@\\x00r\\x15\\xb41\\xde\\xd9\\x12\\x9a\\x89\\xbc;o\\xf4\\xb4\\xe2\\x9e\\xd5\\x92\\xfe\\r\\x82\\x95\\xf0\\xaf\\x088J\\x15cl\\xec\\xbfv\\x9e\\xb7\\x0e\\x8d\\xc1\\x1fA>\\x1dH9\\xa2k\\x9fB\\xb2\\xa4\\'H\\xf2\\x02\\x053\\x9b6\\xa2D\\xf2\\x1b\\x9a-\\xcfS\\xec\\xad\\xd5%\\xa3\\x9d\\xc9\\xcb\\x91\\xf2\\xe1\\x9dg\\xafO}\\x16ru\\x08>\\xe4\\xd39\\x86\\xe0\\x8d\\x8e\\xe0\\xedG\\x03\\xa9\\x1f\\x9fm\\x04\\t\\xe6si\\x03j\\x08V\\xa7\\xcf\\xad$\\x82z\\x1d4\\xa5\\x98\\x00\\xc9 \\xefE\\x8c\\x90\\xd2\\xc9\\xd6\\t\\x11\\xa1\\x9d\\xbf:\\xd3\\x85jYHY\\x85\\x1d\\xa3\\x95FI:L\\x19\\x9d\\xce\\x94\\xeaU\\xa1\\x8d\\xba\\xc50\\x1eL\\x1f\\x9d\\xa0V\\x8a=\\x0c\\xd2\\xd2A\\x85\\x10\\x02\\xfe\\x96n~\\x7f\\x9e\\xb4\\xcaI))\\x04\\xc9\\xd4i\\xbe\\xff\\x00\\n^b\\xa0eC4\\x13:\\xed\\x14\\xe9 \\xf0l>\\xca;a\\xe2\\x8e\\xc71\\xe5\\xe2\\x1c-r\\x95\\xd9\\xdc\\x90\\x9cG\\x0b\\xb8%V\\xd7\\x88\\x1c\\x96\\x9eKI\\xf9\\xae\\'\\xc4\\x99\\xde\\t\\x07\\xd1\\xbe\\xca\\xbb_\\xe1\\x9e\\xd8\\xf0#\\x89p\\xab\\xeaj\\xf6\\xdd\\x00\\xe28M\\xc2\\x87\\xac\\xd9+\\xa9\\x8f\\x9e\\xd9\\xfa.\\'B49L\\x81\\xe5(Y\\xcf\\x9bP\\x0f\\x96\\xa7\\xf1\\xab\\x8e\\x1b\\xe2lg\\x83q\\xcb<w\\x85\\xb17\\xf0\\x8cf\\xcdY\\xd8\\xbb\\xb6\\xd1@\\xf3\\x04l\\xa4\\x9dB\\x90\\xa9\\x04\\x18 \\x83X\\xcf\\x1a\\x99\\xb42\\xb8\\xe8\\xf5\\xf0\\x13J\\xcdZ\\'\\xb0\\x7fI\\xac\\x1b\\xb5\\x90\\xce\\x07\\xc4\\x89\\xb7\\xc08\\xde!\\x16\\xe0\\xe5\\xb6\\xc4\\xba\\xaa\\xdc\\x93\\xe1_VI\\x9dAIP\\x90\\x9d\\xf2Q\\n \\x88#C=k\\x89\\xc5\\xc5\\xd3;\\x93RV\\x84\\xcc\\xf5\\x14\\xb0\\x0e\\x94\\xb0\\x9aTt\\xa9\\x18\\x90+OzKq\\x0f\\xe8\\x9e\\xce\\xda\\xc2\\x9b^W\\xb1\\xcb\\xd42\\xa0\\x0f\\xf5\\r\\xfc\\xa3\\x9e\\xe3\\t\\x1e\\xfa\\xdc~\\xca\\xe4\\xafH\\xccxc\\xbd\\xa5\\xdb\\xe0\\xed\\xbc\\x94\\xdb`\\xb6\\xcd\\xdb\\x92U\\tK\\xce\\x90\\xb7\\t\\xe9\\x03 \\xd6\\xb4\\xc6\\xaeH\\x0c\\x0e\\xdb\\x83\\xd8\\xbd\\xb4\\xb4u\\xfb\\xb7Zy\\xe6s\\xb8\\x82\\xca\\x16\\x91\\xcce\\x93\\xae\\x91\\xa7\\x99\\xa8k\\xe0;w\\x1b\\xef\\x13sj\\xe9 \\x1d,\\xb3\\x19\\xd8\\x8d\\x0e\\xdc\\xe7\\xdb\\xd2\\xb3 \\xf5\\xb1y\\x01\\xa7\\x82R\\x10\\x12\\x90\\x95\\x0f\\x02\\xb4\\xd3\\x9c\\x02\\x07\\xb3}\\xa8\\\\\\xb8\\x9b\\x0bg\\x9fq\\tm\\x86\\n\\x90\\xbf\\x93\\'&\\xb23\\x04\\xca\\x86\\xba\\xc8\\x90\\x0e\\xbb\\x1a\\xdb\\xbeBP\\x89\\x83\\x8e\\x05q\\xa6\\xd2\\xab{\\xbb$+\\xbc(RP\\\\ADs\\xf0\\xf2\\xf6j\\'j\\x8ft\\xbcc\\x00}-3\\x8f^%\\xc0H\"\\xd3\\x14\\xb8\\x05\\x04F\\x84\\x124\\xd4j$Vd\\xde;\\x84>D\\xe2v\\xe9RL\\x82\\xe80\\xa3\\x11\\x12@\\xd2\\x0f\\xc4V\\'\\xc4/\\xa6\\xe2\\xfd9.\\x9b\\xb9d\\xa08\\x16\\xd3\\x8b)%[\\xc8*!*\\x11\\x07,\\x03\\xa6\\x82\\xb4\\x8b\\x93t\\xc4\\xf4\\xb4\\xce\\x99\\xf4j\\xb9\\xc5q.\\n\\xc5\\xaf\\xb1\\xacO\\x10\\xc4\\xbb\\xdcYM\\xdb\\x9b\\xdb\\xa5\\xbc[J\\x1bH!%D\\x90\\t5\\xb9Bk]\\xf6\\x01\\x86z\\x8fd\\x1c<H\\xca\\xab\\xce\\xfe\\xed_\\xeb\\xb8c\\xea\\x02\\xb6Ow\\\\r\\xfcL\\xa1\\xb8\\x11\\xa5\\x11\\x1eT\\xe6I\\xd7Z,\\x9d\\rI#p\\x05)\\x1f<mI\\xb8q\\x8b+K\\x8b\\xdcB\\xe1\\x9b;+t\\x17\\x1f\\xb8}\\xc0\\xdbm$\\rT\\xa5\\x1d\\x00\\x15\\xc7\\xdd\\xb4\\xfan\\xda\\xe1\\xaa\\xb8\\xc0\\xfb\\x16J.\\xee\\x84\\xa1\\xce \\xb9n[A\\xd8\\xfa\\xbbJ\\x1e#\\xfcj\\x11\\xd0\\x10f\\xb4\\x8c\\\\\\xb8&M%l\\xe9N\\xd4\\xbb`\\xe1\\x1e\\xc7p\\xa1{\\xc6\\xb8\\x8e[\\xb7RM\\xa6\\x17m\\x0b\\xbb\\xba?\\xc2\\x8f\\xa2\\x9f\\xe2T\\x0f:\\xf3\\xcb\\xb6\\xafI\\xfe1\\xed\\x80\\xbf\\x87\\xe7\\xfeOp\\xa6o\\x06\\x13f\\xe1\\xf9Q\\xc8\\xbe\\xe6\\x85\\xd3\\xe5\\xa2v\\xd2D\\xd6\\x9e\\xc6q\\xbcK\\x88q[\\xacW\\x1f\\xbf\\xb9\\xc4\\xf1+\\xb5\\x95\\xbfur\\xe1q\\xc5\\x9e\\xa5G_\\xba*\\x0f-\\x81\\x8eU\\xd7\\x18(\\x9c\\x8f%\\xf0\\t\\x81\\xa1\\'\\xa7*\\x04\\x98\\x10Lr\\xa2\\'A\\xb7\\xb0s\\xa4\\xeeO>\\x9a\\n\\xd4\\xc0<\\xd3\\x9a5 \\xd0\\x92\\x08\\x8e{N\\xb4R\"OX\\xda\\x80:\\x18\\xf0\\xc5!\\x86\\xa9\\x1b\\x1d\\xe8\\x80$l?\\xbc(\\x01<\\xe7\\xcau\\xa5\\x08\\x81\\xe2\\xfa\\xcd!0\\xc8\\x1d:\\xe8h\\xd2bNa\\xa0\\xf6\\xe9B\\x85\\x03\\xf2\\x11\\xf2\\xd6\\x94\\x93\\x11\\xa0\\xdb\\x99\\xa1B\\x9ac\\xf2:\\xd2\\xf4\\x89\\xd2$\\xf9{G\\xe1J\\n3\\x13\\t\\x9dG\\xddB\\x855\\xa2lZV\\xa2|*\\x88\\xfa\\xbd\\x95\"L\\xa3Y9y\\xec\\'\\x9f\\xe7\\x9d\\n\\x15^J\\xa1I*J\\x90\\xa4\\x12\\nL\\xa7)\\x82\\x08\\xd4\\x10G1\\xd4Wfv\\t\\xe9\\x82G\\xaap\\xcfm\\x17\\xaaq0\\x19\\xb2\\xe2W<JN\\xc1(\\xbc\\x8dT6\\x1d\\xfe\\xfbg\\x07U\\x01B\\xb1\\x92R\\xd34\\xc7\\'\\x17\\xa3\\xb2\\xdbq\\x0e6\\x87\\x19q\\x0f2\\xe2B\\xdbq\\xb5\\x85\\xa1i\"B\\x92\\xa1\\xa1\\x04A\\x04iK*\\xa1B\\xbc\\xfe\\x19\\xe8\\x01\\n\\tZI\\xd4\\x0315\\xc8\\\\E\\xd8_i\\xb8\\xae3\\x8ab\\xb7\\x18U\\x8d\\xeb\\xf7\\xf7\\x8e\\xdc\\xb9\\xdcb\\xcd\\x19\\xcc\\xa3\\x00\\x05F\\xc2\\x05\\n\\x14\\xfb\\xdc6\\x84\\xccf\\xe7\\xb1\\x1e\\xd0\\xedus\\x83/\\xd6\\x00\\xfe\\xa5M9\\xff\\x00\\n\\x8dU\\\\v}\\xc6\\x98y&\\xe3\\x84\\xf8\\x81\\x90\\x07\\xd1\\xb2t\\x8fg\\x84P\\xa1Z.\\xa2l\\xce\\xb6T?\\x84bv\\x92.\\xb0\\xbcA\\x88\\xe6\\xed\\x9b\\x89\\xfbE@\\xb8K\\x8d0\\xe9-\\xac,!D\\x0c\\x84\\x19\\x8a\\x14+\\xa29\\x1b\\n\\xd9\\xe8\\x1f\\x04\\xe1\\xc3\\x07\\xe0\\x9e\\x1a\\xc3\\xf2\\xe56\\xd8]\\xba\\x08\\xe8r\\x02~\\xb3W\\xb3\\xd2\\x85\\n\\xe24`\\x80kT\\xf6\\xb9\\xe9\\x0b\\xc1=\\x8e\\xda-8\\xcd\\xe2ql}I\\x960k\\x17\\x02\\x9eWB\\xe2\\xb6i>gS\\xac\\x03B\\x85i\\x8e*R\\xa6D\\x9fl[\\xf4<\\xf7\\xed\\x83\\xd2\\x0b\\x8c\\xfbe\\xbb-\\xf1\\r\\xe8\\xb0\\xc0\\xd0\\xb9\\xb7\\xc1\\xac\\x89M\\xba5\\x90W\\xcd\\xc5m\\xe2T\\xeb\\xb0\\x1bV\\xaa\\xd34r\\xd2|\\xa8P\\xae\\xe4\\x92Z8%\\'\\'l\\x19\\xb5\\xd6\\x04\\x9e\\\\\\xa8\\xa6t\\xe7\\xcehP\\xa3\\x82@I\\x024\\x93\\xf9\\x9aL\\xc4\\r\"\\x85\\n\\x00%i$D{(\\xf6\\x92t\\xf3\\xa1B\\x81\\x0e\\x00\\xaf\\x9a\\x93\\xa0\\x07a:R\\x82\\'\\xe8O\\x9cP\\xa1U\\x10\\xa3\\xff\\xd9'"
      ]
     },
     "execution_count": 26,
     "metadata": {},
     "output_type": "execute_result"
    }
   ],
   "source": [
    "# The raw content (its a binary file, meaning we will need to use binary read/write methods for saving it)\n",
    "image_link.content"
   ]
  },
  {
   "cell_type": "markdown",
   "metadata": {},
   "source": [
    "**Let's write this to a file:=, not the 'wb' call to denote a binary writing of the file.**"
   ]
  },
  {
   "cell_type": "code",
   "execution_count": 27,
   "metadata": {},
   "outputs": [],
   "source": [
    "f = open('my_new_file_name.jpg','wb')"
   ]
  },
  {
   "cell_type": "code",
   "execution_count": 28,
   "metadata": {},
   "outputs": [
    {
     "data": {
      "text/plain": [
       "22491"
      ]
     },
     "execution_count": 28,
     "metadata": {},
     "output_type": "execute_result"
    }
   ],
   "source": [
    "f.write(image_link.content)"
   ]
  },
  {
   "cell_type": "code",
   "execution_count": 29,
   "metadata": {},
   "outputs": [],
   "source": [
    "f.close()"
   ]
  },
  {
   "cell_type": "markdown",
   "metadata": {},
   "source": [
    "Now we can display this file right here in the notebook as markdown using:\n",
    "\n",
    "    <img src=\"'my_new_file_name.jpg'>\n",
    "    \n",
    "Just write the above line in a new markdown cell and it will display the image we just downloaded!"
   ]
  },
  {
   "cell_type": "markdown",
   "metadata": {},
   "source": [
    "<img src='my_new_file_name.jpg'>"
   ]
  },
  {
   "cell_type": "markdown",
   "metadata": {},
   "source": [
    "### Example Project - Working with Multiple Pages and Items\n",
    "\n",
    "Let's show a more realistic example of scraping a full site. The website: http://books.toscrape.com/index.html is specifically designed for people to scrape it. Let's try to get the title of every book that has a 2 star rating and at the end just have a Python list with all their titles.\n",
    "\n",
    "We will do the following:\n",
    "\n",
    "1. Figure out the URL structure to go through every page\n",
    "2. Scrap every page in the catalogue\n",
    "3. Figure out what tag/class represents the Star rating\n",
    "4. Filter by that star rating using an if statement\n",
    "5. Store the results to a list"
   ]
  },
  {
   "cell_type": "markdown",
   "metadata": {
    "collapsed": true,
    "jupyter": {
     "outputs_hidden": true
    }
   },
   "source": [
    "We can see that the URL structure is the following:\n",
    "\n",
    "    http://books.toscrape.com/catalogue/page-1.html"
   ]
  },
  {
   "cell_type": "code",
   "execution_count": 30,
   "metadata": {},
   "outputs": [],
   "source": [
    "base_url = 'http://books.toscrape.com/catalogue/page-{}.html'"
   ]
  },
  {
   "cell_type": "markdown",
   "metadata": {},
   "source": [
    "We can then fill in the page number with .format()"
   ]
  },
  {
   "cell_type": "code",
   "execution_count": 31,
   "metadata": {},
   "outputs": [],
   "source": [
    "res = requests.get(base_url.format('1'))"
   ]
  },
  {
   "cell_type": "markdown",
   "metadata": {},
   "source": [
    "Now let's grab the products (books) from the get request result:"
   ]
  },
  {
   "cell_type": "code",
   "execution_count": 32,
   "metadata": {},
   "outputs": [],
   "source": [
    "soup = bs4.BeautifulSoup(res.text,\"lxml\")"
   ]
  },
  {
   "cell_type": "code",
   "execution_count": 33,
   "metadata": {},
   "outputs": [
    {
     "data": {
      "text/plain": [
       "[<article class=\"product_pod\">\n",
       " <div class=\"image_container\">\n",
       " <a href=\"a-light-in-the-attic_1000/index.html\"><img alt=\"A Light in the Attic\" class=\"thumbnail\" src=\"../media/cache/2c/da/2cdad67c44b002e7ead0cc35693c0e8b.jpg\"/></a>\n",
       " </div>\n",
       " <p class=\"star-rating Three\">\n",
       " <i class=\"icon-star\"></i>\n",
       " <i class=\"icon-star\"></i>\n",
       " <i class=\"icon-star\"></i>\n",
       " <i class=\"icon-star\"></i>\n",
       " <i class=\"icon-star\"></i>\n",
       " </p>\n",
       " <h3><a href=\"a-light-in-the-attic_1000/index.html\" title=\"A Light in the Attic\">A Light in the ...</a></h3>\n",
       " <div class=\"product_price\">\n",
       " <p class=\"price_color\">Â£51.77</p>\n",
       " <p class=\"instock availability\">\n",
       " <i class=\"icon-ok\"></i>\n",
       "     \n",
       "         In stock\n",
       "     \n",
       " </p>\n",
       " <form>\n",
       " <button class=\"btn btn-primary btn-block\" data-loading-text=\"Adding...\" type=\"submit\">Add to basket</button>\n",
       " </form>\n",
       " </div>\n",
       " </article>,\n",
       " <article class=\"product_pod\">\n",
       " <div class=\"image_container\">\n",
       " <a href=\"tipping-the-velvet_999/index.html\"><img alt=\"Tipping the Velvet\" class=\"thumbnail\" src=\"../media/cache/26/0c/260c6ae16bce31c8f8c95daddd9f4a1c.jpg\"/></a>\n",
       " </div>\n",
       " <p class=\"star-rating One\">\n",
       " <i class=\"icon-star\"></i>\n",
       " <i class=\"icon-star\"></i>\n",
       " <i class=\"icon-star\"></i>\n",
       " <i class=\"icon-star\"></i>\n",
       " <i class=\"icon-star\"></i>\n",
       " </p>\n",
       " <h3><a href=\"tipping-the-velvet_999/index.html\" title=\"Tipping the Velvet\">Tipping the Velvet</a></h3>\n",
       " <div class=\"product_price\">\n",
       " <p class=\"price_color\">Â£53.74</p>\n",
       " <p class=\"instock availability\">\n",
       " <i class=\"icon-ok\"></i>\n",
       "     \n",
       "         In stock\n",
       "     \n",
       " </p>\n",
       " <form>\n",
       " <button class=\"btn btn-primary btn-block\" data-loading-text=\"Adding...\" type=\"submit\">Add to basket</button>\n",
       " </form>\n",
       " </div>\n",
       " </article>,\n",
       " <article class=\"product_pod\">\n",
       " <div class=\"image_container\">\n",
       " <a href=\"soumission_998/index.html\"><img alt=\"Soumission\" class=\"thumbnail\" src=\"../media/cache/3e/ef/3eef99c9d9adef34639f510662022830.jpg\"/></a>\n",
       " </div>\n",
       " <p class=\"star-rating One\">\n",
       " <i class=\"icon-star\"></i>\n",
       " <i class=\"icon-star\"></i>\n",
       " <i class=\"icon-star\"></i>\n",
       " <i class=\"icon-star\"></i>\n",
       " <i class=\"icon-star\"></i>\n",
       " </p>\n",
       " <h3><a href=\"soumission_998/index.html\" title=\"Soumission\">Soumission</a></h3>\n",
       " <div class=\"product_price\">\n",
       " <p class=\"price_color\">Â£50.10</p>\n",
       " <p class=\"instock availability\">\n",
       " <i class=\"icon-ok\"></i>\n",
       "     \n",
       "         In stock\n",
       "     \n",
       " </p>\n",
       " <form>\n",
       " <button class=\"btn btn-primary btn-block\" data-loading-text=\"Adding...\" type=\"submit\">Add to basket</button>\n",
       " </form>\n",
       " </div>\n",
       " </article>,\n",
       " <article class=\"product_pod\">\n",
       " <div class=\"image_container\">\n",
       " <a href=\"sharp-objects_997/index.html\"><img alt=\"Sharp Objects\" class=\"thumbnail\" src=\"../media/cache/32/51/3251cf3a3412f53f339e42cac2134093.jpg\"/></a>\n",
       " </div>\n",
       " <p class=\"star-rating Four\">\n",
       " <i class=\"icon-star\"></i>\n",
       " <i class=\"icon-star\"></i>\n",
       " <i class=\"icon-star\"></i>\n",
       " <i class=\"icon-star\"></i>\n",
       " <i class=\"icon-star\"></i>\n",
       " </p>\n",
       " <h3><a href=\"sharp-objects_997/index.html\" title=\"Sharp Objects\">Sharp Objects</a></h3>\n",
       " <div class=\"product_price\">\n",
       " <p class=\"price_color\">Â£47.82</p>\n",
       " <p class=\"instock availability\">\n",
       " <i class=\"icon-ok\"></i>\n",
       "     \n",
       "         In stock\n",
       "     \n",
       " </p>\n",
       " <form>\n",
       " <button class=\"btn btn-primary btn-block\" data-loading-text=\"Adding...\" type=\"submit\">Add to basket</button>\n",
       " </form>\n",
       " </div>\n",
       " </article>,\n",
       " <article class=\"product_pod\">\n",
       " <div class=\"image_container\">\n",
       " <a href=\"sapiens-a-brief-history-of-humankind_996/index.html\"><img alt=\"Sapiens: A Brief History of Humankind\" class=\"thumbnail\" src=\"../media/cache/be/a5/bea5697f2534a2f86a3ef27b5a8c12a6.jpg\"/></a>\n",
       " </div>\n",
       " <p class=\"star-rating Five\">\n",
       " <i class=\"icon-star\"></i>\n",
       " <i class=\"icon-star\"></i>\n",
       " <i class=\"icon-star\"></i>\n",
       " <i class=\"icon-star\"></i>\n",
       " <i class=\"icon-star\"></i>\n",
       " </p>\n",
       " <h3><a href=\"sapiens-a-brief-history-of-humankind_996/index.html\" title=\"Sapiens: A Brief History of Humankind\">Sapiens: A Brief History ...</a></h3>\n",
       " <div class=\"product_price\">\n",
       " <p class=\"price_color\">Â£54.23</p>\n",
       " <p class=\"instock availability\">\n",
       " <i class=\"icon-ok\"></i>\n",
       "     \n",
       "         In stock\n",
       "     \n",
       " </p>\n",
       " <form>\n",
       " <button class=\"btn btn-primary btn-block\" data-loading-text=\"Adding...\" type=\"submit\">Add to basket</button>\n",
       " </form>\n",
       " </div>\n",
       " </article>,\n",
       " <article class=\"product_pod\">\n",
       " <div class=\"image_container\">\n",
       " <a href=\"the-requiem-red_995/index.html\"><img alt=\"The Requiem Red\" class=\"thumbnail\" src=\"../media/cache/68/33/68339b4c9bc034267e1da611ab3b34f8.jpg\"/></a>\n",
       " </div>\n",
       " <p class=\"star-rating One\">\n",
       " <i class=\"icon-star\"></i>\n",
       " <i class=\"icon-star\"></i>\n",
       " <i class=\"icon-star\"></i>\n",
       " <i class=\"icon-star\"></i>\n",
       " <i class=\"icon-star\"></i>\n",
       " </p>\n",
       " <h3><a href=\"the-requiem-red_995/index.html\" title=\"The Requiem Red\">The Requiem Red</a></h3>\n",
       " <div class=\"product_price\">\n",
       " <p class=\"price_color\">Â£22.65</p>\n",
       " <p class=\"instock availability\">\n",
       " <i class=\"icon-ok\"></i>\n",
       "     \n",
       "         In stock\n",
       "     \n",
       " </p>\n",
       " <form>\n",
       " <button class=\"btn btn-primary btn-block\" data-loading-text=\"Adding...\" type=\"submit\">Add to basket</button>\n",
       " </form>\n",
       " </div>\n",
       " </article>,\n",
       " <article class=\"product_pod\">\n",
       " <div class=\"image_container\">\n",
       " <a href=\"the-dirty-little-secrets-of-getting-your-dream-job_994/index.html\"><img alt=\"The Dirty Little Secrets of Getting Your Dream Job\" class=\"thumbnail\" src=\"../media/cache/92/27/92274a95b7c251fea59a2b8a78275ab4.jpg\"/></a>\n",
       " </div>\n",
       " <p class=\"star-rating Four\">\n",
       " <i class=\"icon-star\"></i>\n",
       " <i class=\"icon-star\"></i>\n",
       " <i class=\"icon-star\"></i>\n",
       " <i class=\"icon-star\"></i>\n",
       " <i class=\"icon-star\"></i>\n",
       " </p>\n",
       " <h3><a href=\"the-dirty-little-secrets-of-getting-your-dream-job_994/index.html\" title=\"The Dirty Little Secrets of Getting Your Dream Job\">The Dirty Little Secrets ...</a></h3>\n",
       " <div class=\"product_price\">\n",
       " <p class=\"price_color\">Â£33.34</p>\n",
       " <p class=\"instock availability\">\n",
       " <i class=\"icon-ok\"></i>\n",
       "     \n",
       "         In stock\n",
       "     \n",
       " </p>\n",
       " <form>\n",
       " <button class=\"btn btn-primary btn-block\" data-loading-text=\"Adding...\" type=\"submit\">Add to basket</button>\n",
       " </form>\n",
       " </div>\n",
       " </article>,\n",
       " <article class=\"product_pod\">\n",
       " <div class=\"image_container\">\n",
       " <a href=\"the-coming-woman-a-novel-based-on-the-life-of-the-infamous-feminist-victoria-woodhull_993/index.html\"><img alt=\"The Coming Woman: A Novel Based on the Life of the Infamous Feminist, Victoria Woodhull\" class=\"thumbnail\" src=\"../media/cache/3d/54/3d54940e57e662c4dd1f3ff00c78cc64.jpg\"/></a>\n",
       " </div>\n",
       " <p class=\"star-rating Three\">\n",
       " <i class=\"icon-star\"></i>\n",
       " <i class=\"icon-star\"></i>\n",
       " <i class=\"icon-star\"></i>\n",
       " <i class=\"icon-star\"></i>\n",
       " <i class=\"icon-star\"></i>\n",
       " </p>\n",
       " <h3><a href=\"the-coming-woman-a-novel-based-on-the-life-of-the-infamous-feminist-victoria-woodhull_993/index.html\" title=\"The Coming Woman: A Novel Based on the Life of the Infamous Feminist, Victoria Woodhull\">The Coming Woman: A ...</a></h3>\n",
       " <div class=\"product_price\">\n",
       " <p class=\"price_color\">Â£17.93</p>\n",
       " <p class=\"instock availability\">\n",
       " <i class=\"icon-ok\"></i>\n",
       "     \n",
       "         In stock\n",
       "     \n",
       " </p>\n",
       " <form>\n",
       " <button class=\"btn btn-primary btn-block\" data-loading-text=\"Adding...\" type=\"submit\">Add to basket</button>\n",
       " </form>\n",
       " </div>\n",
       " </article>,\n",
       " <article class=\"product_pod\">\n",
       " <div class=\"image_container\">\n",
       " <a href=\"the-boys-in-the-boat-nine-americans-and-their-epic-quest-for-gold-at-the-1936-berlin-olympics_992/index.html\"><img alt=\"The Boys in the Boat: Nine Americans and Their Epic Quest for Gold at the 1936 Berlin Olympics\" class=\"thumbnail\" src=\"../media/cache/66/88/66883b91f6804b2323c8369331cb7dd1.jpg\"/></a>\n",
       " </div>\n",
       " <p class=\"star-rating Four\">\n",
       " <i class=\"icon-star\"></i>\n",
       " <i class=\"icon-star\"></i>\n",
       " <i class=\"icon-star\"></i>\n",
       " <i class=\"icon-star\"></i>\n",
       " <i class=\"icon-star\"></i>\n",
       " </p>\n",
       " <h3><a href=\"the-boys-in-the-boat-nine-americans-and-their-epic-quest-for-gold-at-the-1936-berlin-olympics_992/index.html\" title=\"The Boys in the Boat: Nine Americans and Their Epic Quest for Gold at the 1936 Berlin Olympics\">The Boys in the ...</a></h3>\n",
       " <div class=\"product_price\">\n",
       " <p class=\"price_color\">Â£22.60</p>\n",
       " <p class=\"instock availability\">\n",
       " <i class=\"icon-ok\"></i>\n",
       "     \n",
       "         In stock\n",
       "     \n",
       " </p>\n",
       " <form>\n",
       " <button class=\"btn btn-primary btn-block\" data-loading-text=\"Adding...\" type=\"submit\">Add to basket</button>\n",
       " </form>\n",
       " </div>\n",
       " </article>,\n",
       " <article class=\"product_pod\">\n",
       " <div class=\"image_container\">\n",
       " <a href=\"the-black-maria_991/index.html\"><img alt=\"The Black Maria\" class=\"thumbnail\" src=\"../media/cache/58/46/5846057e28022268153beff6d352b06c.jpg\"/></a>\n",
       " </div>\n",
       " <p class=\"star-rating One\">\n",
       " <i class=\"icon-star\"></i>\n",
       " <i class=\"icon-star\"></i>\n",
       " <i class=\"icon-star\"></i>\n",
       " <i class=\"icon-star\"></i>\n",
       " <i class=\"icon-star\"></i>\n",
       " </p>\n",
       " <h3><a href=\"the-black-maria_991/index.html\" title=\"The Black Maria\">The Black Maria</a></h3>\n",
       " <div class=\"product_price\">\n",
       " <p class=\"price_color\">Â£52.15</p>\n",
       " <p class=\"instock availability\">\n",
       " <i class=\"icon-ok\"></i>\n",
       "     \n",
       "         In stock\n",
       "     \n",
       " </p>\n",
       " <form>\n",
       " <button class=\"btn btn-primary btn-block\" data-loading-text=\"Adding...\" type=\"submit\">Add to basket</button>\n",
       " </form>\n",
       " </div>\n",
       " </article>,\n",
       " <article class=\"product_pod\">\n",
       " <div class=\"image_container\">\n",
       " <a href=\"starving-hearts-triangular-trade-trilogy-1_990/index.html\"><img alt=\"Starving Hearts (Triangular Trade Trilogy, #1)\" class=\"thumbnail\" src=\"../media/cache/be/f4/bef44da28c98f905a3ebec0b87be8530.jpg\"/></a>\n",
       " </div>\n",
       " <p class=\"star-rating Two\">\n",
       " <i class=\"icon-star\"></i>\n",
       " <i class=\"icon-star\"></i>\n",
       " <i class=\"icon-star\"></i>\n",
       " <i class=\"icon-star\"></i>\n",
       " <i class=\"icon-star\"></i>\n",
       " </p>\n",
       " <h3><a href=\"starving-hearts-triangular-trade-trilogy-1_990/index.html\" title=\"Starving Hearts (Triangular Trade Trilogy, #1)\">Starving Hearts (Triangular Trade ...</a></h3>\n",
       " <div class=\"product_price\">\n",
       " <p class=\"price_color\">Â£13.99</p>\n",
       " <p class=\"instock availability\">\n",
       " <i class=\"icon-ok\"></i>\n",
       "     \n",
       "         In stock\n",
       "     \n",
       " </p>\n",
       " <form>\n",
       " <button class=\"btn btn-primary btn-block\" data-loading-text=\"Adding...\" type=\"submit\">Add to basket</button>\n",
       " </form>\n",
       " </div>\n",
       " </article>,\n",
       " <article class=\"product_pod\">\n",
       " <div class=\"image_container\">\n",
       " <a href=\"shakespeares-sonnets_989/index.html\"><img alt=\"Shakespeare's Sonnets\" class=\"thumbnail\" src=\"../media/cache/10/48/1048f63d3b5061cd2f424d20b3f9b666.jpg\"/></a>\n",
       " </div>\n",
       " <p class=\"star-rating Four\">\n",
       " <i class=\"icon-star\"></i>\n",
       " <i class=\"icon-star\"></i>\n",
       " <i class=\"icon-star\"></i>\n",
       " <i class=\"icon-star\"></i>\n",
       " <i class=\"icon-star\"></i>\n",
       " </p>\n",
       " <h3><a href=\"shakespeares-sonnets_989/index.html\" title=\"Shakespeare's Sonnets\">Shakespeare's Sonnets</a></h3>\n",
       " <div class=\"product_price\">\n",
       " <p class=\"price_color\">Â£20.66</p>\n",
       " <p class=\"instock availability\">\n",
       " <i class=\"icon-ok\"></i>\n",
       "     \n",
       "         In stock\n",
       "     \n",
       " </p>\n",
       " <form>\n",
       " <button class=\"btn btn-primary btn-block\" data-loading-text=\"Adding...\" type=\"submit\">Add to basket</button>\n",
       " </form>\n",
       " </div>\n",
       " </article>,\n",
       " <article class=\"product_pod\">\n",
       " <div class=\"image_container\">\n",
       " <a href=\"set-me-free_988/index.html\"><img alt=\"Set Me Free\" class=\"thumbnail\" src=\"../media/cache/5b/88/5b88c52633f53cacf162c15f4f823153.jpg\"/></a>\n",
       " </div>\n",
       " <p class=\"star-rating Five\">\n",
       " <i class=\"icon-star\"></i>\n",
       " <i class=\"icon-star\"></i>\n",
       " <i class=\"icon-star\"></i>\n",
       " <i class=\"icon-star\"></i>\n",
       " <i class=\"icon-star\"></i>\n",
       " </p>\n",
       " <h3><a href=\"set-me-free_988/index.html\" title=\"Set Me Free\">Set Me Free</a></h3>\n",
       " <div class=\"product_price\">\n",
       " <p class=\"price_color\">Â£17.46</p>\n",
       " <p class=\"instock availability\">\n",
       " <i class=\"icon-ok\"></i>\n",
       "     \n",
       "         In stock\n",
       "     \n",
       " </p>\n",
       " <form>\n",
       " <button class=\"btn btn-primary btn-block\" data-loading-text=\"Adding...\" type=\"submit\">Add to basket</button>\n",
       " </form>\n",
       " </div>\n",
       " </article>,\n",
       " <article class=\"product_pod\">\n",
       " <div class=\"image_container\">\n",
       " <a href=\"scott-pilgrims-precious-little-life-scott-pilgrim-1_987/index.html\"><img alt=\"Scott Pilgrim's Precious Little Life (Scott Pilgrim #1)\" class=\"thumbnail\" src=\"../media/cache/94/b1/94b1b8b244bce9677c2f29ccc890d4d2.jpg\"/></a>\n",
       " </div>\n",
       " <p class=\"star-rating Five\">\n",
       " <i class=\"icon-star\"></i>\n",
       " <i class=\"icon-star\"></i>\n",
       " <i class=\"icon-star\"></i>\n",
       " <i class=\"icon-star\"></i>\n",
       " <i class=\"icon-star\"></i>\n",
       " </p>\n",
       " <h3><a href=\"scott-pilgrims-precious-little-life-scott-pilgrim-1_987/index.html\" title=\"Scott Pilgrim's Precious Little Life (Scott Pilgrim #1)\">Scott Pilgrim's Precious Little ...</a></h3>\n",
       " <div class=\"product_price\">\n",
       " <p class=\"price_color\">Â£52.29</p>\n",
       " <p class=\"instock availability\">\n",
       " <i class=\"icon-ok\"></i>\n",
       "     \n",
       "         In stock\n",
       "     \n",
       " </p>\n",
       " <form>\n",
       " <button class=\"btn btn-primary btn-block\" data-loading-text=\"Adding...\" type=\"submit\">Add to basket</button>\n",
       " </form>\n",
       " </div>\n",
       " </article>,\n",
       " <article class=\"product_pod\">\n",
       " <div class=\"image_container\">\n",
       " <a href=\"rip-it-up-and-start-again_986/index.html\"><img alt=\"Rip it Up and Start Again\" class=\"thumbnail\" src=\"../media/cache/81/c4/81c4a973364e17d01f217e1188253d5e.jpg\"/></a>\n",
       " </div>\n",
       " <p class=\"star-rating Five\">\n",
       " <i class=\"icon-star\"></i>\n",
       " <i class=\"icon-star\"></i>\n",
       " <i class=\"icon-star\"></i>\n",
       " <i class=\"icon-star\"></i>\n",
       " <i class=\"icon-star\"></i>\n",
       " </p>\n",
       " <h3><a href=\"rip-it-up-and-start-again_986/index.html\" title=\"Rip it Up and Start Again\">Rip it Up and ...</a></h3>\n",
       " <div class=\"product_price\">\n",
       " <p class=\"price_color\">Â£35.02</p>\n",
       " <p class=\"instock availability\">\n",
       " <i class=\"icon-ok\"></i>\n",
       "     \n",
       "         In stock\n",
       "     \n",
       " </p>\n",
       " <form>\n",
       " <button class=\"btn btn-primary btn-block\" data-loading-text=\"Adding...\" type=\"submit\">Add to basket</button>\n",
       " </form>\n",
       " </div>\n",
       " </article>,\n",
       " <article class=\"product_pod\">\n",
       " <div class=\"image_container\">\n",
       " <a href=\"our-band-could-be-your-life-scenes-from-the-american-indie-underground-1981-1991_985/index.html\"><img alt=\"Our Band Could Be Your Life: Scenes from the American Indie Underground, 1981-1991\" class=\"thumbnail\" src=\"../media/cache/54/60/54607fe8945897cdcced0044103b10b6.jpg\"/></a>\n",
       " </div>\n",
       " <p class=\"star-rating Three\">\n",
       " <i class=\"icon-star\"></i>\n",
       " <i class=\"icon-star\"></i>\n",
       " <i class=\"icon-star\"></i>\n",
       " <i class=\"icon-star\"></i>\n",
       " <i class=\"icon-star\"></i>\n",
       " </p>\n",
       " <h3><a href=\"our-band-could-be-your-life-scenes-from-the-american-indie-underground-1981-1991_985/index.html\" title=\"Our Band Could Be Your Life: Scenes from the American Indie Underground, 1981-1991\">Our Band Could Be ...</a></h3>\n",
       " <div class=\"product_price\">\n",
       " <p class=\"price_color\">Â£57.25</p>\n",
       " <p class=\"instock availability\">\n",
       " <i class=\"icon-ok\"></i>\n",
       "     \n",
       "         In stock\n",
       "     \n",
       " </p>\n",
       " <form>\n",
       " <button class=\"btn btn-primary btn-block\" data-loading-text=\"Adding...\" type=\"submit\">Add to basket</button>\n",
       " </form>\n",
       " </div>\n",
       " </article>,\n",
       " <article class=\"product_pod\">\n",
       " <div class=\"image_container\">\n",
       " <a href=\"olio_984/index.html\"><img alt=\"Olio\" class=\"thumbnail\" src=\"../media/cache/55/33/553310a7162dfbc2c6d19a84da0df9e1.jpg\"/></a>\n",
       " </div>\n",
       " <p class=\"star-rating One\">\n",
       " <i class=\"icon-star\"></i>\n",
       " <i class=\"icon-star\"></i>\n",
       " <i class=\"icon-star\"></i>\n",
       " <i class=\"icon-star\"></i>\n",
       " <i class=\"icon-star\"></i>\n",
       " </p>\n",
       " <h3><a href=\"olio_984/index.html\" title=\"Olio\">Olio</a></h3>\n",
       " <div class=\"product_price\">\n",
       " <p class=\"price_color\">Â£23.88</p>\n",
       " <p class=\"instock availability\">\n",
       " <i class=\"icon-ok\"></i>\n",
       "     \n",
       "         In stock\n",
       "     \n",
       " </p>\n",
       " <form>\n",
       " <button class=\"btn btn-primary btn-block\" data-loading-text=\"Adding...\" type=\"submit\">Add to basket</button>\n",
       " </form>\n",
       " </div>\n",
       " </article>,\n",
       " <article class=\"product_pod\">\n",
       " <div class=\"image_container\">\n",
       " <a href=\"mesaerion-the-best-science-fiction-stories-1800-1849_983/index.html\"><img alt=\"Mesaerion: The Best Science Fiction Stories 1800-1849\" class=\"thumbnail\" src=\"../media/cache/09/a3/09a3aef48557576e1a85ba7efea8ecb7.jpg\"/></a>\n",
       " </div>\n",
       " <p class=\"star-rating One\">\n",
       " <i class=\"icon-star\"></i>\n",
       " <i class=\"icon-star\"></i>\n",
       " <i class=\"icon-star\"></i>\n",
       " <i class=\"icon-star\"></i>\n",
       " <i class=\"icon-star\"></i>\n",
       " </p>\n",
       " <h3><a href=\"mesaerion-the-best-science-fiction-stories-1800-1849_983/index.html\" title=\"Mesaerion: The Best Science Fiction Stories 1800-1849\">Mesaerion: The Best Science ...</a></h3>\n",
       " <div class=\"product_price\">\n",
       " <p class=\"price_color\">Â£37.59</p>\n",
       " <p class=\"instock availability\">\n",
       " <i class=\"icon-ok\"></i>\n",
       "     \n",
       "         In stock\n",
       "     \n",
       " </p>\n",
       " <form>\n",
       " <button class=\"btn btn-primary btn-block\" data-loading-text=\"Adding...\" type=\"submit\">Add to basket</button>\n",
       " </form>\n",
       " </div>\n",
       " </article>,\n",
       " <article class=\"product_pod\">\n",
       " <div class=\"image_container\">\n",
       " <a href=\"libertarianism-for-beginners_982/index.html\"><img alt=\"Libertarianism for Beginners\" class=\"thumbnail\" src=\"../media/cache/0b/bc/0bbcd0a6f4bcd81ccb1049a52736406e.jpg\"/></a>\n",
       " </div>\n",
       " <p class=\"star-rating Two\">\n",
       " <i class=\"icon-star\"></i>\n",
       " <i class=\"icon-star\"></i>\n",
       " <i class=\"icon-star\"></i>\n",
       " <i class=\"icon-star\"></i>\n",
       " <i class=\"icon-star\"></i>\n",
       " </p>\n",
       " <h3><a href=\"libertarianism-for-beginners_982/index.html\" title=\"Libertarianism for Beginners\">Libertarianism for Beginners</a></h3>\n",
       " <div class=\"product_price\">\n",
       " <p class=\"price_color\">Â£51.33</p>\n",
       " <p class=\"instock availability\">\n",
       " <i class=\"icon-ok\"></i>\n",
       "     \n",
       "         In stock\n",
       "     \n",
       " </p>\n",
       " <form>\n",
       " <button class=\"btn btn-primary btn-block\" data-loading-text=\"Adding...\" type=\"submit\">Add to basket</button>\n",
       " </form>\n",
       " </div>\n",
       " </article>,\n",
       " <article class=\"product_pod\">\n",
       " <div class=\"image_container\">\n",
       " <a href=\"its-only-the-himalayas_981/index.html\"><img alt=\"It's Only the Himalayas\" class=\"thumbnail\" src=\"../media/cache/27/a5/27a53d0bb95bdd88288eaf66c9230d7e.jpg\"/></a>\n",
       " </div>\n",
       " <p class=\"star-rating Two\">\n",
       " <i class=\"icon-star\"></i>\n",
       " <i class=\"icon-star\"></i>\n",
       " <i class=\"icon-star\"></i>\n",
       " <i class=\"icon-star\"></i>\n",
       " <i class=\"icon-star\"></i>\n",
       " </p>\n",
       " <h3><a href=\"its-only-the-himalayas_981/index.html\" title=\"It's Only the Himalayas\">It's Only the Himalayas</a></h3>\n",
       " <div class=\"product_price\">\n",
       " <p class=\"price_color\">Â£45.17</p>\n",
       " <p class=\"instock availability\">\n",
       " <i class=\"icon-ok\"></i>\n",
       "     \n",
       "         In stock\n",
       "     \n",
       " </p>\n",
       " <form>\n",
       " <button class=\"btn btn-primary btn-block\" data-loading-text=\"Adding...\" type=\"submit\">Add to basket</button>\n",
       " </form>\n",
       " </div>\n",
       " </article>]"
      ]
     },
     "execution_count": 33,
     "metadata": {},
     "output_type": "execute_result"
    }
   ],
   "source": [
    "soup.select(\".product_pod\")"
   ]
  },
  {
   "cell_type": "markdown",
   "metadata": {},
   "source": [
    "Now we can see that each book has the product_pod class. We can select any tag with this class, and then further reduce it by its rating."
   ]
  },
  {
   "cell_type": "code",
   "execution_count": 34,
   "metadata": {},
   "outputs": [],
   "source": [
    "products = soup.select(\".product_pod\")"
   ]
  },
  {
   "cell_type": "code",
   "execution_count": 35,
   "metadata": {},
   "outputs": [],
   "source": [
    "example = products[0]"
   ]
  },
  {
   "cell_type": "code",
   "execution_count": 36,
   "metadata": {},
   "outputs": [
    {
     "data": {
      "text/plain": [
       "bs4.element.Tag"
      ]
     },
     "execution_count": 36,
     "metadata": {},
     "output_type": "execute_result"
    }
   ],
   "source": [
    "type(example)"
   ]
  },
  {
   "cell_type": "code",
   "execution_count": 37,
   "metadata": {},
   "outputs": [
    {
     "data": {
      "text/plain": [
       "{'class': ['product_pod']}"
      ]
     },
     "execution_count": 37,
     "metadata": {},
     "output_type": "execute_result"
    }
   ],
   "source": [
    "example.attrs"
   ]
  },
  {
   "cell_type": "markdown",
   "metadata": {},
   "source": [
    "Now by inspecting the site we can see that the class we want is class='star-rating Two' , if you click on this in your browser, you'll notice it displays the space as a . , so that means we want to search for \".star-rating.Two\""
   ]
  },
  {
   "cell_type": "code",
   "execution_count": 38,
   "metadata": {},
   "outputs": [
    {
     "data": {
      "text/plain": [
       "['\\n',\n",
       " <div class=\"image_container\">\n",
       " <a href=\"a-light-in-the-attic_1000/index.html\"><img alt=\"A Light in the Attic\" class=\"thumbnail\" src=\"../media/cache/2c/da/2cdad67c44b002e7ead0cc35693c0e8b.jpg\"/></a>\n",
       " </div>,\n",
       " '\\n',\n",
       " <p class=\"star-rating Three\">\n",
       " <i class=\"icon-star\"></i>\n",
       " <i class=\"icon-star\"></i>\n",
       " <i class=\"icon-star\"></i>\n",
       " <i class=\"icon-star\"></i>\n",
       " <i class=\"icon-star\"></i>\n",
       " </p>,\n",
       " '\\n',\n",
       " <h3><a href=\"a-light-in-the-attic_1000/index.html\" title=\"A Light in the Attic\">A Light in the ...</a></h3>,\n",
       " '\\n',\n",
       " <div class=\"product_price\">\n",
       " <p class=\"price_color\">Â£51.77</p>\n",
       " <p class=\"instock availability\">\n",
       " <i class=\"icon-ok\"></i>\n",
       "     \n",
       "         In stock\n",
       "     \n",
       " </p>\n",
       " <form>\n",
       " <button class=\"btn btn-primary btn-block\" data-loading-text=\"Adding...\" type=\"submit\">Add to basket</button>\n",
       " </form>\n",
       " </div>,\n",
       " '\\n']"
      ]
     },
     "execution_count": 38,
     "metadata": {},
     "output_type": "execute_result"
    }
   ],
   "source": [
    "list(example.children)"
   ]
  },
  {
   "cell_type": "code",
   "execution_count": 39,
   "metadata": {},
   "outputs": [
    {
     "data": {
      "text/plain": [
       "[<p class=\"star-rating Three\">\n",
       " <i class=\"icon-star\"></i>\n",
       " <i class=\"icon-star\"></i>\n",
       " <i class=\"icon-star\"></i>\n",
       " <i class=\"icon-star\"></i>\n",
       " <i class=\"icon-star\"></i>\n",
       " </p>]"
      ]
     },
     "execution_count": 39,
     "metadata": {},
     "output_type": "execute_result"
    }
   ],
   "source": [
    "example.select('.star-rating.Three')"
   ]
  },
  {
   "cell_type": "markdown",
   "metadata": {},
   "source": [
    "But we are looking for 2 stars, so it looks like we can just check to see if something was returned"
   ]
  },
  {
   "cell_type": "code",
   "execution_count": 40,
   "metadata": {},
   "outputs": [
    {
     "data": {
      "text/plain": [
       "[]"
      ]
     },
     "execution_count": 40,
     "metadata": {},
     "output_type": "execute_result"
    }
   ],
   "source": [
    "example.select('.star-rating.Two')"
   ]
  },
  {
   "cell_type": "markdown",
   "metadata": {},
   "source": [
    "Alternatively, we can just quickly check the text string to see if \"star-rating Two\" is in it. Either approach is fine (there are also many other alternative approaches!)\n",
    "\n",
    "Now let's see how we can get the title if we have a 2-star match:"
   ]
  },
  {
   "cell_type": "code",
   "execution_count": 41,
   "metadata": {},
   "outputs": [
    {
     "data": {
      "text/plain": [
       "[<a href=\"a-light-in-the-attic_1000/index.html\"><img alt=\"A Light in the Attic\" class=\"thumbnail\" src=\"../media/cache/2c/da/2cdad67c44b002e7ead0cc35693c0e8b.jpg\"/></a>,\n",
       " <a href=\"a-light-in-the-attic_1000/index.html\" title=\"A Light in the Attic\">A Light in the ...</a>]"
      ]
     },
     "execution_count": 41,
     "metadata": {},
     "output_type": "execute_result"
    }
   ],
   "source": [
    "example.select('a')"
   ]
  },
  {
   "cell_type": "code",
   "execution_count": 42,
   "metadata": {},
   "outputs": [
    {
     "data": {
      "text/plain": [
       "<a href=\"a-light-in-the-attic_1000/index.html\" title=\"A Light in the Attic\">A Light in the ...</a>"
      ]
     },
     "execution_count": 42,
     "metadata": {},
     "output_type": "execute_result"
    }
   ],
   "source": [
    "example.select('a')[1]"
   ]
  },
  {
   "cell_type": "code",
   "execution_count": 43,
   "metadata": {},
   "outputs": [
    {
     "data": {
      "text/plain": [
       "'A Light in the Attic'"
      ]
     },
     "execution_count": 43,
     "metadata": {},
     "output_type": "execute_result"
    }
   ],
   "source": [
    "example.select('a')[1]['title']"
   ]
  },
  {
   "cell_type": "markdown",
   "metadata": {},
   "source": [
    "Okay, let's give it a shot by combining all the ideas we've talked about! (this should take about 20-60 seconds to complete running. Be aware a firwall may prevent this script from running. Also if you are getting a no response error, maybe try adding a sleep step with time.sleep(1)."
   ]
  },
  {
   "cell_type": "code",
   "execution_count": 44,
   "metadata": {},
   "outputs": [],
   "source": [
    "two_star_titles = []\n",
    "\n",
    "for n in range(1,51):\n",
    "\n",
    "    scrape_url = base_url.format(n)\n",
    "    res = requests.get(scrape_url)\n",
    "    \n",
    "    soup = bs4.BeautifulSoup(res.text,\"lxml\")\n",
    "    books = soup.select(\".product_pod\")\n",
    "    \n",
    "    for book in books:\n",
    "        if len(book.select('.star-rating.Two')) != 0:\n",
    "            two_star_titles.append(book.select('a')[1]['title'])"
   ]
  },
  {
   "cell_type": "code",
   "execution_count": 45,
   "metadata": {},
   "outputs": [
    {
     "data": {
      "text/plain": [
       "['Starving Hearts (Triangular Trade Trilogy, #1)',\n",
       " 'Libertarianism for Beginners',\n",
       " \"It's Only the Himalayas\",\n",
       " 'How Music Works',\n",
       " 'Maude (1883-1993):She Grew Up with the country',\n",
       " \"You can't bury them all: Poems\",\n",
       " 'Reasons to Stay Alive',\n",
       " 'Without Borders (Wanderlove #1)',\n",
       " 'Soul Reader',\n",
       " 'Security',\n",
       " 'Saga, Volume 5 (Saga (Collected Editions) #5)',\n",
       " 'Reskilling America: Learning to Labor in the Twenty-First Century',\n",
       " 'Political Suicide: Missteps, Peccadilloes, Bad Calls, Backroom Hijinx, Sordid Pasts, Rotten Breaks, and Just Plain Dumb Mistakes in the Annals of American Politics',\n",
       " 'Obsidian (Lux #1)',\n",
       " 'My Paris Kitchen: Recipes and Stories',\n",
       " 'Masks and Shadows',\n",
       " 'Lumberjanes, Vol. 2: Friendship to the Max (Lumberjanes #5-8)',\n",
       " 'Lumberjanes Vol. 3: A Terrible Plan (Lumberjanes #9-12)',\n",
       " 'Judo: Seven Steps to Black Belt (an Introductory Guide for Beginners)',\n",
       " 'I Hate Fairyland, Vol. 1: Madly Ever After (I Hate Fairyland (Compilations) #1-5)',\n",
       " 'Giant Days, Vol. 2 (Giant Days #5-8)',\n",
       " 'Everydata: The Misinformation Hidden in the Little Data You Consume Every Day',\n",
       " \"Don't Be a Jerk: And Other Practical Advice from Dogen, Japan's Greatest Zen Master\",\n",
       " 'Bossypants',\n",
       " 'Bitch Planet, Vol. 1: Extraordinary Machine (Bitch Planet (Collected Editions))',\n",
       " 'Avatar: The Last Airbender: Smoke and Shadow, Part 3 (Smoke and Shadow #3)',\n",
       " 'Tuesday Nights in 1980',\n",
       " 'The Psychopath Test: A Journey Through the Madness Industry',\n",
       " 'The Power of Now: A Guide to Spiritual Enlightenment',\n",
       " \"The Omnivore's Dilemma: A Natural History of Four Meals\",\n",
       " 'The Love and Lemons Cookbook: An Apple-to-Zucchini Celebration of Impromptu Cooking',\n",
       " 'The Girl on the Train',\n",
       " 'The Emerald Mystery',\n",
       " 'The Argonauts',\n",
       " 'Suddenly in Love (Lake Haven #1)',\n",
       " 'Soft Apocalypse',\n",
       " \"So You've Been Publicly Shamed\",\n",
       " 'Shoe Dog: A Memoir by the Creator of NIKE',\n",
       " 'Louisa: The Extraordinary Life of Mrs. Adams',\n",
       " 'Large Print Heart of the Pride',\n",
       " 'Grumbles',\n",
       " 'Chasing Heaven: What Dying Taught Me About Living',\n",
       " 'Becoming Wise: An Inquiry into the Mystery and Art of Living',\n",
       " 'Beauty Restored (Riley Family Legacy Novellas #3)',\n",
       " 'Batman: The Long Halloween (Batman)',\n",
       " \"Ayumi's Violin\",\n",
       " 'Wild Swans',\n",
       " \"What's It Like in Space?: Stories from Astronauts Who've Been There\",\n",
       " 'Until Friday Night (The Field Party #1)',\n",
       " 'Unbroken: A World War II Story of Survival, Resilience, and Redemption',\n",
       " 'Twenty Yawns',\n",
       " 'Through the Woods',\n",
       " 'This Is Where It Ends',\n",
       " 'The Year of Magical Thinking',\n",
       " 'The Last Mile (Amos Decker #2)',\n",
       " 'The Immortal Life of Henrietta Lacks',\n",
       " 'The Hidden Oracle (The Trials of Apollo #1)',\n",
       " 'The Guilty (Will Robie #4)',\n",
       " 'Red Hood/Arsenal, Vol. 1: Open for Business (Red Hood/Arsenal #1)',\n",
       " 'Once Was a Time',\n",
       " 'No Dream Is Too High: Life Lessons From a Man Who Walked on the Moon',\n",
       " 'Naruto (3-in-1 Edition), Vol. 14: Includes Vols. 40, 41 & 42 (Naruto: Omnibus #14)',\n",
       " 'More Than Music (Chasing the Dream #1)',\n",
       " 'Lowriders to the Center of the Earth (Lowriders in Space #2)',\n",
       " 'Eat Fat, Get Thin',\n",
       " 'Doctor Sleep (The Shining #2)',\n",
       " 'Crazy Love: Overwhelmed by a Relentless God',\n",
       " 'Carrie',\n",
       " 'Batman: Europa',\n",
       " 'Angels Walking (Angels Walking #1)',\n",
       " 'Adulthood Is a Myth: A \"Sarah\\'s Scribbles\" Collection',\n",
       " 'A Study in Scarlet (Sherlock Holmes #1)',\n",
       " 'A Series of Catastrophes and Miracles: A True Story of Love, Science, and Cancer',\n",
       " \"A People's History of the United States\",\n",
       " 'My Kitchen Year: 136 Recipes That Saved My Life',\n",
       " 'The Lonely City: Adventures in the Art of Being Alone',\n",
       " 'The Dinner Party',\n",
       " 'Stars Above (The Lunar Chronicles #4.5)',\n",
       " 'Love, Lies and Spies',\n",
       " 'Troublemaker: Surviving Hollywood and Scientology',\n",
       " 'The Widow',\n",
       " 'Setting the World on Fire: The Brief, Astonishing Life of St. Catherine of Siena',\n",
       " 'Mothering Sunday',\n",
       " 'Lilac Girls',\n",
       " '10% Happier: How I Tamed the Voice in My Head, Reduced Stress Without Losing My Edge, and Found Self-Help That Actually Works',\n",
       " 'Underlying Notes',\n",
       " 'The Flowers Lied',\n",
       " 'Modern Day Fables',\n",
       " \"Chernobyl 01:23:40: The Incredible True Story of the World's Worst Nuclear Disaster\",\n",
       " '23 Degrees South: A Tropical Tale of Changing Whether...',\n",
       " 'When Breath Becomes Air',\n",
       " 'Vagabonding: An Uncommon Guide to the Art of Long-Term World Travel',\n",
       " 'The Martian (The Martian #1)',\n",
       " \"Miller's Valley\",\n",
       " \"Love That Boy: What Two Presidents, Eight Road Trips, and My Son Taught Me About a Parent's Expectations\",\n",
       " 'Left Behind (Left Behind #1)',\n",
       " 'Howl and Other Poems',\n",
       " \"Heaven is for Real: A Little Boy's Astounding Story of His Trip to Heaven and Back\",\n",
       " \"Brazen: The Courage to Find the You That's Been Hiding\",\n",
       " '32 Yolks',\n",
       " 'Wildlife of New York: A Five-Borough Coloring Book',\n",
       " 'Unreasonable Hope: Finding Faith in the God Who Brings Purpose to Your Pain',\n",
       " 'The Art Book',\n",
       " 'Steal Like an Artist: 10 Things Nobody Told You About Being Creative',\n",
       " 'Raymie Nightingale',\n",
       " 'Like Never Before (Walker Family #2)',\n",
       " 'How to Be a Domestic Goddess: Baking and the Art of Comfort Cooking',\n",
       " 'Finding God in the Ruins: How God Redeems Pain',\n",
       " 'Chronicles, Vol. 1',\n",
       " 'A Summer In Europe',\n",
       " 'The Rise and Fall of the Third Reich: A History of Nazi Germany',\n",
       " 'The Makings of a Fatherless Child',\n",
       " 'The Fellowship of the Ring (The Lord of the Rings #1)',\n",
       " \"Tell the Wolves I'm Home\",\n",
       " 'In the Woods (Dublin Murder Squad #1)',\n",
       " 'Give It Back',\n",
       " 'Why Save the Bankers?: And Other Essays on Our Economic and Political Crisis',\n",
       " 'The Raven King (The Raven Cycle #4)',\n",
       " 'The Expatriates',\n",
       " 'The 5th Wave (The 5th Wave #1)',\n",
       " 'Peak: Secrets from the New Science of Expertise',\n",
       " 'Logan Kade (Fallen Crest High #5.5)',\n",
       " \"I Know Why the Caged Bird Sings (Maya Angelou's Autobiography #1)\",\n",
       " 'Drama',\n",
       " \"America's War for the Greater Middle East: A Military History\",\n",
       " 'A Game of Thrones (A Song of Ice and Fire #1)',\n",
       " \"The Pilgrim's Progress\",\n",
       " 'The Hound of the Baskervilles (Sherlock Holmes #5)',\n",
       " \"The Geography of Bliss: One Grump's Search for the Happiest Places in the World\",\n",
       " 'The Demonists (Demonist #1)',\n",
       " 'The Demon Prince of Momochi House, Vol. 4 (The Demon Prince of Momochi House #4)',\n",
       " 'Misery',\n",
       " 'Far From True (Promise Falls Trilogy #2)',\n",
       " 'Confessions of a Shopaholic (Shopaholic #1)',\n",
       " 'Vegan Vegetarian Omnivore: Dinner for Everyone at the Table',\n",
       " 'Two Boys Kissing',\n",
       " 'Twilight (Twilight #1)',\n",
       " 'Twenties Girl',\n",
       " 'The Tipping Point: How Little Things Can Make a Big Difference',\n",
       " 'The Stand',\n",
       " 'The Picture of Dorian Gray',\n",
       " 'The Name of God is Mercy',\n",
       " \"The Lover's Dictionary\",\n",
       " 'The Last Painting of Sara de Vos',\n",
       " 'The Guns of August',\n",
       " 'The Girl Who Played with Fire (Millennium Trilogy #2)',\n",
       " 'The Da Vinci Code (Robert Langdon #2)',\n",
       " 'The Cat in the Hat (Beginner Books B-1)',\n",
       " 'The Book Thief',\n",
       " 'The Autobiography of Malcolm X',\n",
       " \"Surely You're Joking, Mr. Feynman!: Adventures of a Curious Character\",\n",
       " 'Soldier (Talon #3)',\n",
       " 'Shopaholic & Baby (Shopaholic #5)',\n",
       " 'Seven Days in the Art World',\n",
       " 'Rework',\n",
       " 'Packing for Mars: The Curious Science of Life in the Void',\n",
       " 'Orange Is the New Black',\n",
       " 'One for the Money (Stephanie Plum #1)',\n",
       " 'Midnight Riot (Peter Grant/ Rivers of London - books #1)',\n",
       " 'Me Talk Pretty One Day',\n",
       " 'Manuscript Found in Accra',\n",
       " 'Lust & Wonder',\n",
       " \"Life, the Universe and Everything (Hitchhiker's Guide to the Galaxy #3)\",\n",
       " 'Life After Life',\n",
       " 'I Am Malala: The Girl Who Stood Up for Education and Was Shot by the Taliban',\n",
       " 'House of Lost Worlds: Dinosaurs, Dynasties, and the Story of Life on Earth',\n",
       " 'Horrible Bear!',\n",
       " 'Holidays on Ice',\n",
       " 'Girl in the Blue Coat',\n",
       " 'Fruits Basket, Vol. 3 (Fruits Basket #3)',\n",
       " 'Cosmos',\n",
       " 'Civilization and Its Discontents',\n",
       " \"Catastrophic Happiness: Finding Joy in Childhood's Messy Years\",\n",
       " 'Career of Evil (Cormoran Strike #3)',\n",
       " 'Born to Run: A Hidden Tribe, Superathletes, and the Greatest Race the World Has Never Seen',\n",
       " \"Best of My Love (Fool's Gold #20)\",\n",
       " 'Beowulf',\n",
       " 'Awkward',\n",
       " 'And Then There Were None',\n",
       " 'A Storm of Swords (A Song of Ice and Fire #3)',\n",
       " 'The Suffragettes (Little Black Classics, #96)',\n",
       " 'Vampire Girl (Vampire Girl #1)',\n",
       " 'Three Wishes (River of Time: California #1)',\n",
       " 'The Wicked + The Divine, Vol. 1: The Faust Act (The Wicked + The Divine)',\n",
       " 'The Little Prince',\n",
       " 'The Last Girl (The Dominion Trilogy #1)',\n",
       " 'Taking Shots (Assassins #1)',\n",
       " 'Settling the Score (The Summer Games #1)',\n",
       " 'Rhythm, Chord & Malykhin',\n",
       " 'One Second (Seven #7)',\n",
       " \"Old Records Never Die: One Man's Quest for His Vinyl and His Past\",\n",
       " 'Of Mice and Men',\n",
       " 'My Perfect Mistake (Over the Top #1)',\n",
       " 'Meditations',\n",
       " 'Frankenstein',\n",
       " 'Emma']"
      ]
     },
     "execution_count": 45,
     "metadata": {},
     "output_type": "execute_result"
    }
   ],
   "source": [
    "two_star_titles"
   ]
  },
  {
   "cell_type": "markdown",
   "metadata": {},
   "source": [
    "** Excellent! You should now have the tools necessary to scrape any websites that interest you! Keep in mind, the more complex the website, the harder it will be to scrape. Always ask for permission! **"
   ]
  }
 ],
 "metadata": {
  "anaconda-cloud": {},
  "kernelspec": {
   "display_name": "Python [conda env:base] *",
   "language": "python",
   "name": "conda-base-py"
  },
  "language_info": {
   "codemirror_mode": {
    "name": "ipython",
    "version": 3
   },
   "file_extension": ".py",
   "mimetype": "text/x-python",
   "name": "python",
   "nbconvert_exporter": "python",
   "pygments_lexer": "ipython3",
   "version": "3.12.2"
  }
 },
 "nbformat": 4,
 "nbformat_minor": 4
}
